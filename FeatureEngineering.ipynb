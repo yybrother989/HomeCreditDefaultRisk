{
 "cells": [
  {
   "cell_type": "markdown",
   "source": [
    "# Feature Engineering"
   ],
   "metadata": {
    "collapsed": false,
    "pycharm": {
     "name": "#%% md\n"
    }
   }
  },
  {
   "cell_type": "markdown",
   "source": [
    "## Categorical-to-Numerical conversion\n",
    "Before we look at the modeling, we need to learn about ways to represent categorical data as numerical data.\n",
    "\n",
    "Most of the scikit-learn models require numerical inputs, but we have a number of ways to convert data."
   ],
   "metadata": {
    "collapsed": false,
    "pycharm": {
     "name": "#%% md\n"
    }
   }
  },
  {
   "cell_type": "markdown",
   "source": [
    "### One-Hot Encoding Introduction\n",
    "One method of changing categorical values into numerical values (appropriate for when there is no inherent order to the categories) is called \"one-hot\" encoding. This takes a single column of categorical data with k categories and transforms it into k columns of binary 0/1 data, one column for each of the unique category values that existed in the column. Each row will have a $1$ in the column corresponding to its original categorical value, and a $0$ in all the other columns.\n",
    "\n",
    "Pandas comes with an easy, built-in method for carrying out this one-hot encoding process: `pd.get_dummies()`. It takes as input a Series (or DataFrame), and outputs a DataFrame with the categorical columns converted into sets of one-hot-encoded columns. (Any numerical columns are left unchanged.)\n",
    "\n",
    "Scikit-learn implements this slightly differently than pandas, via the `OneHotEncoder` as we shall see shortly."
   ],
   "metadata": {
    "collapsed": false,
    "pycharm": {
     "name": "#%% md\n"
    }
   }
  },
  {
   "cell_type": "markdown",
   "source": [
    "### Label Encoding Introduction\n",
    "The other major type of categorical-to-numerical encoding is called Label Encoding. This is suitable for when the categories have some inherent ordering to them, (i.e. the data is ordinal, not nominal). We can exploit this ordinality to make smarter encodings."
   ],
   "metadata": {
    "collapsed": false,
    "pycharm": {
     "name": "#%% md\n"
    }
   }
  },
  {
   "cell_type": "code",
   "execution_count": 56,
   "outputs": [],
   "source": [
    "# import the one-hot encoder from scikit-learn\n",
    "from sklearn.preprocessing import OneHotEncoder\n",
    "from sklearn.preprocessing import LabelEncoder"
   ],
   "metadata": {
    "collapsed": false,
    "pycharm": {
     "name": "#%%\n"
    }
   }
  },
  {
   "cell_type": "code",
   "execution_count": 57,
   "outputs": [],
   "source": [
    "# Create a functions that can count the number of classes in a categorical variable.\n",
    "def classes_count(df):\n",
    "    \"\"\"\n",
    "    This function counts the number of classes in each categorical column\n",
    "    :param df: dataframe you want to count the classes in\n",
    "    :return: categorical columns with number of classes\n",
    "    \"\"\"\n",
    "    cat_cols_classes= {}\n",
    "    cnt = 0\n",
    "    for column in df.select_dtypes(include='object').columns:\n",
    "        cat_cols_classes[column] = df[column].unique()\n",
    "        cnt += 1\n",
    "        print(column+' has '+str(len(cat_cols_classes[column]))+' classes')\n",
    "    print(f'{cnt} categorical columns found')\n",
    "    return cat_cols_classes\n",
    "\n",
    "\n"
   ],
   "metadata": {
    "collapsed": false,
    "pycharm": {
     "name": "#%%\n"
    }
   }
  },
  {
   "cell_type": "code",
   "execution_count": 58,
   "outputs": [],
   "source": [
    "# Create a function that can convert categorical columns to numerical columns using one-hot encoder.\n",
    "def onehot_encode(df,onehot_cols = None):\n",
    "    \"\"\"\n",
    "    This function converts categorical columns to numerical columns using one-hot encoding\n",
    "    :param df: dataframe you want to convert\n",
    "    :param onehot_cols: list of categorical columns you want to convert to numerical columns\n",
    "    :return:    dataframe with one-hot encoded columns\n",
    "    \"\"\"\n",
    "    # Initialize the one-hot encoder\n",
    "    enc = OneHotEncoder(handle_unknown='ignore',drop='first')\n",
    "    if onehot_cols is None:\n",
    "        onehot_cols = df.select_dtypes(include='object').columns\n",
    "    print('This dataframe has '+str(len(df.select_dtypes(include='object').columns))+' categorical columns')\n",
    "    print('We weill one-hot encode the '+str(len(onehot_cols))+' categorical columns')\n",
    "    # Apply one-hot encoding to each column with categorical data\n",
    "    for col in onehot_cols:\n",
    "        print(f'Encoding column {col} which has {df[col].nunique()} unique classes')\n",
    "        sub = pd.DataFrame(df[col])\n",
    "        encoded = enc.fit_transform(sub)\n",
    "        encoded_df = pd.DataFrame(encoded.toarray(), columns=enc.categories_[0][1:], dtype=int)\n",
    "        # Rename the columns using the original column names\n",
    "        encoded_df = encoded_df.add_prefix(col + '_')\n",
    "        # Remove the old column\n",
    "        df.drop(columns=col, inplace=True)\n",
    "        # Concatenate the new columns to the dataframe\n",
    "        df = pd.concat([df, encoded_df], axis=1)\n",
    "    return df\n",
    "\n"
   ],
   "metadata": {
    "collapsed": false,
    "pycharm": {
     "name": "#%%\n"
    }
   }
  },
  {
   "cell_type": "code",
   "execution_count": 59,
   "outputs": [],
   "source": [
    "# Create a function that can convert numerical columns to categorical columns using label encoder.\n",
    "def labelencoder (df,label_cols):\n",
    "    \"\"\"\n",
    "    This function converts numerical columns to categorical columns using label encoding\n",
    "    :param df:  dataframe you want to convert\n",
    "    :param label_cols:  list of numerical columns you want to convert to categorical columns using label encoding\n",
    "    :return:    dataframe with label encoded columns\n",
    "    \"\"\"\n",
    "\n",
    "    print('This dataframe has '+str(len(df.select_dtypes(include='object').columns))+' categorical columns')\n",
    "    print('We weill label encode the '+str(len(label_cols))+' categorical columns')\n",
    "    # Initialize the label encoder\n",
    "    enc = LabelEncoder()\n",
    "    # Loop through each column and apply label encoding\n",
    "    for col in label_cols:\n",
    "        print(f'Encoding column {col} which has {df[col].nunique()} unique classes')\n",
    "        sub = df[col].ravel()\n",
    "        # Fit the label encoder to the data\n",
    "        encoded = enc.fit(mapping[col])\n",
    "        encoded_df = pd.DataFrame(encoded.transform(sub))\n",
    "        # Rename the columns using the original column names\n",
    "        encoded_df = encoded_df.add_prefix(col + '_')\n",
    "        #Concatenate the new columns to the dataframe\n",
    "        df = pd.concat([df, encoded_df], axis=1)\n",
    "        #Remove the old column\n",
    "        df.drop(columns=col, inplace=True)\n",
    "\n",
    "    return df"
   ],
   "metadata": {
    "collapsed": false,
    "pycharm": {
     "name": "#%%\n"
    }
   }
  },
  {
   "cell_type": "markdown",
   "source": [
    "### Application categorical columns conversion to numerical columns"
   ],
   "metadata": {
    "collapsed": false,
    "pycharm": {
     "name": "#%% md\n"
    }
   }
  },
  {
   "cell_type": "code",
   "execution_count": 60,
   "outputs": [
    {
     "name": "stdout",
     "output_type": "stream",
     "text": [
      "NAME_CONTRACT_TYPE has 2 classes\n",
      "CODE_GENDER has 3 classes\n",
      "FLAG_OWN_CAR has 2 classes\n",
      "FLAG_OWN_REALTY has 2 classes\n",
      "NAME_TYPE_SUITE has 7 classes\n",
      "NAME_INCOME_TYPE has 8 classes\n",
      "NAME_EDUCATION_TYPE has 5 classes\n",
      "NAME_FAMILY_STATUS has 6 classes\n",
      "NAME_HOUSING_TYPE has 6 classes\n",
      "OCCUPATION_TYPE has 18 classes\n",
      "WEEKDAY_APPR_PROCESS_START has 7 classes\n",
      "ORGANIZATION_TYPE has 58 classes\n",
      "FONDKAPREMONT_MODE has 4 classes\n",
      "HOUSETYPE_MODE has 3 classes\n",
      "WALLSMATERIAL_MODE has 7 classes\n",
      "EMERGENCYSTATE_MODE has 2 classes\n",
      "16 categorical columns found\n"
     ]
    },
    {
     "data": {
      "text/plain": [
       "{'NAME_CONTRACT_TYPE': array(['Cash loans', 'Revolving loans'], dtype=object),\n",
       " 'CODE_GENDER': array(['M', 'F', 'XNA'], dtype=object),\n",
       " 'FLAG_OWN_CAR': array(['N', 'Y'], dtype=object),\n",
       " 'FLAG_OWN_REALTY': array(['Y', 'N'], dtype=object),\n",
       " 'NAME_TYPE_SUITE': array(['Unaccompanied', 'Family', 'Spouse, partner', 'Children',\n",
       "        'Other_A', 'Other_B', 'Group of people'], dtype=object),\n",
       " 'NAME_INCOME_TYPE': array(['Working', 'State servant', 'Commercial associate', 'Pensioner',\n",
       "        'Unemployed', 'Student', 'Businessman', 'Maternity leave'],\n",
       "       dtype=object),\n",
       " 'NAME_EDUCATION_TYPE': array(['Secondary / secondary special', 'Higher education',\n",
       "        'Incomplete higher', 'Lower secondary', 'Academic degree'],\n",
       "       dtype=object),\n",
       " 'NAME_FAMILY_STATUS': array(['Single / not married', 'Married', 'Civil marriage', 'Widow',\n",
       "        'Separated', 'Unknown'], dtype=object),\n",
       " 'NAME_HOUSING_TYPE': array(['House / apartment', 'Rented apartment', 'With parents',\n",
       "        'Municipal apartment', 'Office apartment', 'Co-op apartment'],\n",
       "       dtype=object),\n",
       " 'OCCUPATION_TYPE': array(['Laborers', 'Core staff', 'Accountants', 'Managers', 'Drivers',\n",
       "        'Sales staff', 'Cleaning staff', 'Cooking staff',\n",
       "        'Private service staff', 'Medicine staff', 'Security staff',\n",
       "        'High skill tech staff', 'Waiters/barmen staff',\n",
       "        'Low-skill Laborers', 'Realty agents', 'Secretaries', 'IT staff',\n",
       "        'HR staff'], dtype=object),\n",
       " 'WEEKDAY_APPR_PROCESS_START': array(['WEDNESDAY', 'MONDAY', 'THURSDAY', 'SUNDAY', 'SATURDAY', 'FRIDAY',\n",
       "        'TUESDAY'], dtype=object),\n",
       " 'ORGANIZATION_TYPE': array(['Business Entity Type 3', 'School', 'Government', 'Religion',\n",
       "        'Other', 'XNA', 'Electricity', 'Medicine',\n",
       "        'Business Entity Type 2', 'Self-employed', 'Transport: type 2',\n",
       "        'Construction', 'Housing', 'Kindergarten', 'Trade: type 7',\n",
       "        'Industry: type 11', 'Military', 'Services', 'Security Ministries',\n",
       "        'Transport: type 4', 'Industry: type 1', 'Emergency', 'Security',\n",
       "        'Trade: type 2', 'University', 'Transport: type 3', 'Police',\n",
       "        'Business Entity Type 1', 'Postal', 'Industry: type 4',\n",
       "        'Agriculture', 'Restaurant', 'Culture', 'Hotel',\n",
       "        'Industry: type 7', 'Trade: type 3', 'Industry: type 3', 'Bank',\n",
       "        'Industry: type 9', 'Insurance', 'Trade: type 6',\n",
       "        'Industry: type 2', 'Transport: type 1', 'Industry: type 12',\n",
       "        'Mobile', 'Trade: type 1', 'Industry: type 5', 'Industry: type 10',\n",
       "        'Legal Services', 'Advertising', 'Trade: type 5', 'Cleaning',\n",
       "        'Industry: type 13', 'Trade: type 4', 'Telecom',\n",
       "        'Industry: type 8', 'Realtor', 'Industry: type 6'], dtype=object),\n",
       " 'FONDKAPREMONT_MODE': array(['reg oper account', 'org spec account', 'reg oper spec account',\n",
       "        'not specified'], dtype=object),\n",
       " 'HOUSETYPE_MODE': array(['block of flats', 'terraced house', 'specific housing'],\n",
       "       dtype=object),\n",
       " 'WALLSMATERIAL_MODE': array(['Stone, brick', 'Block', 'Panel', 'Mixed', 'Wooden', 'Others',\n",
       "        'Monolithic'], dtype=object),\n",
       " 'EMERGENCYSTATE_MODE': array(['No', 'Yes'], dtype=object)}"
      ]
     },
     "execution_count": 60,
     "metadata": {},
     "output_type": "execute_result"
    }
   ],
   "source": [
    "# Check the number of classes in each categorical column\n",
    "classes_count(application_train)"
   ],
   "metadata": {
    "collapsed": false,
    "pycharm": {
     "name": "#%%\n"
    }
   }
  },
  {
   "cell_type": "markdown",
   "source": [
    "We found that the columns of `WEEKDAY_APPR_START` and `NAME_EDUCATION_TYPE` have internal orders between classes."
   ],
   "metadata": {
    "collapsed": false,
    "pycharm": {
     "name": "#%% md\n"
    }
   }
  },
  {
   "cell_type": "code",
   "execution_count": 61,
   "outputs": [],
   "source": [
    "# Convert categorical columns to numerical columns using one-hot encoding\n",
    "application_label_encode_col = ['WEEKDAY_APPR_PROCESS_START','NAME_EDUCATION_TYPE']"
   ],
   "metadata": {
    "collapsed": false,
    "pycharm": {
     "name": "#%%\n"
    }
   }
  },
  {
   "cell_type": "markdown",
   "source": [
    "#### One-Hot Encoding"
   ],
   "metadata": {
    "collapsed": false,
    "pycharm": {
     "name": "#%% md\n"
    }
   }
  },
  {
   "cell_type": "code",
   "execution_count": 64,
   "outputs": [
    {
     "data": {
      "text/plain": [
       "Index(['CODE_GENDER', 'EMERGENCYSTATE_MODE', 'FLAG_OWN_CAR', 'FLAG_OWN_REALTY',\n",
       "       'FONDKAPREMONT_MODE', 'HOUSETYPE_MODE', 'NAME_CONTRACT_TYPE',\n",
       "       'NAME_FAMILY_STATUS', 'NAME_HOUSING_TYPE', 'NAME_INCOME_TYPE',\n",
       "       'NAME_TYPE_SUITE', 'OCCUPATION_TYPE', 'ORGANIZATION_TYPE',\n",
       "       'WALLSMATERIAL_MODE'],\n",
       "      dtype='object')"
      ]
     },
     "execution_count": 64,
     "metadata": {},
     "output_type": "execute_result"
    }
   ],
   "source": [
    "# Convert categorical columns to numerical columns using one-hot encoding\n",
    "application_one_hot_cols = application_train.select_dtypes(include='object').columns.difference(application_label_encode_col)\n",
    "application_one_hot_cols"
   ],
   "metadata": {
    "collapsed": false,
    "pycharm": {
     "name": "#%%\n"
    }
   }
  },
  {
   "cell_type": "code",
   "execution_count": 65,
   "outputs": [
    {
     "name": "stdout",
     "output_type": "stream",
     "text": [
      "This dataframe has 16 categorical columns\n",
      "We weill one-hot encode the 14 categorical columns\n",
      "Encoding column CODE_GENDER which has 3 unique classes\n",
      "Encoding column EMERGENCYSTATE_MODE which has 2 unique classes\n",
      "Encoding column FLAG_OWN_CAR which has 2 unique classes\n",
      "Encoding column FLAG_OWN_REALTY which has 2 unique classes\n",
      "Encoding column FONDKAPREMONT_MODE which has 4 unique classes\n",
      "Encoding column HOUSETYPE_MODE which has 3 unique classes\n",
      "Encoding column NAME_CONTRACT_TYPE which has 2 unique classes\n",
      "Encoding column NAME_FAMILY_STATUS which has 6 unique classes\n",
      "Encoding column NAME_HOUSING_TYPE which has 6 unique classes\n",
      "Encoding column NAME_INCOME_TYPE which has 8 unique classes\n",
      "Encoding column NAME_TYPE_SUITE which has 7 unique classes\n",
      "Encoding column OCCUPATION_TYPE which has 18 unique classes\n",
      "Encoding column ORGANIZATION_TYPE which has 58 unique classes\n",
      "Encoding column WALLSMATERIAL_MODE which has 7 unique classes\n"
     ]
    }
   ],
   "source": [
    "# Convert categorical columns to numerical columns using one-hot encoding\n",
    "application_train_encoded = onehot_encode(application_train,application_one_hot_cols)"
   ],
   "metadata": {
    "collapsed": false,
    "pycharm": {
     "name": "#%%\n"
    }
   }
  },
  {
   "cell_type": "markdown",
   "source": [
    "#### Label Encoding"
   ],
   "metadata": {
    "collapsed": false,
    "pycharm": {
     "name": "#%% md\n"
    }
   }
  },
  {
   "cell_type": "code",
   "execution_count": 67,
   "outputs": [
    {
     "name": "stdout",
     "output_type": "stream",
     "text": [
      "This dataframe has 2 categorical columns\n",
      "We weill label encode the 2 categorical columns\n",
      "Encoding column WEEKDAY_APPR_PROCESS_START which has 7 unique classes\n",
      "Encoding column NAME_EDUCATION_TYPE which has 5 unique classes\n"
     ]
    }
   ],
   "source": [
    "# Convert categorical columns to numerical columns using label encoding\n",
    "application_train_lencoded = labelencoder(application_train_encoded,application_label_encode_col)"
   ],
   "metadata": {
    "collapsed": false,
    "pycharm": {
     "name": "#%%\n"
    }
   }
  },
  {
   "cell_type": "markdown",
   "source": [
    "### Previous application categorical columns conversion to numerical columns"
   ],
   "metadata": {
    "collapsed": false,
    "pycharm": {
     "name": "#%% md\n"
    }
   }
  },
  {
   "cell_type": "markdown",
   "source": [
    "#### One-Hot Encoding"
   ],
   "metadata": {
    "collapsed": false,
    "pycharm": {
     "name": "#%% md\n"
    }
   }
  },
  {
   "cell_type": "code",
   "execution_count": 68,
   "outputs": [
    {
     "name": "stdout",
     "output_type": "stream",
     "text": [
      "NAME_CONTRACT_TYPE_x has 4 classes\n",
      "WEEKDAY_APPR_PROCESS_START_x has 7 classes\n",
      "FLAG_LAST_APPL_PER_CONTRACT has 2 classes\n",
      "NAME_CASH_LOAN_PURPOSE has 25 classes\n",
      "NAME_CONTRACT_STATUS has 4 classes\n",
      "NAME_PAYMENT_TYPE has 4 classes\n",
      "CODE_REJECT_REASON has 9 classes\n",
      "NAME_TYPE_SUITE_x has 7 classes\n",
      "NAME_CLIENT_TYPE has 4 classes\n",
      "NAME_GOODS_CATEGORY has 27 classes\n",
      "NAME_PORTFOLIO has 5 classes\n",
      "NAME_PRODUCT_TYPE has 3 classes\n",
      "CHANNEL_TYPE has 8 classes\n",
      "NAME_SELLER_INDUSTRY has 11 classes\n",
      "NAME_YIELD_GROUP has 5 classes\n",
      "PRODUCT_COMBINATION has 17 classes\n",
      "NAME_CONTRACT_TYPE_y has 2 classes\n",
      "CODE_GENDER has 3 classes\n",
      "FLAG_OWN_CAR has 2 classes\n",
      "FLAG_OWN_REALTY has 2 classes\n",
      "NAME_TYPE_SUITE_y has 7 classes\n",
      "NAME_INCOME_TYPE has 7 classes\n",
      "NAME_EDUCATION_TYPE has 5 classes\n",
      "NAME_FAMILY_STATUS has 5 classes\n",
      "NAME_HOUSING_TYPE has 6 classes\n",
      "OCCUPATION_TYPE has 18 classes\n",
      "WEEKDAY_APPR_PROCESS_START_y has 7 classes\n",
      "ORGANIZATION_TYPE has 58 classes\n",
      "FONDKAPREMONT_MODE has 4 classes\n",
      "HOUSETYPE_MODE has 3 classes\n",
      "WALLSMATERIAL_MODE has 7 classes\n",
      "EMERGENCYSTATE_MODE has 2 classes\n",
      "32 categorical columns found\n"
     ]
    },
    {
     "data": {
      "text/plain": [
       "{'NAME_CONTRACT_TYPE_x': array(['Consumer loans', 'Cash loans', 'Revolving loans', 'XNA'],\n",
       "       dtype=object),\n",
       " 'WEEKDAY_APPR_PROCESS_START_x': array(['SATURDAY', 'SUNDAY', 'THURSDAY', 'WEDNESDAY', 'TUESDAY', 'FRIDAY',\n",
       "        'MONDAY'], dtype=object),\n",
       " 'FLAG_LAST_APPL_PER_CONTRACT': array(['Y', 'N'], dtype=object),\n",
       " 'NAME_CASH_LOAN_PURPOSE': array(['XAP', 'XNA', 'Other', 'Buying a holiday home / land', 'Repairs',\n",
       "        'Everyday expenses', 'Payments on other loans', 'Urgent needs',\n",
       "        'Refusal to name the goal', 'Journey', 'Furniture',\n",
       "        'Buying a garage', 'Building a house or an annex', 'Education',\n",
       "        'Wedding / gift / holiday', 'Buying a home', 'Medicine',\n",
       "        'Purchase of electronic equipment', 'Buying a used car',\n",
       "        'Buying a new car', 'Car repairs', 'Business development', 'Hobby',\n",
       "        'Gasification / water supply', 'Money for a third person'],\n",
       "       dtype=object),\n",
       " 'NAME_CONTRACT_STATUS': array(['Approved', 'Refused', 'Canceled', 'Unused offer'], dtype=object),\n",
       " 'NAME_PAYMENT_TYPE': array(['Cash through the bank', 'XNA',\n",
       "        'Cashless from the account of the employer',\n",
       "        'Non-cash from your account'], dtype=object),\n",
       " 'CODE_REJECT_REASON': array(['XAP', 'SCO', 'HC', 'SCOFR', 'LIMIT', 'XNA', 'CLIENT', 'VERIF',\n",
       "        'SYSTEM'], dtype=object),\n",
       " 'NAME_TYPE_SUITE_x': array(['Unaccompanied', 'Family', 'Spouse, partner', 'Children',\n",
       "        'Other_A', 'Other_B', 'Group of people'], dtype=object),\n",
       " 'NAME_CLIENT_TYPE': array(['Repeater', 'New', 'Refreshed', 'XNA'], dtype=object),\n",
       " 'NAME_GOODS_CATEGORY': array(['Mobile', 'Clothing and Accessories', 'Furniture', 'XNA',\n",
       "        'Audio/Video', 'Consumer Electronics', 'Computers',\n",
       "        'Photo / Cinema Equipment', 'Sport and Leisure',\n",
       "        'Auto Accessories', 'Construction Materials', 'Medicine',\n",
       "        'Homewares', 'Medical Supplies', 'Gardening', 'Jewelry',\n",
       "        'Office Appliances', 'Other', 'Tourism', 'Vehicles',\n",
       "        'Direct Sales', 'Weapon', 'Fitness', 'Education', 'Insurance',\n",
       "        'Additional Service', 'Animals'], dtype=object),\n",
       " 'NAME_PORTFOLIO': array(['POS', 'Cash', 'Cards', 'XNA', 'Cars'], dtype=object),\n",
       " 'NAME_PRODUCT_TYPE': array(['XNA', 'x-sell', 'walk-in'], dtype=object),\n",
       " 'CHANNEL_TYPE': array(['Country-wide', 'Regional / Local', 'Stone', 'Contact center',\n",
       "        'AP+ (Cash loan)', 'Credit and cash offices',\n",
       "        'Channel of corporate sales', 'Car dealer'], dtype=object),\n",
       " 'NAME_SELLER_INDUSTRY': array(['Connectivity', 'Furniture', 'XNA', 'Consumer electronics',\n",
       "        'Industry', 'Clothing', 'Construction', 'Auto technology',\n",
       "        'Jewelry', 'Tourism', 'MLM partners'], dtype=object),\n",
       " 'NAME_YIELD_GROUP': array(['middle', 'low_normal', 'low_action', 'high', 'XNA'], dtype=object),\n",
       " 'PRODUCT_COMBINATION': array(['POS mobile with interest', 'POS industry with interest',\n",
       "        'Cash X-Sell: low', 'POS household with interest', 'Card X-Sell',\n",
       "        'Cash X-Sell: high', 'Card Street', 'Cash', 'Cash X-Sell: middle',\n",
       "        'Cash Street: high', 'POS household without interest',\n",
       "        'Cash Street: middle', 'Cash Street: low',\n",
       "        'POS other with interest', 'POS industry without interest',\n",
       "        'POS mobile without interest', 'POS others without interest'],\n",
       "       dtype=object),\n",
       " 'NAME_CONTRACT_TYPE_y': array(['Cash loans', 'Revolving loans'], dtype=object),\n",
       " 'CODE_GENDER': array(['F', 'M', 'XNA'], dtype=object),\n",
       " 'FLAG_OWN_CAR': array(['N', 'Y'], dtype=object),\n",
       " 'FLAG_OWN_REALTY': array(['Y', 'N'], dtype=object),\n",
       " 'NAME_TYPE_SUITE_y': array(['Unaccompanied', 'Family', 'Spouse, partner', 'Other_A',\n",
       "        'Children', 'Other_B', 'Group of people'], dtype=object),\n",
       " 'NAME_INCOME_TYPE': array(['State servant', 'Commercial associate', 'Working', 'Pensioner',\n",
       "        'Unemployed', 'Student', 'Maternity leave'], dtype=object),\n",
       " 'NAME_EDUCATION_TYPE': array(['Incomplete higher', 'Secondary / secondary special',\n",
       "        'Higher education', 'Lower secondary', 'Academic degree'],\n",
       "       dtype=object),\n",
       " 'NAME_FAMILY_STATUS': array(['Married', 'Civil marriage', 'Single / not married', 'Widow',\n",
       "        'Separated'], dtype=object),\n",
       " 'NAME_HOUSING_TYPE': array(['House / apartment', 'Rented apartment', 'Municipal apartment',\n",
       "        'With parents', 'Office apartment', 'Co-op apartment'],\n",
       "       dtype=object),\n",
       " 'OCCUPATION_TYPE': array(['Laborers', 'Private service staff', 'Core staff', 'Drivers',\n",
       "        'Sales staff', 'Security staff', 'Cleaning staff', 'Managers',\n",
       "        'High skill tech staff', 'Cooking staff', 'Accountants',\n",
       "        'Medicine staff', 'Low-skill Laborers', 'Realty agents',\n",
       "        'Waiters/barmen staff', 'IT staff', 'Secretaries', 'HR staff'],\n",
       "       dtype=object),\n",
       " 'WEEKDAY_APPR_PROCESS_START_y': array(['TUESDAY', 'SUNDAY', 'MONDAY', 'THURSDAY', 'FRIDAY', 'WEDNESDAY',\n",
       "        'SATURDAY'], dtype=object),\n",
       " 'ORGANIZATION_TYPE': array(['Military', 'Self-employed', 'Postal', 'XNA',\n",
       "        'Security Ministries', 'Business Entity Type 3', 'Housing',\n",
       "        'Industry: type 3', 'Security', 'Kindergarten',\n",
       "        'Transport: type 3', 'Government', 'Restaurant', 'Trade: type 3',\n",
       "        'Medicine', 'Business Entity Type 1', 'Other', 'Bank',\n",
       "        'Trade: type 7', 'Trade: type 2', 'Transport: type 4',\n",
       "        'Business Entity Type 2', 'Construction', 'Industry: type 9',\n",
       "        'Transport: type 1', 'Agriculture', 'School', 'Services',\n",
       "        'Religion', 'Industry: type 1', 'Industry: type 11',\n",
       "        'Industry: type 7', 'Police', 'Hotel', 'Telecom',\n",
       "        'Industry: type 4', 'Transport: type 2', 'University', 'Cleaning',\n",
       "        'Industry: type 13', 'Advertising', 'Legal Services',\n",
       "        'Industry: type 5', 'Industry: type 12', 'Culture',\n",
       "        'Industry: type 2', 'Mobile', 'Insurance', 'Industry: type 8',\n",
       "        'Trade: type 1', 'Electricity', 'Emergency', 'Trade: type 6',\n",
       "        'Realtor', 'Industry: type 10', 'Trade: type 5',\n",
       "        'Industry: type 6', 'Trade: type 4'], dtype=object),\n",
       " 'FONDKAPREMONT_MODE': array(['reg oper account', 'reg oper spec account', 'org spec account',\n",
       "        'not specified'], dtype=object),\n",
       " 'HOUSETYPE_MODE': array(['block of flats', 'terraced house', 'specific housing'],\n",
       "       dtype=object),\n",
       " 'WALLSMATERIAL_MODE': array(['Stone, brick', 'Panel', 'Wooden', 'Block', 'Mixed', 'Others',\n",
       "        'Monolithic'], dtype=object),\n",
       " 'EMERGENCYSTATE_MODE': array(['No', 'Yes'], dtype=object)}"
      ]
     },
     "execution_count": 68,
     "metadata": {},
     "output_type": "execute_result"
    }
   ],
   "source": [
    "# Check the number of classes in each categorical column\n",
    "classes_count(previous_application_application)"
   ],
   "metadata": {
    "collapsed": false,
    "pycharm": {
     "name": "#%%\n"
    }
   }
  },
  {
   "cell_type": "markdown",
   "source": [
    "All categorical columns can be converted to numerical columns using one-hot encoding."
   ],
   "metadata": {
    "collapsed": false,
    "pycharm": {
     "name": "#%% md\n"
    }
   }
  },
  {
   "cell_type": "code",
   "execution_count": 69,
   "outputs": [
    {
     "name": "stdout",
     "output_type": "stream",
     "text": [
      "This dataframe has 16 categorical columns\n",
      "We weill one-hot encode the 16 categorical columns\n",
      "Encoding column NAME_CONTRACT_TYPE which has 4 unique classes\n",
      "Encoding column WEEKDAY_APPR_PROCESS_START which has 7 unique classes\n",
      "Encoding column FLAG_LAST_APPL_PER_CONTRACT which has 2 unique classes\n",
      "Encoding column NAME_CASH_LOAN_PURPOSE which has 25 unique classes\n",
      "Encoding column NAME_CONTRACT_STATUS which has 4 unique classes\n",
      "Encoding column NAME_PAYMENT_TYPE which has 4 unique classes\n",
      "Encoding column CODE_REJECT_REASON which has 9 unique classes\n",
      "Encoding column NAME_TYPE_SUITE which has 7 unique classes\n",
      "Encoding column NAME_CLIENT_TYPE which has 4 unique classes\n",
      "Encoding column NAME_GOODS_CATEGORY which has 28 unique classes\n",
      "Encoding column NAME_PORTFOLIO which has 5 unique classes\n",
      "Encoding column NAME_PRODUCT_TYPE which has 3 unique classes\n",
      "Encoding column CHANNEL_TYPE which has 8 unique classes\n",
      "Encoding column NAME_SELLER_INDUSTRY which has 11 unique classes\n",
      "Encoding column NAME_YIELD_GROUP which has 5 unique classes\n",
      "Encoding column PRODUCT_COMBINATION which has 17 unique classes\n"
     ]
    }
   ],
   "source": [
    "previous_application_encoded = onehot_encode(previous_application)"
   ],
   "metadata": {
    "collapsed": false,
    "pycharm": {
     "name": "#%%\n"
    }
   }
  },
  {
   "cell_type": "markdown",
   "source": [
    "### Bureau categorical columns conversion to numerical columns"
   ],
   "metadata": {
    "collapsed": false,
    "pycharm": {
     "name": "#%% md\n"
    }
   }
  },
  {
   "cell_type": "markdown",
   "source": [
    "#### One-Hot Encoding"
   ],
   "metadata": {
    "collapsed": false,
    "pycharm": {
     "name": "#%% md\n"
    }
   }
  },
  {
   "cell_type": "code",
   "execution_count": 71,
   "outputs": [
    {
     "name": "stdout",
     "output_type": "stream",
     "text": [
      "CREDIT_ACTIVE has 4 classes\n",
      "CREDIT_CURRENCY has 4 classes\n",
      "CREDIT_TYPE has 15 classes\n",
      "3 categorical columns found\n"
     ]
    },
    {
     "data": {
      "text/plain": [
       "{'CREDIT_ACTIVE': array(['Closed', 'Active', 'Sold', 'Bad debt'], dtype=object),\n",
       " 'CREDIT_CURRENCY': array(['currency 1', 'currency 2', 'currency 4', 'currency 3'],\n",
       "       dtype=object),\n",
       " 'CREDIT_TYPE': array(['Consumer credit', 'Credit card', 'Mortgage', 'Car loan',\n",
       "        'Microloan', 'Loan for working capital replenishment',\n",
       "        'Loan for business development', 'Real estate loan',\n",
       "        'Unknown type of loan', 'Another type of loan',\n",
       "        'Cash loan (non-earmarked)', 'Loan for the purchase of equipment',\n",
       "        'Mobile operator loan', 'Interbank credit',\n",
       "        'Loan for purchase of shares (margin lending)'], dtype=object)}"
      ]
     },
     "execution_count": 71,
     "metadata": {},
     "output_type": "execute_result"
    }
   ],
   "source": [
    "# Check the number of classes in each categorical column\n",
    "classes_count(bureau)"
   ],
   "metadata": {
    "collapsed": false,
    "pycharm": {
     "name": "#%%\n"
    }
   }
  },
  {
   "cell_type": "markdown",
   "source": [
    "All categorical columns can be converted to numerical columns using one-hot encoding."
   ],
   "metadata": {
    "collapsed": false,
    "pycharm": {
     "name": "#%% md\n"
    }
   }
  },
  {
   "cell_type": "code",
   "execution_count": 72,
   "outputs": [
    {
     "name": "stdout",
     "output_type": "stream",
     "text": [
      "This dataframe has 3 categorical columns\n",
      "We weill one-hot encode the 3 categorical columns\n",
      "Encoding column CREDIT_ACTIVE which has 4 unique classes\n",
      "Encoding column CREDIT_CURRENCY which has 4 unique classes\n",
      "Encoding column CREDIT_TYPE which has 15 unique classes\n"
     ]
    }
   ],
   "source": [
    "bureau_encoded = onehot_encode(bureau)"
   ],
   "metadata": {
    "collapsed": false,
    "pycharm": {
     "name": "#%%\n"
    }
   }
  },
  {
   "cell_type": "markdown",
   "source": [
    "## Creating New Features\n",
    "Feature engineering refers to a geneal process and can involve both feature construction: adding new features from the existing data, and feature selection: choosing only the most important features or other methods of dimensionality reduction. There are many techniques we can use to both create features and select features.\n",
    "We will do a lot of feature engineering when we start using the other data sources, but in this notebook we will try only two simple feature construction methods:\n",
    "- Polynomial features\n",
    "- Domain knowledge features"
   ],
   "metadata": {
    "collapsed": false,
    "pycharm": {
     "name": "#%% md\n"
    }
   }
  },
  {
   "cell_type": "markdown",
   "source": [
    "### Polynomial features"
   ],
   "metadata": {
    "collapsed": false,
    "pycharm": {
     "name": "#%% md\n"
    }
   }
  },
  {
   "cell_type": "markdown",
   "source": [
    "One simple feature construction method is called polynomial features. In this method, we make features that are powers of existing features as well as interaction terms between existing features. For example, we can create variables `EXT_SOURCE_1^2` and `EXT_SOURCE_2^ 2 ` and also variables such as `EXT_SOURCE_1 x EXT_SOURCE_2`, `EXT_SOURCE_1 x EXT_SOURCE_2^2`, `EXT_SOURCE_1^2 x EXT_SOURCE_2^2`, which are independent variables highly correlated to target variables. These features that are a combination of multiple individual variables are called interaction terms because they capture the interactions between variables. In other words, while two variables by themselves may not have a strong influence on the target, combining them together into a single interaction variable might show a relationship with the target. Here we only add the interaction terms among variables highly correlated to the target."
   ],
   "metadata": {
    "collapsed": false,
    "pycharm": {
     "name": "#%% md\n"
    }
   }
  },
  {
   "cell_type": "code",
   "execution_count": 74,
   "outputs": [],
   "source": [
    "# In the EDA session, we checked a list of features that are highly correlated to the target.\n",
    "#Now we store them into a list\n",
    "high_corr_cols = ['EXT_SOURCE_1','EXT_SOURCE_2','EXT_SOURCE_3','DAYS_BIRTH']"
   ],
   "metadata": {
    "collapsed": false,
    "pycharm": {
     "name": "#%%\n"
    }
   }
  },
  {
   "cell_type": "code",
   "execution_count": 75,
   "outputs": [],
   "source": [
    "# We will use the list to create polynomial features\n",
    "from sklearn.preprocessing import PolynomialFeatures"
   ],
   "metadata": {
    "collapsed": false,
    "pycharm": {
     "name": "#%%\n"
    }
   }
  },
  {
   "cell_type": "code",
   "execution_count": 76,
   "outputs": [
    {
     "name": "stderr",
     "output_type": "stream",
     "text": [
      "/Users/yuegao/opt/anaconda3/envs/capstone_proj/lib/python3.9/site-packages/sklearn/utils/deprecation.py:87: FutureWarning:\n",
      "\n",
      "Function get_feature_names is deprecated; get_feature_names is deprecated in 1.0 and will be removed in 1.2. Please use get_feature_names_out instead.\n",
      "\n"
     ]
    },
    {
     "data": {
      "text/html": [
       "<div>\n",
       "<style scoped>\n",
       "    .dataframe tbody tr th:only-of-type {\n",
       "        vertical-align: middle;\n",
       "    }\n",
       "\n",
       "    .dataframe tbody tr th {\n",
       "        vertical-align: top;\n",
       "    }\n",
       "\n",
       "    .dataframe thead th {\n",
       "        text-align: right;\n",
       "    }\n",
       "</style>\n",
       "<table border=\"1\" class=\"dataframe\">\n",
       "  <thead>\n",
       "    <tr style=\"text-align: right;\">\n",
       "      <th></th>\n",
       "      <th>x0</th>\n",
       "      <th>x1</th>\n",
       "      <th>x2</th>\n",
       "      <th>x3</th>\n",
       "      <th>x0^2</th>\n",
       "      <th>x0 x1</th>\n",
       "      <th>x0 x2</th>\n",
       "      <th>x0 x3</th>\n",
       "      <th>x1^2</th>\n",
       "      <th>x1 x2</th>\n",
       "      <th>...</th>\n",
       "      <th>x1^3</th>\n",
       "      <th>x1^2 x2</th>\n",
       "      <th>x1^2 x3</th>\n",
       "      <th>x1 x2^2</th>\n",
       "      <th>x1 x2 x3</th>\n",
       "      <th>x1 x3^2</th>\n",
       "      <th>x2^3</th>\n",
       "      <th>x2^2 x3</th>\n",
       "      <th>x2 x3^2</th>\n",
       "      <th>x3^3</th>\n",
       "    </tr>\n",
       "  </thead>\n",
       "  <tbody>\n",
       "    <tr>\n",
       "      <th>0</th>\n",
       "      <td>0.083037</td>\n",
       "      <td>0.262949</td>\n",
       "      <td>0.139376</td>\n",
       "      <td>-9461.0</td>\n",
       "      <td>0.006895</td>\n",
       "      <td>0.021834</td>\n",
       "      <td>0.011573</td>\n",
       "      <td>-785.612748</td>\n",
       "      <td>0.069142</td>\n",
       "      <td>0.036649</td>\n",
       "      <td>...</td>\n",
       "      <td>0.018181</td>\n",
       "      <td>0.009637</td>\n",
       "      <td>-654.152107</td>\n",
       "      <td>0.005108</td>\n",
       "      <td>-346.733022</td>\n",
       "      <td>2.353667e+07</td>\n",
       "      <td>0.002707</td>\n",
       "      <td>-183.785678</td>\n",
       "      <td>1.247560e+07</td>\n",
       "      <td>-8.468590e+11</td>\n",
       "    </tr>\n",
       "    <tr>\n",
       "      <th>1</th>\n",
       "      <td>0.311267</td>\n",
       "      <td>0.622246</td>\n",
       "      <td>0.510853</td>\n",
       "      <td>-16765.0</td>\n",
       "      <td>0.096887</td>\n",
       "      <td>0.193685</td>\n",
       "      <td>0.159012</td>\n",
       "      <td>-5218.396475</td>\n",
       "      <td>0.387190</td>\n",
       "      <td>0.317876</td>\n",
       "      <td>...</td>\n",
       "      <td>0.240927</td>\n",
       "      <td>0.197797</td>\n",
       "      <td>-6491.237078</td>\n",
       "      <td>0.162388</td>\n",
       "      <td>-5329.192190</td>\n",
       "      <td>1.748916e+08</td>\n",
       "      <td>0.133318</td>\n",
       "      <td>-4375.173647</td>\n",
       "      <td>1.435830e+08</td>\n",
       "      <td>-4.712058e+12</td>\n",
       "    </tr>\n",
       "    <tr>\n",
       "      <th>2</th>\n",
       "      <td>0.502130</td>\n",
       "      <td>0.555912</td>\n",
       "      <td>0.729567</td>\n",
       "      <td>-19046.0</td>\n",
       "      <td>0.252134</td>\n",
       "      <td>0.279140</td>\n",
       "      <td>0.366337</td>\n",
       "      <td>-9563.564279</td>\n",
       "      <td>0.309038</td>\n",
       "      <td>0.405575</td>\n",
       "      <td>...</td>\n",
       "      <td>0.171798</td>\n",
       "      <td>0.225464</td>\n",
       "      <td>-5885.942404</td>\n",
       "      <td>0.295894</td>\n",
       "      <td>-7724.580288</td>\n",
       "      <td>2.016572e+08</td>\n",
       "      <td>0.388325</td>\n",
       "      <td>-10137.567875</td>\n",
       "      <td>2.646504e+08</td>\n",
       "      <td>-6.908939e+12</td>\n",
       "    </tr>\n",
       "    <tr>\n",
       "      <th>3</th>\n",
       "      <td>0.502130</td>\n",
       "      <td>0.650442</td>\n",
       "      <td>0.510853</td>\n",
       "      <td>-19005.0</td>\n",
       "      <td>0.252134</td>\n",
       "      <td>0.326606</td>\n",
       "      <td>0.256514</td>\n",
       "      <td>-9542.976957</td>\n",
       "      <td>0.423074</td>\n",
       "      <td>0.332280</td>\n",
       "      <td>...</td>\n",
       "      <td>0.275185</td>\n",
       "      <td>0.216129</td>\n",
       "      <td>-8040.528832</td>\n",
       "      <td>0.169746</td>\n",
       "      <td>-6314.981929</td>\n",
       "      <td>2.349331e+08</td>\n",
       "      <td>0.133318</td>\n",
       "      <td>-4959.747997</td>\n",
       "      <td>1.845150e+08</td>\n",
       "      <td>-6.864416e+12</td>\n",
       "    </tr>\n",
       "    <tr>\n",
       "      <th>4</th>\n",
       "      <td>0.502130</td>\n",
       "      <td>0.322738</td>\n",
       "      <td>0.510853</td>\n",
       "      <td>-19932.0</td>\n",
       "      <td>0.252134</td>\n",
       "      <td>0.162057</td>\n",
       "      <td>0.256514</td>\n",
       "      <td>-10008.451286</td>\n",
       "      <td>0.104160</td>\n",
       "      <td>0.164872</td>\n",
       "      <td>...</td>\n",
       "      <td>0.033616</td>\n",
       "      <td>0.053210</td>\n",
       "      <td>-2076.117157</td>\n",
       "      <td>0.084225</td>\n",
       "      <td>-3286.224555</td>\n",
       "      <td>1.282190e+08</td>\n",
       "      <td>0.133318</td>\n",
       "      <td>-5201.667828</td>\n",
       "      <td>2.029540e+08</td>\n",
       "      <td>-7.918677e+12</td>\n",
       "    </tr>\n",
       "  </tbody>\n",
       "</table>\n",
       "<p>5 rows × 34 columns</p>\n",
       "</div>"
      ],
      "text/plain": [
       "         x0        x1        x2       x3      x0^2     x0 x1     x0 x2  \\\n",
       "0  0.083037  0.262949  0.139376  -9461.0  0.006895  0.021834  0.011573   \n",
       "1  0.311267  0.622246  0.510853 -16765.0  0.096887  0.193685  0.159012   \n",
       "2  0.502130  0.555912  0.729567 -19046.0  0.252134  0.279140  0.366337   \n",
       "3  0.502130  0.650442  0.510853 -19005.0  0.252134  0.326606  0.256514   \n",
       "4  0.502130  0.322738  0.510853 -19932.0  0.252134  0.162057  0.256514   \n",
       "\n",
       "          x0 x3      x1^2     x1 x2  ...      x1^3   x1^2 x2      x1^2 x3  \\\n",
       "0   -785.612748  0.069142  0.036649  ...  0.018181  0.009637  -654.152107   \n",
       "1  -5218.396475  0.387190  0.317876  ...  0.240927  0.197797 -6491.237078   \n",
       "2  -9563.564279  0.309038  0.405575  ...  0.171798  0.225464 -5885.942404   \n",
       "3  -9542.976957  0.423074  0.332280  ...  0.275185  0.216129 -8040.528832   \n",
       "4 -10008.451286  0.104160  0.164872  ...  0.033616  0.053210 -2076.117157   \n",
       "\n",
       "    x1 x2^2     x1 x2 x3       x1 x3^2      x2^3       x2^2 x3       x2 x3^2  \\\n",
       "0  0.005108  -346.733022  2.353667e+07  0.002707   -183.785678  1.247560e+07   \n",
       "1  0.162388 -5329.192190  1.748916e+08  0.133318  -4375.173647  1.435830e+08   \n",
       "2  0.295894 -7724.580288  2.016572e+08  0.388325 -10137.567875  2.646504e+08   \n",
       "3  0.169746 -6314.981929  2.349331e+08  0.133318  -4959.747997  1.845150e+08   \n",
       "4  0.084225 -3286.224555  1.282190e+08  0.133318  -5201.667828  2.029540e+08   \n",
       "\n",
       "           x3^3  \n",
       "0 -8.468590e+11  \n",
       "1 -4.712058e+12  \n",
       "2 -6.908939e+12  \n",
       "3 -6.864416e+12  \n",
       "4 -7.918677e+12  \n",
       "\n",
       "[5 rows x 34 columns]"
      ]
     },
     "execution_count": 76,
     "metadata": {},
     "output_type": "execute_result"
    }
   ],
   "source": [
    "# Initialize the PolynomialFeatures class and set the degree\n",
    "poly_features = PolynomialFeatures(degree=3,include_bias=False)\n",
    "# Create the polynomial features using PolynomialFeatures()\n",
    "poly_features_model = poly_features.fit_transform(application_train_lencoded[high_corr_cols])\n",
    "# Create a dataframe with the polynomial features\n",
    "poly_features_df = pd.DataFrame(poly_features_model,columns=poly_features.get_feature_names())\n",
    "# Show the first 5 rows of the polynomial features dataframe\n",
    "poly_features_df.head() #x0:EXT_SOURCE_1,x1:EXT_SOURCE_2,x2:EXT_SOURCE_3,x3:DAYS_BIRTH"
   ],
   "metadata": {
    "collapsed": false,
    "pycharm": {
     "name": "#%%\n"
    }
   }
  },
  {
   "cell_type": "code",
   "execution_count": 77,
   "outputs": [
    {
     "data": {
      "text/html": [
       "<div>\n",
       "<style scoped>\n",
       "    .dataframe tbody tr th:only-of-type {\n",
       "        vertical-align: middle;\n",
       "    }\n",
       "\n",
       "    .dataframe tbody tr th {\n",
       "        vertical-align: top;\n",
       "    }\n",
       "\n",
       "    .dataframe thead th {\n",
       "        text-align: right;\n",
       "    }\n",
       "</style>\n",
       "<table border=\"1\" class=\"dataframe\">\n",
       "  <thead>\n",
       "    <tr style=\"text-align: right;\">\n",
       "      <th></th>\n",
       "      <th>x0</th>\n",
       "      <th>x1</th>\n",
       "      <th>x2</th>\n",
       "      <th>x3</th>\n",
       "      <th>x0^2</th>\n",
       "      <th>x0 x1</th>\n",
       "      <th>x0 x2</th>\n",
       "      <th>x0 x3</th>\n",
       "      <th>x1^2</th>\n",
       "      <th>x1 x2</th>\n",
       "      <th>...</th>\n",
       "      <th>ORGANIZATION_TYPE_University</th>\n",
       "      <th>ORGANIZATION_TYPE_XNA</th>\n",
       "      <th>WALLSMATERIAL_MODE_Mixed</th>\n",
       "      <th>WALLSMATERIAL_MODE_Monolithic</th>\n",
       "      <th>WALLSMATERIAL_MODE_Others</th>\n",
       "      <th>WALLSMATERIAL_MODE_Panel</th>\n",
       "      <th>WALLSMATERIAL_MODE_Stone, brick</th>\n",
       "      <th>WALLSMATERIAL_MODE_Wooden</th>\n",
       "      <th>WEEKDAY_APPR_PROCESS_START_0</th>\n",
       "      <th>NAME_EDUCATION_TYPE_0</th>\n",
       "    </tr>\n",
       "  </thead>\n",
       "  <tbody>\n",
       "    <tr>\n",
       "      <th>0</th>\n",
       "      <td>0.083037</td>\n",
       "      <td>0.262949</td>\n",
       "      <td>0.139376</td>\n",
       "      <td>-9461.0</td>\n",
       "      <td>0.006895</td>\n",
       "      <td>0.021834</td>\n",
       "      <td>0.011573</td>\n",
       "      <td>-785.612748</td>\n",
       "      <td>0.069142</td>\n",
       "      <td>0.036649</td>\n",
       "      <td>...</td>\n",
       "      <td>0</td>\n",
       "      <td>0</td>\n",
       "      <td>0</td>\n",
       "      <td>0</td>\n",
       "      <td>0</td>\n",
       "      <td>0</td>\n",
       "      <td>1</td>\n",
       "      <td>0</td>\n",
       "      <td>6</td>\n",
       "      <td>4</td>\n",
       "    </tr>\n",
       "    <tr>\n",
       "      <th>1</th>\n",
       "      <td>0.311267</td>\n",
       "      <td>0.622246</td>\n",
       "      <td>0.510853</td>\n",
       "      <td>-16765.0</td>\n",
       "      <td>0.096887</td>\n",
       "      <td>0.193685</td>\n",
       "      <td>0.159012</td>\n",
       "      <td>-5218.396475</td>\n",
       "      <td>0.387190</td>\n",
       "      <td>0.317876</td>\n",
       "      <td>...</td>\n",
       "      <td>0</td>\n",
       "      <td>0</td>\n",
       "      <td>0</td>\n",
       "      <td>0</td>\n",
       "      <td>0</td>\n",
       "      <td>0</td>\n",
       "      <td>0</td>\n",
       "      <td>0</td>\n",
       "      <td>1</td>\n",
       "      <td>1</td>\n",
       "    </tr>\n",
       "    <tr>\n",
       "      <th>2</th>\n",
       "      <td>0.502130</td>\n",
       "      <td>0.555912</td>\n",
       "      <td>0.729567</td>\n",
       "      <td>-19046.0</td>\n",
       "      <td>0.252134</td>\n",
       "      <td>0.279140</td>\n",
       "      <td>0.366337</td>\n",
       "      <td>-9563.564279</td>\n",
       "      <td>0.309038</td>\n",
       "      <td>0.405575</td>\n",
       "      <td>...</td>\n",
       "      <td>0</td>\n",
       "      <td>0</td>\n",
       "      <td>0</td>\n",
       "      <td>0</td>\n",
       "      <td>0</td>\n",
       "      <td>1</td>\n",
       "      <td>0</td>\n",
       "      <td>0</td>\n",
       "      <td>1</td>\n",
       "      <td>4</td>\n",
       "    </tr>\n",
       "    <tr>\n",
       "      <th>3</th>\n",
       "      <td>0.502130</td>\n",
       "      <td>0.650442</td>\n",
       "      <td>0.510853</td>\n",
       "      <td>-19005.0</td>\n",
       "      <td>0.252134</td>\n",
       "      <td>0.326606</td>\n",
       "      <td>0.256514</td>\n",
       "      <td>-9542.976957</td>\n",
       "      <td>0.423074</td>\n",
       "      <td>0.332280</td>\n",
       "      <td>...</td>\n",
       "      <td>0</td>\n",
       "      <td>0</td>\n",
       "      <td>0</td>\n",
       "      <td>0</td>\n",
       "      <td>0</td>\n",
       "      <td>1</td>\n",
       "      <td>0</td>\n",
       "      <td>0</td>\n",
       "      <td>6</td>\n",
       "      <td>4</td>\n",
       "    </tr>\n",
       "    <tr>\n",
       "      <th>4</th>\n",
       "      <td>0.502130</td>\n",
       "      <td>0.322738</td>\n",
       "      <td>0.510853</td>\n",
       "      <td>-19932.0</td>\n",
       "      <td>0.252134</td>\n",
       "      <td>0.162057</td>\n",
       "      <td>0.256514</td>\n",
       "      <td>-10008.451286</td>\n",
       "      <td>0.104160</td>\n",
       "      <td>0.164872</td>\n",
       "      <td>...</td>\n",
       "      <td>0</td>\n",
       "      <td>0</td>\n",
       "      <td>0</td>\n",
       "      <td>0</td>\n",
       "      <td>0</td>\n",
       "      <td>1</td>\n",
       "      <td>0</td>\n",
       "      <td>0</td>\n",
       "      <td>4</td>\n",
       "      <td>4</td>\n",
       "    </tr>\n",
       "  </tbody>\n",
       "</table>\n",
       "<p>5 rows × 256 columns</p>\n",
       "</div>"
      ],
      "text/plain": [
       "         x0        x1        x2       x3      x0^2     x0 x1     x0 x2  \\\n",
       "0  0.083037  0.262949  0.139376  -9461.0  0.006895  0.021834  0.011573   \n",
       "1  0.311267  0.622246  0.510853 -16765.0  0.096887  0.193685  0.159012   \n",
       "2  0.502130  0.555912  0.729567 -19046.0  0.252134  0.279140  0.366337   \n",
       "3  0.502130  0.650442  0.510853 -19005.0  0.252134  0.326606  0.256514   \n",
       "4  0.502130  0.322738  0.510853 -19932.0  0.252134  0.162057  0.256514   \n",
       "\n",
       "          x0 x3      x1^2     x1 x2  ...  ORGANIZATION_TYPE_University  \\\n",
       "0   -785.612748  0.069142  0.036649  ...                             0   \n",
       "1  -5218.396475  0.387190  0.317876  ...                             0   \n",
       "2  -9563.564279  0.309038  0.405575  ...                             0   \n",
       "3  -9542.976957  0.423074  0.332280  ...                             0   \n",
       "4 -10008.451286  0.104160  0.164872  ...                             0   \n",
       "\n",
       "   ORGANIZATION_TYPE_XNA  WALLSMATERIAL_MODE_Mixed  \\\n",
       "0                      0                         0   \n",
       "1                      0                         0   \n",
       "2                      0                         0   \n",
       "3                      0                         0   \n",
       "4                      0                         0   \n",
       "\n",
       "   WALLSMATERIAL_MODE_Monolithic  WALLSMATERIAL_MODE_Others  \\\n",
       "0                              0                          0   \n",
       "1                              0                          0   \n",
       "2                              0                          0   \n",
       "3                              0                          0   \n",
       "4                              0                          0   \n",
       "\n",
       "   WALLSMATERIAL_MODE_Panel  WALLSMATERIAL_MODE_Stone, brick  \\\n",
       "0                         0                                1   \n",
       "1                         0                                0   \n",
       "2                         1                                0   \n",
       "3                         1                                0   \n",
       "4                         1                                0   \n",
       "\n",
       "   WALLSMATERIAL_MODE_Wooden  WEEKDAY_APPR_PROCESS_START_0  \\\n",
       "0                          0                             6   \n",
       "1                          0                             1   \n",
       "2                          0                             1   \n",
       "3                          0                             6   \n",
       "4                          0                             4   \n",
       "\n",
       "   NAME_EDUCATION_TYPE_0  \n",
       "0                      4  \n",
       "1                      1  \n",
       "2                      4  \n",
       "3                      4  \n",
       "4                      4  \n",
       "\n",
       "[5 rows x 256 columns]"
      ]
     },
     "execution_count": 77,
     "metadata": {},
     "output_type": "execute_result"
    }
   ],
   "source": [
    "# Merge the polynomial features to the original dataframe\n",
    "final_df = poly_features_df.merge(application_train_lencoded,how='inner',left_index=True,right_index=True)\n",
    "final_df.head()"
   ],
   "metadata": {
    "collapsed": false,
    "pycharm": {
     "name": "#%%\n"
    }
   }
  },
  {
   "cell_type": "code",
   "execution_count": 78,
   "outputs": [
    {
     "data": {
      "text/plain": [
       "(307511, 256)"
      ]
     },
     "execution_count": 78,
     "metadata": {},
     "output_type": "execute_result"
    }
   ],
   "source": [
    "# Check the shape of final dataframe\n",
    "final_df.shape\n",
    "# The final dataframe has the 255 features after merging."
   ],
   "metadata": {
    "collapsed": false,
    "pycharm": {
     "name": "#%%\n"
    }
   }
  },
  {
   "cell_type": "markdown",
   "source": [
    "### Domain knowledge features\n",
    "Expert knowledge is a key part of data science. In our examples so far, we have seen the need to carefully analyze the data, but there is always room for a human in the loop.\n",
    "\n",
    "Think of the calculation of chocolate sales. A model might run well on a combination of price, range, history, weather and competitor prices. However, unless we manually add in a term for 'Easter' we will almost certainly miss a large part of predictive power. To predict Easter was a favourite of Medieval Mathematicians: https://en.wikipedia.org/wiki/Computus. We can simply add in a term for the weeks preceding Easter, it varies enough over time that it is extremely hard to predict.\n",
    "\n",
    "Similarly, when modeling flight prices, it is easy to take into account any number of variables, but a large external factor is the presence or absence of school holidays in the region."
   ],
   "metadata": {
    "collapsed": false,
    "pycharm": {
     "name": "#%% md\n"
    }
   }
  },
  {
   "cell_type": "markdown",
   "source": [
    "By some expert knowledge, we created the following new features:"
   ],
   "metadata": {
    "collapsed": false,
    "pycharm": {
     "name": "#%% md\n"
    }
   }
  },
  {
   "cell_type": "markdown",
   "source": [
    "- `CREDIT_INCOME_PERCENT`: the percentage of the credit amount relative to a client's income\n",
    "- `ANNUITY_INCOME_PERCENT`: the percentage of the loan annuity relative to a client's income\n",
    "- `CREDIT_TERM`: the length of the payment in months (since the annuity is the monthly amount due\n",
    "- `DAYS_EMPLOYED_PERCENT`: the percentage of the days employed relative to the client's age"
   ],
   "metadata": {
    "collapsed": false,
    "pycharm": {
     "name": "#%% md\n"
    }
   }
  },
  {
   "cell_type": "code",
   "execution_count": 79,
   "outputs": [],
   "source": [
    "# Create the new feature of CREDIT_INCOME_PERCENT\n",
    "final_df['CREDIT_INCOME_PERCENT'] = final_df['AMT_CREDIT']/final_df['AMT_INCOME_TOTAL']"
   ],
   "metadata": {
    "collapsed": false,
    "pycharm": {
     "name": "#%%\n"
    }
   }
  },
  {
   "cell_type": "code",
   "execution_count": 80,
   "outputs": [],
   "source": [
    "# Create the new feature of ANNUITY_INCOME_PERCENT\n",
    "final_df['ANNUITY_INCOME_PERCENT'] = final_df['AMT_ANNUITY']/final_df['AMT_INCOME_TOTAL']"
   ],
   "metadata": {
    "collapsed": false,
    "pycharm": {
     "name": "#%%\n"
    }
   }
  },
  {
   "cell_type": "code",
   "execution_count": 81,
   "outputs": [],
   "source": [
    "# Create the new feature of CREDIT_TERM\n",
    "final_df['CREDIT_TERM'] = final_df['AMT_ANNUITY']/final_df['AMT_CREDIT']"
   ],
   "metadata": {
    "collapsed": false,
    "pycharm": {
     "name": "#%%\n"
    }
   }
  },
  {
   "cell_type": "code",
   "execution_count": 82,
   "outputs": [],
   "source": [
    "# Create the new feature of DAYS_EMPLOYED_PERCENT\n",
    "final_df['DAYS_EMPLOYED_PERCENT'] = final_df['DAYS_EMPLOYED']/final_df['DAYS_BIRTH']"
   ],
   "metadata": {
    "collapsed": false,
    "pycharm": {
     "name": "#%%\n"
    }
   }
  },
  {
   "cell_type": "code",
   "execution_count": 83,
   "outputs": [],
   "source": [
    "# Export the final dataframe to a csv file\n",
    "final_df.to_csv('final_df.csv',index=False)"
   ],
   "metadata": {
    "collapsed": false,
    "pycharm": {
     "name": "#%%\n"
    }
   }
  },
  {
   "cell_type": "markdown",
   "source": [
    "#### Visualizing the new domain knowledge features"
   ],
   "metadata": {
    "collapsed": false,
    "pycharm": {
     "name": "#%% md\n"
    }
   }
  },
  {
   "cell_type": "code",
   "execution_count": 84,
   "outputs": [
    {
     "data": {
      "image/png": "[encoded data removed]",
      "text/plain": [
       "<Figure size 864x576 with 1 Axes>"
      ]
     },
     "metadata": {},
     "output_type": "display_data"
    },
    {
     "data": {
      "image/png": "[encoded data removed]",
      "text/plain": [
       "<Figure size 864x576 with 1 Axes>"
      ]
     },
     "metadata": {},
     "output_type": "display_data"
    },
    {
     "data": {
      "image/png": "[encoded data removed]",
      "text/plain": [
       "<Figure size 864x576 with 1 Axes>"
      ]
     },
     "metadata": {},
     "output_type": "display_data"
    },
    {
     "data": {
      "image/png": "[encoded data removed]",
      "text/plain": [
       "<Figure size 864x576 with 1 Axes>"
      ]
     },
     "metadata": {},
     "output_type": "display_data"
    }
   ],
   "source": [
    "# Plot a list of the new features\n",
    "for col in ['CREDIT_INCOME_PERCENT','ANNUITY_INCOME_PERCENT','CREDIT_TERM','DAYS_EMPLOYED_PERCENT']:\n",
    "    plt.figure(figsize=(12,8))\n",
    "    sns.histplot(x= col,data=final_df,hue='TARGET')\n",
    "    plt.title(f'{col} Distribution VS. Target')\n",
    "    plt.show()"
   ],
   "metadata": {
    "collapsed": false,
    "pycharm": {
     "name": "#%%\n"
    }
   }
  }
 ],
 "metadata": {
  "kernelspec": {
   "display_name": "Python 3",
   "language": "python",
   "name": "python3"
  },
  "language_info": {
   "codemirror_mode": {
    "name": "ipython",
    "version": 2
   },
   "file_extension": ".py",
   "mimetype": "text/x-python",
   "name": "python",
   "nbconvert_exporter": "python",
   "pygments_lexer": "ipython2",
   "version": "2.7.6"
  }
 },
 "nbformat": 4,
 "nbformat_minor": 0
}