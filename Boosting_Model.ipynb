{
 "cells": [
  {
   "cell_type": "code",
   "execution_count": 18,
   "metadata": {
    "pycharm": {
     "name": "#%%\n"
    }
   },
   "outputs": [],
   "source": [
    "from sklearn.preprocessing import StandardScaler\n",
    "from sklearn.model_selection import train_test_split\n",
    "from sklearn.metrics import roc_auc_score\n",
    "from sklearn.metrics import roc_curve\n",
    "from sklearn.metrics import confusion_matrix\n",
    "from sklearn.metrics import classification_report\n",
    "from sklearn.metrics import accuracy_score\n",
    "from sklearn.model_selection import GridSearchCV\n",
    "from sklearn.tree import DecisionTreeClassifier\n",
    "from sklearn.pipeline import Pipeline\n",
    "from sklearn.pipeline import make_pipeline\n",
    "import pandas as pd\n",
    "import numpy as np\n",
    "import seaborn as sns\n",
    "import matplotlib.pyplot as plt\n",
    "from sklearn.decomposition import PCA\n",
    "from sklearn.ensemble import RandomForestClassifier"
   ]
  },
  {
   "cell_type": "code",
   "execution_count": 19,
   "metadata": {
    "pycharm": {
     "name": "#%%\n"
    }
   },
   "outputs": [],
   "source": [
    "final_df = pd.read_csv('final_df.csv')"
   ]
  },
  {
   "cell_type": "markdown",
   "metadata": {},
   "source": [
    "# Modeling"
   ]
  },
  {
   "cell_type": "code",
   "execution_count": 20,
   "metadata": {
    "pycharm": {
     "name": "#%%\n"
    }
   },
   "outputs": [],
   "source": [
    "# Assign the data to independent and dependent variables\n",
    "X = final_df.drop(['TARGET'],axis=1)\n",
    "y = final_df['TARGET']"
   ]
  },
  {
   "cell_type": "code",
   "execution_count": 21,
   "metadata": {
    "pycharm": {
     "name": "#%%\n"
    }
   },
   "outputs": [],
   "source": [
    "# Split the data into training and testing sets and validation set\n",
    "X_train,X_test,y_train,y_test = train_test_split(X,y,test_size=0.3,random_state=42,stratify=y)"
   ]
  },
  {
   "cell_type": "code",
   "execution_count": 22,
   "metadata": {
    "pycharm": {
     "name": "#%%\n"
    }
   },
   "outputs": [
    {
     "data": {
      "text/plain": [
       "((215257, 259), (92254, 259))"
      ]
     },
     "execution_count": 22,
     "metadata": {},
     "output_type": "execute_result"
    }
   ],
   "source": [
    "# Check the shape of the datasets\n",
    "X_train.shape,X_test.shape"
   ]
  },
  {
   "cell_type": "code",
   "execution_count": 23,
   "metadata": {},
   "outputs": [
    {
     "data": {
      "text/plain": [
       "0.0    197880\n",
       "1.0     17377\n",
       "Name: TARGET, dtype: int64"
      ]
     },
     "execution_count": 23,
     "metadata": {},
     "output_type": "execute_result"
    }
   ],
   "source": [
    "y_train.value_counts()"
   ]
  },
  {
   "cell_type": "code",
   "execution_count": 24,
   "metadata": {},
   "outputs": [
    {
     "data": {
      "text/plain": [
       "0.0    84806\n",
       "1.0     7448\n",
       "Name: TARGET, dtype: int64"
      ]
     },
     "execution_count": 24,
     "metadata": {},
     "output_type": "execute_result"
    }
   ],
   "source": [
    "y_test.value_counts()"
   ]
  },
  {
   "cell_type": "markdown",
   "metadata": {},
   "source": [
    "## Boosting Method"
   ]
  },
  {
   "cell_type": "code",
   "execution_count": 25,
   "metadata": {},
   "outputs": [],
   "source": [
    "from sklearn.ensemble import GradientBoostingClassifier"
   ]
  },
  {
   "cell_type": "code",
   "execution_count": 13,
   "metadata": {},
   "outputs": [],
   "source": [
    "gbc = GradientBoostingClassifier(random_state=2)\n",
    "params = {'learning_rate':np.arange(0.1,1.2,0.3)}"
   ]
  },
  {
   "cell_type": "code",
   "execution_count": 14,
   "metadata": {},
   "outputs": [],
   "source": [
    "grid = GridSearchCV(gbc,params,cv=3,scoring= 'roc_auc',verbose = 1,n_jobs=-1)"
   ]
  },
  {
   "cell_type": "code",
   "execution_count": 15,
   "metadata": {},
   "outputs": [
    {
     "name": "stdout",
     "output_type": "stream",
     "text": [
      "Fitting 3 folds for each of 4 candidates, totalling 12 fits\n"
     ]
    },
    {
     "data": {
      "text/plain": [
       "GridSearchCV(cv=3, estimator=GradientBoostingClassifier(random_state=2),\n",
       "             n_jobs=-1,\n",
       "             param_grid={'learning_rate': array([0.1, 0.4, 0.7, 1. ])},\n",
       "             scoring='roc_auc', verbose=1)"
      ]
     },
     "execution_count": 15,
     "metadata": {},
     "output_type": "execute_result"
    }
   ],
   "source": [
    "grid.fit(X_train,y_train)"
   ]
  },
  {
   "cell_type": "code",
   "execution_count": 16,
   "metadata": {},
   "outputs": [
    {
     "data": {
      "text/plain": [
       "GradientBoostingClassifier(learning_rate=0.4, random_state=2)"
      ]
     },
     "execution_count": 16,
     "metadata": {},
     "output_type": "execute_result"
    }
   ],
   "source": [
    "best_est = grid.best_estimator_\n",
    "best_est"
   ]
  },
  {
   "cell_type": "code",
   "execution_count": 29,
   "metadata": {
    "pycharm": {
     "name": "#%%\n"
    }
   },
   "outputs": [],
   "source": [
    "gbc = GradientBoostingClassifier(random_state=2,learning_rate=0.4,verbose=5)"
   ]
  },
  {
   "cell_type": "code",
   "execution_count": 18,
   "metadata": {
    "pycharm": {
     "name": "#%%\n"
    }
   },
   "outputs": [
    {
     "data": {
      "text/plain": [
       "0.922018796136711"
      ]
     },
     "execution_count": 18,
     "metadata": {},
     "output_type": "execute_result"
    }
   ],
   "source": [
    "gbc.fit(X_train,y_train)\n",
    "gbc.score(X_train,y_train)# rbose=1 to show the progress of the GridSearchCV object"
   ]
  },
  {
   "cell_type": "code",
   "execution_count": 19,
   "metadata": {
    "pycharm": {
     "name": "#%%\n"
    }
   },
   "outputs": [],
   "source": [
    "y_pred = gbc.predict(X_test)"
   ]
  },
  {
   "cell_type": "code",
   "execution_count": 20,
   "metadata": {
    "pycharm": {
     "name": "#%%\n"
    }
   },
   "outputs": [
    {
     "name": "stdout",
     "output_type": "stream",
     "text": [
      "              precision    recall  f1-score   support\n",
      "\n",
      "         0.0       0.92      1.00      0.96     84806\n",
      "         1.0       0.48      0.03      0.06      7448\n",
      "\n",
      "    accuracy                           0.92     92254\n",
      "   macro avg       0.70      0.52      0.51     92254\n",
      "weighted avg       0.89      0.92      0.89     92254\n",
      "\n"
     ]
    }
   ],
   "source": [
    "print(classification_report(y_test,y_pred))"
   ]
  },
  {
   "cell_type": "code",
   "execution_count": 21,
   "metadata": {},
   "outputs": [
    {
     "data": {
      "image/png": "[encoded data removed]",
      "text/plain": [
       "<Figure size 432x288 with 2 Axes>"
      ]
     },
     "metadata": {
      "needs_background": "light"
     },
     "output_type": "display_data"
    }
   ],
   "source": [
    "cf_matrix = confusion_matrix(y_test,y_pred)\n",
    "ax = sns.heatmap(cf_matrix, annot=True, cmap='Blues')\n",
    "\n",
    "ax.set_title('Seaborn Confusion Matrix with labels\\n\\n');\n",
    "ax.set_xlabel('\\nPredicted Values')\n",
    "ax.set_ylabel('Actual Values ');\n",
    "\n",
    "## Ticket labels - List must be in alphabetical order\n",
    "ax.xaxis.set_ticklabels(['False','True'])\n",
    "ax.yaxis.set_ticklabels(['False','True'])\n",
    "\n",
    "## Display the visualization of the Confusion Matrix.\n",
    "plt.show()"
   ]
  },
  {
   "cell_type": "code",
   "execution_count": 44,
   "metadata": {},
   "outputs": [],
   "source": [
    "import joblib"
   ]
  },
  {
   "cell_type": "code",
   "execution_count": 64,
   "metadata": {},
   "outputs": [
    {
     "data": {
      "text/plain": [
       "['GradientBoost_model.sav']"
      ]
     },
     "execution_count": 64,
     "metadata": {},
     "output_type": "execute_result"
    }
   ],
   "source": [
    "filename = 'GradientBoost_model.sav'\n",
    "joblib.dump(gbc, filename)"
   ]
  },
  {
   "cell_type": "markdown",
   "metadata": {},
   "source": [
    "## Imbalanced Problem"
   ]
  },
  {
   "cell_type": "markdown",
   "metadata": {
    "pycharm": {
     "name": "#%% md\n"
    }
   },
   "source": [
    "## Resampling to combat with imbalanced distribution of target column"
   ]
  },
  {
   "cell_type": "code",
   "execution_count": 78,
   "metadata": {
    "pycharm": {
     "name": "#%%\n"
    }
   },
   "outputs": [],
   "source": [
    "from imblearn.over_sampling import SMOTE\n",
    "from imblearn.pipeline import Pipeline as imbpip\n",
    "from imblearn.under_sampling import RandomUnderSampler"
   ]
  },
  {
   "cell_type": "code",
   "execution_count": 79,
   "metadata": {
    "pycharm": {
     "name": "#%%\n"
    }
   },
   "outputs": [],
   "source": [
    "# define pipeline\n",
    "steps = [('over', SMOTE()), ('gbc', gbc)]\n",
    "pipeline = imbpip(steps=steps)"
   ]
  },
  {
   "cell_type": "code",
   "execution_count": 81,
   "metadata": {
    "pycharm": {
     "name": "#%%\n"
    }
   },
   "outputs": [
    {
     "name": "stdout",
     "output_type": "stream",
     "text": [
      "      Iter       Train Loss   Remaining Time \n",
      "         1           1.2074           20.82m\n",
      "         2           1.0593           20.62m\n",
      "         3           0.9280           20.36m\n",
      "         4           0.8585           20.14m\n",
      "         5           0.7703           19.96m\n",
      "         6           0.7284           19.75m\n",
      "         7           0.6597           19.51m\n",
      "         8           0.6163           19.30m\n",
      "         9           0.5913           19.10m\n",
      "        10           0.5600           18.91m\n",
      "        11           0.5454           18.70m\n",
      "        12           0.5192           18.48m\n",
      "        13           0.4989           18.27m\n",
      "        14           0.4743           18.06m\n",
      "        15           0.4645           17.85m\n",
      "        16           0.4389           17.64m\n",
      "        17           0.4223           17.42m\n",
      "        18           0.4136           17.21m\n",
      "        19           0.4059           17.01m\n",
      "        20           0.3889           16.78m\n",
      "        21           0.3797           16.58m\n",
      "        22           0.3770           16.38m\n",
      "        23           0.3737           16.17m\n",
      "        24           0.3638           15.97m\n",
      "        25           0.3557           15.75m\n",
      "        26           0.3488           15.53m\n",
      "        27           0.3408           15.32m\n",
      "        28           0.3390           15.11m\n",
      "        29           0.3377           14.90m\n",
      "        30           0.3358           14.69m\n",
      "        31           0.3315           14.48m\n",
      "        32           0.3271           14.26m\n",
      "        33           0.3251           14.05m\n",
      "        34           0.3232           13.85m\n",
      "        35           0.3222           13.64m\n",
      "        36           0.3189           13.43m\n",
      "        37           0.3172           13.22m\n",
      "        38           0.3152           13.01m\n",
      "        39           0.3145           12.80m\n",
      "        40           0.3130           12.59m\n",
      "        41           0.3125           12.38m\n",
      "        42           0.3112           12.17m\n",
      "        43           0.3107           11.96m\n",
      "        44           0.3094           11.75m\n",
      "        45           0.3082           11.54m\n",
      "        46           0.3077           11.33m\n",
      "        47           0.3046           11.12m\n",
      "        48           0.3041           10.91m\n",
      "        49           0.3035           10.70m\n",
      "        50           0.3009           10.49m\n",
      "        51           0.2994           10.28m\n",
      "        52           0.2981           10.07m\n",
      "        53           0.2979            9.86m\n",
      "        54           0.2975            9.66m\n",
      "        55           0.2970            9.44m\n",
      "        56           0.2967            9.24m\n",
      "        57           0.2963            9.03m\n",
      "        58           0.2953            8.82m\n",
      "        59           0.2949            8.61m\n",
      "        60           0.2947            8.40m\n",
      "        61           0.2942            8.19m\n",
      "        62           0.2940            7.98m\n",
      "        63           0.2924            7.77m\n",
      "        64           0.2921            7.56m\n",
      "        65           0.2917            7.35m\n",
      "        66           0.2908            7.14m\n",
      "        67           0.2906            6.93m\n",
      "        68           0.2900            6.72m\n",
      "        69           0.2894            6.51m\n",
      "        70           0.2893            6.30m\n",
      "        71           0.2882            6.09m\n",
      "        72           0.2880            5.88m\n",
      "        73           0.2877            5.67m\n",
      "        74           0.2875            5.46m\n",
      "        75           0.2871            5.25m\n",
      "        76           0.2869            5.04m\n",
      "        77           0.2866            4.83m\n",
      "        78           0.2865            4.62m\n",
      "        79           0.2861            4.41m\n",
      "        80           0.2857            4.20m\n",
      "        81           0.2848            3.99m\n",
      "        82           0.2844            3.78m\n",
      "        83           0.2841            3.57m\n",
      "        84           0.2840            3.36m\n",
      "        85           0.2838            3.15m\n",
      "        86           0.2835            2.94m\n",
      "        87           0.2833            2.73m\n",
      "        88           0.2832            2.52m\n",
      "        89           0.2828            2.31m\n",
      "        90           0.2823            2.10m\n",
      "        91           0.2822            1.89m\n",
      "        92           0.2821            1.68m\n",
      "        93           0.2817            1.47m\n",
      "        94           0.2816            1.26m\n",
      "        95           0.2813            1.05m\n",
      "        96           0.2812           50.34s\n",
      "        97           0.2810           37.75s\n",
      "        98           0.2808           25.17s\n",
      "        99           0.2806           12.58s\n",
      "       100           0.2795            0.00s\n"
     ]
    },
    {
     "data": {
      "text/plain": [
       "Pipeline(steps=[('over', SMOTE()),\n",
       "                ('gbc',\n",
       "                 GradientBoostingClassifier(learning_rate=0.4, random_state=2,\n",
       "                                            verbose=5))])"
      ]
     },
     "execution_count": 81,
     "metadata": {},
     "output_type": "execute_result"
    }
   ],
   "source": [
    "pipeline.fit(X_train,y_train)"
   ]
  },
  {
   "cell_type": "code",
   "execution_count": 82,
   "metadata": {},
   "outputs": [
    {
     "data": {
      "text/plain": [
       "Pipeline(steps=[('over', SMOTE()),\n",
       "                ('gbc',\n",
       "                 GradientBoostingClassifier(learning_rate=0.4, random_state=2,\n",
       "                                            verbose=5))])"
      ]
     },
     "execution_count": 82,
     "metadata": {},
     "output_type": "execute_result"
    }
   ],
   "source": [
    "pipeline"
   ]
  },
  {
   "cell_type": "code",
   "execution_count": 83,
   "metadata": {},
   "outputs": [
    {
     "data": {
      "text/plain": [
       "['GradientBoost_model_smote.sav']"
      ]
     },
     "execution_count": 83,
     "metadata": {},
     "output_type": "execute_result"
    }
   ],
   "source": [
    "filename = 'GradientBoost_model_smote.sav'\n",
    "joblib.dump(pipeline, filename)"
   ]
  },
  {
   "cell_type": "code",
   "execution_count": 32,
   "metadata": {
    "pycharm": {
     "name": "#%%\n"
    }
   },
   "outputs": [],
   "source": [
    "y_pred = pipeline.predict(X_test)"
   ]
  },
  {
   "cell_type": "code",
   "execution_count": 35,
   "metadata": {
    "pycharm": {
     "name": "#%%\n"
    }
   },
   "outputs": [],
   "source": [
    "cf_matrix = confusion_matrix(y_pred,y_test)"
   ]
  },
  {
   "cell_type": "code",
   "execution_count": 36,
   "metadata": {
    "pycharm": {
     "name": "#%%\n"
    }
   },
   "outputs": [
    {
     "name": "stdout",
     "output_type": "stream",
     "text": [
      "              precision    recall  f1-score   support\n",
      "\n",
      "         0.0       0.92      1.00      0.96     84806\n",
      "         1.0       0.44      0.03      0.06      7448\n",
      "\n",
      "    accuracy                           0.92     92254\n",
      "   macro avg       0.68      0.51      0.51     92254\n",
      "weighted avg       0.88      0.92      0.88     92254\n",
      "\n"
     ]
    }
   ],
   "source": [
    "print(classification_report(y_test,y_pred))"
   ]
  },
  {
   "cell_type": "code",
   "execution_count": 37,
   "metadata": {
    "pycharm": {
     "name": "#%%\n"
    }
   },
   "outputs": [
    {
     "data": {
      "image/png": "[encoded data removed]",
      "text/plain": [
       "<Figure size 432x288 with 2 Axes>"
      ]
     },
     "metadata": {
      "needs_background": "light"
     },
     "output_type": "display_data"
    }
   ],
   "source": [
    "ax = sns.heatmap(cf_matrix, annot=True, cmap='Blues')\n",
    "\n",
    "ax.set_title('Seaborn Confusion Matrix with labels\\n\\n');\n",
    "ax.set_xlabel('\\nPredicted Values')\n",
    "ax.set_ylabel('Actual Values ');\n",
    "\n",
    "## Ticket labels - List must be in alphabetical order\n",
    "ax.xaxis.set_ticklabels(['False','True'])\n",
    "ax.yaxis.set_ticklabels(['False','True'])\n",
    "\n",
    "## Display the visualization of the Confusion Matrix.\n",
    "plt.show()"
   ]
  },
  {
   "cell_type": "code",
   "execution_count": 84,
   "metadata": {
    "pycharm": {
     "name": "#%%\n"
    }
   },
   "outputs": [],
   "source": [
    "over = SMOTE(sampling_strategy=0.1)\n",
    "under = RandomUnderSampler(sampling_strategy=0.5)\n",
    "steps = [('over', over), ('under', under), (('gbc', gbc))]\n",
    "pipeline = imbpip(steps=steps)"
   ]
  },
  {
   "cell_type": "code",
   "execution_count": 85,
   "metadata": {
    "pycharm": {
     "name": "#%%\n"
    }
   },
   "outputs": [
    {
     "name": "stdout",
     "output_type": "stream",
     "text": [
      "      Iter       Train Loss   Remaining Time \n",
      "         1           1.1896            2.12m\n",
      "         2           1.1541            2.09m\n",
      "         3           1.1317            2.07m\n",
      "         4           1.1145            2.05m\n",
      "         5           1.1045            2.03m\n",
      "         6           1.0966            2.01m\n",
      "         7           1.0818            1.98m\n",
      "         8           1.0700            1.96m\n",
      "         9           1.0632            1.94m\n",
      "        10           1.0583            1.92m\n",
      "        11           1.0514            1.90m\n",
      "        12           1.0471            1.88m\n",
      "        13           1.0433            1.86m\n",
      "        14           1.0402            1.83m\n",
      "        15           1.0344            1.81m\n",
      "        16           1.0315            1.79m\n",
      "        17           1.0292            1.77m\n",
      "        18           1.0256            1.75m\n",
      "        19           1.0234            1.72m\n",
      "        20           1.0215            1.70m\n",
      "        21           1.0192            1.68m\n",
      "        22           1.0170            1.66m\n",
      "        23           1.0151            1.64m\n",
      "        24           1.0126            1.61m\n",
      "        25           1.0112            1.59m\n",
      "        26           1.0099            1.57m\n",
      "        27           1.0087            1.55m\n",
      "        28           1.0074            1.53m\n",
      "        29           1.0045            1.51m\n",
      "        30           1.0026            1.49m\n",
      "        31           1.0008            1.46m\n",
      "        32           0.9995            1.44m\n",
      "        33           0.9985            1.42m\n",
      "        34           0.9975            1.40m\n",
      "        35           0.9960            1.38m\n",
      "        36           0.9950            1.36m\n",
      "        37           0.9938            1.34m\n",
      "        38           0.9932            1.31m\n",
      "        39           0.9923            1.29m\n",
      "        40           0.9916            1.27m\n",
      "        41           0.9909            1.25m\n",
      "        42           0.9894            1.23m\n",
      "        43           0.9891            1.21m\n",
      "        44           0.9881            1.19m\n",
      "        45           0.9869            1.16m\n",
      "        46           0.9854            1.14m\n",
      "        47           0.9845            1.12m\n",
      "        48           0.9837            1.10m\n",
      "        49           0.9830            1.08m\n",
      "        50           0.9824            1.06m\n",
      "        51           0.9816            1.04m\n",
      "        52           0.9805            1.02m\n",
      "        53           0.9799           59.67s\n",
      "        54           0.9790           58.40s\n",
      "        55           0.9782           57.14s\n",
      "        56           0.9777           55.85s\n",
      "        57           0.9770           54.59s\n",
      "        58           0.9764           53.31s\n",
      "        59           0.9758           52.03s\n",
      "        60           0.9741           50.76s\n",
      "        61           0.9734           49.49s\n",
      "        62           0.9732           48.21s\n",
      "        63           0.9727           46.93s\n",
      "        64           0.9715           45.67s\n",
      "        65           0.9707           44.40s\n",
      "        66           0.9695           43.13s\n",
      "        67           0.9690           41.86s\n",
      "        68           0.9684           40.59s\n",
      "        69           0.9677           39.32s\n",
      "        70           0.9673           38.05s\n",
      "        71           0.9668           36.78s\n",
      "        72           0.9656           35.51s\n",
      "        73           0.9649           34.24s\n",
      "        74           0.9642           32.97s\n",
      "        75           0.9637           31.70s\n",
      "        76           0.9630           30.43s\n",
      "        77           0.9624           29.16s\n",
      "        78           0.9618           27.89s\n",
      "        79           0.9611           26.62s\n",
      "        80           0.9608           25.35s\n",
      "        81           0.9602           24.08s\n",
      "        82           0.9595           22.81s\n",
      "        83           0.9590           21.54s\n",
      "        84           0.9585           20.27s\n",
      "        85           0.9579           19.01s\n",
      "        86           0.9574           17.74s\n",
      "        87           0.9572           16.47s\n",
      "        88           0.9568           15.20s\n",
      "        89           0.9562           13.93s\n",
      "        90           0.9556           12.67s\n",
      "        91           0.9551           11.40s\n",
      "        92           0.9544           10.13s\n",
      "        93           0.9538            8.87s\n",
      "        94           0.9532            7.60s\n",
      "        95           0.9523            6.33s\n",
      "        96           0.9518            5.07s\n",
      "        97           0.9512            3.80s\n",
      "        98           0.9506            2.53s\n",
      "        99           0.9497            1.27s\n",
      "       100           0.9490            0.00s\n"
     ]
    },
    {
     "data": {
      "text/plain": [
       "Pipeline(steps=[('over', SMOTE(sampling_strategy=0.1)),\n",
       "                ('under', RandomUnderSampler(sampling_strategy=0.5)),\n",
       "                ('gbc',\n",
       "                 GradientBoostingClassifier(learning_rate=0.4, random_state=2,\n",
       "                                            verbose=5))])"
      ]
     },
     "execution_count": 85,
     "metadata": {},
     "output_type": "execute_result"
    }
   ],
   "source": [
    "pipeline.fit(X_train,y_train)"
   ]
  },
  {
   "cell_type": "code",
   "execution_count": 86,
   "metadata": {},
   "outputs": [
    {
     "data": {
      "text/plain": [
       "['GradientBoost_model_smote_under.sav']"
      ]
     },
     "execution_count": 86,
     "metadata": {},
     "output_type": "execute_result"
    }
   ],
   "source": [
    "filename = 'GradientBoost_model_smote_under.sav'\n",
    "joblib.dump(pipeline, filename)"
   ]
  },
  {
   "cell_type": "code",
   "execution_count": 42,
   "metadata": {
    "pycharm": {
     "name": "#%%\n"
    }
   },
   "outputs": [],
   "source": [
    "y_pred = pipeline.predict(X_test)"
   ]
  },
  {
   "cell_type": "code",
   "execution_count": 43,
   "metadata": {
    "pycharm": {
     "name": "#%%\n"
    }
   },
   "outputs": [
    {
     "name": "stdout",
     "output_type": "stream",
     "text": [
      "              precision    recall  f1-score   support\n",
      "\n",
      "         0.0       0.94      0.90      0.92     84806\n",
      "         1.0       0.25      0.40      0.31      7448\n",
      "\n",
      "    accuracy                           0.85     92254\n",
      "   macro avg       0.60      0.65      0.61     92254\n",
      "weighted avg       0.89      0.85      0.87     92254\n",
      "\n"
     ]
    }
   ],
   "source": [
    "print(classification_report(y_test,y_pred))"
   ]
  },
  {
   "cell_type": "code",
   "execution_count": 46,
   "metadata": {
    "pycharm": {
     "name": "#%%\n"
    }
   },
   "outputs": [],
   "source": [
    "cf_matrix = confusion_matrix(y_test,y_pred)"
   ]
  },
  {
   "cell_type": "code",
   "execution_count": 47,
   "metadata": {
    "pycharm": {
     "name": "#%%\n"
    }
   },
   "outputs": [
    {
     "data": {
      "image/png": "[encoded data removed]",
      "text/plain": [
       "<Figure size 432x288 with 2 Axes>"
      ]
     },
     "metadata": {
      "needs_background": "light"
     },
     "output_type": "display_data"
    }
   ],
   "source": [
    "ax = sns.heatmap(cf_matrix, annot=True, cmap='Blues')\n",
    "\n",
    "ax.set_title('Seaborn Confusion Matrix with labels\\n\\n');\n",
    "ax.set_xlabel('\\nPredicted Values')\n",
    "ax.set_ylabel('Actual Values ');\n",
    "\n",
    "## Ticket labels - List must be in alphabetical order\n",
    "ax.xaxis.set_ticklabels(['False','True'])\n",
    "ax.yaxis.set_ticklabels(['False','True'])\n",
    "\n",
    "## Display the visualization of the Confusion Matrix.\n",
    "plt.show()"
   ]
  }
 ],
 "metadata": {
  "kernelspec": {
   "display_name": "conda_python3",
   "language": "python",
   "name": "conda_python3"
  },
  "language_info": {
   "codemirror_mode": {
    "name": "ipython",
    "version": 3
   },
   "file_extension": ".py",
   "mimetype": "text/x-python",
   "name": "python",
   "nbconvert_exporter": "python",
   "pygments_lexer": "ipython3",
   "version": "3.7.12"
  }
 },
 "nbformat": 4,
 "nbformat_minor": 4
}
