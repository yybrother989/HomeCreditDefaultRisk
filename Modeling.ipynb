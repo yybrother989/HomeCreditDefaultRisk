{
 "cells": [
  {
   "cell_type": "markdown",
   "source": [
    "# Modeling\n",
    "Note: To avoid super long execution time, I divided the modeling part into separate notebooks：Base_Model.ipynb, Baggining_Model.ipynb and Boosting_Model.ipynb. In this session, I may only discuss the outputs from the other three notebooks. More coding details will be showed in the other three notebooks."
   ],
   "metadata": {
    "collapsed": false,
    "pycharm": {
     "name": "#%% md\n"
    }
   }
  },
  {
   "cell_type": "markdown",
   "source": [
    "Main methodologies of the modeling:\n",
    "- Try different multiple models to find the best one\n",
    "The main catogories of models will be divided into simple models and ensemble models.\n",
    "For the simple models, we will try to use the decision tree with hyperparameter tuning and cross validation.\n",
    "For the ensemble models, we will try to use the bagging (RandomForestClassifier) and boosting (GradientBoost) with hyperparameter tuning and cross validation.\n",
    "- Discuss and compare if the ensemble method can improve the model performance with imbalance classes distribution in target variable.\n",
    "- Discuss and compare if the resampling method can improve the model performance with imbalance classes distribution in target variable.\n",
    "Strategies for resampling:\n",
    "          1. Use SMOTE to resample the data to make the classes in the target variable balanced.\n",
    "          2. Combine the SMOTE  and undersampling methods.\n",
    "\n"
   ],
   "metadata": {
    "collapsed": false,
    "pycharm": {
     "name": "#%% md\n"
    }
   }
  },
  {
   "cell_type": "markdown",
   "source": [
    "### Work flows for modeling\n",
    "##### Note: I may omit some explanations in the other three notebooks since I will explain how I constructed the models in this notebook.\n",
    "Step1: Split final dataset into train and test dataset.\n",
    "Step2: Create an instance for the model (decision tree, random forest, gradient boosting)\n",
    "Step3: Confirm the hyperparameters of the model I need to tune\n",
    "Step4: Tune the hyperparameters of the model using GridSearchCV and set the scoring function to be 'roc_auc'\n",
    "Step5: Fit the model using the best parameters retrieved from hypyerparameter tuning\n",
    "Step6: Make predictions on the test dataset using the fitted model\n",
    "Step7: Evaluate the model using the test dataset and predicted results\n",
    "Step8: Plot the confusion matrix and classification report\n",
    "Step9: Try SMOTE with the well-tuned model\n",
    "Step10: Repeat the steps 5-8\n",
    "Step11: Try the SMOTE+undersampling method with the well-tuned model (first use SMOTE to make the ratio of classes as 90:10 and then use undersampling to make the ratio of classes as 50:50)\n",
    "Step12 : Repeat the steps 5-8\n",
    "Step13 : Try a different model and repeat steps 1-12 (decision tree, random forest, gradient boosting)"
   ],
   "metadata": {
    "collapsed": false,
    "pycharm": {
     "name": "#%% md\n"
    }
   }
  },
  {
   "cell_type": "markdown",
   "source": [
    "### Why imbalance classes distribution in target variable matters?\n",
    "#### Causes of imbalance classes distribution in target variable\n",
    "- The imbalance classes distribution in target variable can be caused by objective reasons :\n",
    "  1. The data is not clean.\n",
    "  2. The data is not well-organized.\n",
    "  3. The data is not well-sampled.\n",
    "  4. The data is not well-labeled.\n",
    "- The imbalance classes distribution in target variable can be caused by subjective reasons :\n",
    "However, imbalanced outcomes may be the nature of worlds.\n",
    "For example, if a bank has a half of customers who can repay the loan or credits on time, what will happen to this bank? This bank may be hard to maintain their financial business and profits. Another example, the majority of wealth in worlds may be controlled by the only 1% of the population. As such, it is often infeasible or intractable to simply collect more samples from the domain in order to improve the class distribution. Instead, a model is required to learn the difference between the classes.\n",
    "#### How imbalance data affect classification models performance?\n",
    "- We may use a bunch of mathematics fomulas to show how the imbalance data affect the classification models performance. However, how we explain this phenomenon to the non-technique people in plain words about the nature of this problem since mathematics is not a good language to them. In fact, many problems of machine learning models are like problems in our daily lives.\n",
    "\n",
    "- For example, if you consider the question of why most of us can only write by a single hand, left or right hand. You may answer that since the one-hand writing is enough to handle the majority of tasks in our life. Now, try to use the hand you hardly use to write, what will happen to your writing? You still can write by the hand you hardly use, but it may let you feel uncomfortable. This is because we assign all the writing training process to the hand we always use and the other hand hardly get trained how to write. But you still can write by the hand you hardly use, this is because you have learned the majority of characteristics of letters and numbers and this ability become inner to your mind. If you start over and learn how to use dual hand to write and give two hands equal training opportunity, it is more possible to write by two hands after several year.\n",
    "- Similarly, if we give classification models the data with the imbalanced classes distribution, then model's classification ability will be also imbalanced to classify two classes.\n",
    "#### Terms of imbalance classification problem:\n",
    "- Majority Class:\n",
    "The class (or classes) in an imbalanced classification predictive modeling problem that has many examples.\n",
    "- Minority Class:\n",
    "The class in an imbalanced classification predictive modeling problem that has few examples.\n",
    "- Slight Imbalance:\n",
    "An imbalanced classification problem where the distribution of examples is uneven by a small amount in the training dataset (e.g. 4:6).\n",
    "- Severe Imbalance:\n",
    "An imbalanced classification problem where the distribution of examples is uneven by a large amount in the training dataset (e.g. 1:100 or more). (In this case, our dataset is between slightly and severely imbalanced.)\n",
    "\n"
   ],
   "metadata": {
    "collapsed": false,
    "pycharm": {
     "name": "#%% md\n"
    }
   }
  },
  {
   "cell_type": "markdown",
   "source": [
    "### Metrics for classification models"
   ],
   "metadata": {
    "collapsed": false,
    "pycharm": {
     "name": "#%% md\n"
    }
   }
  },
  {
   "cell_type": "markdown",
   "source": [
    "#### Accuracy Score is not a effective metrics for imbalanced data\n",
    "Classification accuracy alone can be misleading if you have an unequal number of observations in each class or if you have more than two classes in your dataset.\n",
    "Calculating a confusion matrix can give you a better idea of what your classification model is getting right and what types of errors it is making."
   ],
   "metadata": {
    "collapsed": false,
    "pycharm": {
     "name": "#%% md\n"
    }
   }
  },
  {
   "cell_type": "markdown",
   "source": [
    "|           |                      |           Predicted |           Condition |\n",
    "|-----------|---------------------:|--------------------:|--------------------:|\n",
    "|           | Total population=P+N | Positive (PP)       | Negative (PN)       |\n",
    "| Actual    | Positive (P)         | True positive (TP)  | False negative (FN) |\n",
    "| condition | Negative (N)         | False positive (FP) | True negative (TN)  |"
   ],
   "metadata": {
    "collapsed": false,
    "pycharm": {
     "name": "#%% md\n"
    }
   }
  },
  {
   "cell_type": "markdown",
   "source": [
    "In this case, classes in the confusion matrix have sepcfic meanings:\n",
    "\n",
    "True positive (TP): The actual default users are predicted as default users.\n",
    "\n",
    "True negative (TN): The actual non-default users are predicted as non-default users, which means qualified users can not get financial services from Home Credit.\n",
    "\n",
    "False positive (FP): The actual non-default users are predicted as default users.\n",
    "\n",
    "False negative (FN): The actual default users are predicted as non-default users, which means Home Credit provides financial services to non-qualified users abd bring bad debt risks to the company."
   ],
   "metadata": {
    "collapsed": false,
    "pycharm": {
     "name": "#%% md\n"
    }
   }
  },
  {
   "cell_type": "markdown",
   "source": [
    "#### Precision and Recall Rate"
   ],
   "metadata": {
    "collapsed": false,
    "pycharm": {
     "name": "#%% md\n"
    }
   }
  },
  {
   "cell_type": "markdown",
   "source": [
    "<img src=\"https://upload.wikimedia.org/wikipedia/commons/thumb/2/26/Precisionrecall.svg/525px-Precisionrecall.svg.png\"\n",
    "     alt=\"Markdown Monster icon\"\n",
    "     style=\"float: left; margin-right: 10px;\" />"
   ],
   "metadata": {
    "collapsed": false,
    "pycharm": {
     "name": "#%% md\n"
    }
   }
  },
  {
   "cell_type": "markdown",
   "source": [
    " Precision is the ratio between the True Positives and all the Positives. In this specific case, precision rate would be the measure of users that the model correctly identify as default users out of all the users predicted as default. Mathematically:\n",
    "\n",
    "Precision = TP/(TP + FP)\n",
    "\n",
    "\n",
    "\n",
    "The recall is the measure of our model correctly identifying True Positives. Thus, for all the users who actually got default, recall tells us how many we correctly identified as default users. Mathematically:\n",
    "\n",
    "Recall = TP/(TP + FN)"
   ],
   "metadata": {
    "collapsed": false,
    "pycharm": {
     "name": "#%% md\n"
    }
   }
  },
  {
   "cell_type": "markdown",
   "source": [
    "#### F1 Score\n",
    "The F1-score combines the precision and recall of a classifier into a single metric by taking their harmonic mean. Mathematically:\n",
    "\n",
    " F1 = 2 * (Precision * Recall)  /  (Precision + Recall)\n"
   ],
   "metadata": {
    "collapsed": false,
    "pycharm": {
     "name": "#%% md\n"
    }
   }
  },
  {
   "cell_type": "markdown",
   "source": [
    "### Techniques for imbalance classification problem:"
   ],
   "metadata": {
    "collapsed": false,
    "pycharm": {
     "name": "#%% md\n"
    }
   }
  },
  {
   "cell_type": "markdown",
   "source": [
    "- SMOTE:\n",
    "SMOTE is an Oversampling technique that allows us to generate synthetic samples for our minority categories. The algorithm below describes how SMOTE works. Please take your time to understand it."
   ],
   "metadata": {
    "collapsed": false,
    "pycharm": {
     "name": "#%% md\n"
    }
   }
  },
  {
   "cell_type": "markdown",
   "source": [
    "<img src=\"https://miro.medium.com/max/1400/1*GJY7UnJ4WCzqgtrfkCvkdA.png\"\n",
    "     alt=\"Markdown Monster icon\"\n",
    "     style=\"float: left; margin-right: 10px;\" />"
   ],
   "metadata": {
    "collapsed": false,
    "pycharm": {
     "name": "#%% md\n"
    }
   }
  },
  {
   "cell_type": "markdown",
   "source": [
    "- Oversampling:  over-sampling involves adding more examples from the minority class to make the majority class have the same number of samples as the minority class."
   ],
   "metadata": {
    "collapsed": false,
    "pycharm": {
     "name": "#%% md\n"
    }
   }
  },
  {
   "cell_type": "markdown",
   "source": [
    "- Undersampling (Downsampling): Under sampling involves removing samples from the majority class to make the minority class have the same number of samples as the majority class."
   ],
   "metadata": {
    "collapsed": false,
    "pycharm": {
     "name": "#%% md\n"
    }
   }
  },
  {
   "cell_type": "markdown",
   "source": [
    "<img src=\"https://miro.medium.com/max/1400/0*49LgGsY4l09sNwcR.png\"\n",
    "     alt=\"Markdown Monster icon\"\n",
    "     style=\"float: left; margin-right: 10px;\" />"
   ],
   "metadata": {
    "collapsed": false,
    "pycharm": {
     "name": "#%% md\n"
    }
   }
  },
  {
   "cell_type": "markdown",
   "source": [
    "### Base Model-Decision Tree Model"
   ],
   "metadata": {
    "collapsed": false,
    "pycharm": {
     "name": "#%% md\n"
    }
   }
  },
  {
   "cell_type": "markdown",
   "source": [
    "#### Without resampling"
   ],
   "metadata": {
    "collapsed": false,
    "pycharm": {
     "name": "#%% md\n"
    }
   }
  },
  {
   "cell_type": "markdown",
   "source": [
    "|              | precision | recall | f1-score | support |\n",
    "|--------------|-----------|--------|----------|---------|\n",
    "| 0            | 1         | 0.92   | 0.96     | 92251   |\n",
    "| 1            | 0.00      | 0      | 0        | 3       |\n",
    "| accuracy     |           |        | 0.92     | 92254   |\n",
    "| macro avg    | 0.50      | 0.46   | 0.48     | 92254   |\n",
    "| weighted avg | 1         | 0.92   | 0.96     | 92254   |"
   ],
   "metadata": {
    "collapsed": false,
    "pycharm": {
     "name": "#%% md\n"
    }
   }
  },
  {
   "cell_type": "markdown",
   "source": [
    "<img src=\"data:image/png;base64,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\"\n",
    "     style=\"float: left; margin-right: 10px;\" />"
   ],
   "metadata": {
    "collapsed": false,
    "pycharm": {
     "name": "#%% md\n"
    }
   }
  },
  {
   "cell_type": "markdown",
   "source": [
    "##### Conclusion:\n",
    "The decision tree model hardly capture the pattern of minority class. It had almost zero ability to calssfiy the default class. It is not a good model to use in this case."
   ],
   "metadata": {
    "collapsed": false,
    "pycharm": {
     "name": "#%% md\n"
    }
   }
  },
  {
   "cell_type": "markdown",
   "source": [
    "#### With resampling"
   ],
   "metadata": {
    "collapsed": false,
    "pycharm": {
     "name": "#%% md\n"
    }
   }
  },
  {
   "cell_type": "markdown",
   "source": [
    "##### With SMOTE"
   ],
   "metadata": {
    "collapsed": false,
    "pycharm": {
     "name": "#%% md\n"
    }
   }
  },
  {
   "cell_type": "markdown",
   "source": [
    "|              | precision | recall | f1-score | support |\n",
    "|--------------|-----------|--------|----------|---------|\n",
    "| 0            | 0.94      | 0.74   | 0.83     | 84806   |\n",
    "| 1            | 0.13      | 0.46   | 0.21     | 7448    |\n",
    "| accuracy     |           |        | 0.71     | 92254   |\n",
    "| macro avg    | 0.54      | 0.60   | 0.52     | 92254   |\n",
    "| weighted avg | 0.87      | 0.71   | 0.78     | 92254   |"
   ],
   "metadata": {
    "collapsed": false,
    "pycharm": {
     "name": "#%% md\n"
    }
   }
  },
  {
   "cell_type": "markdown",
   "source": [
    "<img src=\"data:image/png;base64,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\"\n",
    "     alt=\"Markdown Monster icon\"\n",
    "     style=\"float: left; margin-right: 10px;\" />"
   ],
   "metadata": {
    "collapsed": false,
    "pycharm": {
     "name": "#%% md\n"
    }
   }
  },
  {
   "cell_type": "markdown",
   "source": [
    "##### With SMOTE and undersampling"
   ],
   "metadata": {
    "collapsed": false,
    "pycharm": {
     "name": "#%% md\n"
    }
   }
  },
  {
   "cell_type": "markdown",
   "source": [
    "|              | precision | recall | f1-score | support |\n",
    "|--------------|-----------|--------|----------|---------|\n",
    "| 0            | 0.94      | 0.92   | 0.93     | 84806   |\n",
    "| 1            | 0.24      | 0.29   | 0.26     | 7448    |\n",
    "| accuracy     |           |        | 0.87     | 92254   |\n",
    "| macro avg    | 0.59      | 0.60   | 0.60     | 92254   |\n",
    "| weighted avg | 1         | 0.87   | 0.87     | 92254   |"
   ],
   "metadata": {
    "collapsed": false,
    "pycharm": {
     "name": "#%% md\n"
    }
   }
  },
  {
   "cell_type": "markdown",
   "source": [
    "<img src=\"data:image/png;base64,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\"\n",
    "     alt=\"Markdown Monster icon\"\n",
    "     style=\"float: left; margin-right: 10px;\" />"
   ],
   "metadata": {
    "collapsed": false,
    "pycharm": {
     "name": "#%% md\n"
    }
   }
  },
  {
   "cell_type": "markdown",
   "source": [
    "##### Conclusion:\n",
    "After resampling the data, we can see that the data had more ability to detect the minority class. This is because the data was resampled to have a similar number of samples in each class. This is a good sign that the data is imbalanced."
   ],
   "metadata": {
    "collapsed": false,
    "pycharm": {
     "name": "#%% md\n"
    }
   }
  },
  {
   "cell_type": "markdown",
   "source": [],
   "metadata": {
    "collapsed": false,
    "pycharm": {
     "name": "#%% md\n"
    }
   }
  },
  {
   "cell_type": "markdown",
   "source": [],
   "metadata": {
    "collapsed": false,
    "pycharm": {
     "name": "#%% md\n"
    }
   }
  },
  {
   "cell_type": "markdown",
   "source": [
    "## Bagging Model- Random Forest"
   ],
   "metadata": {
    "collapsed": false,
    "pycharm": {
     "name": "#%% md\n"
    }
   }
  },
  {
   "cell_type": "markdown",
   "source": [
    "#### Without resampling"
   ],
   "metadata": {
    "collapsed": false,
    "pycharm": {
     "name": "#%% md\n"
    }
   }
  },
  {
   "cell_type": "markdown",
   "source": [
    "|              | precision | recall | f1-score | support |\n",
    "|--------------|-----------|--------|----------|---------|\n",
    "| 0            | 0.92      | 1      | 0.96     | 84806   |\n",
    "| 1            | 0.66      | 0.01   | 0.01     | 7448    |\n",
    "| accuracy     |           |        | 0.92     | 92254   |\n",
    "| macro avg    | 0.59      | 0.50   | 0.49     | 92254   |\n",
    "| weighted avg | 0.9       | 0.92   | 0.88     | 92254   |"
   ],
   "metadata": {
    "collapsed": false,
    "pycharm": {
     "name": "#%% md\n"
    }
   }
  },
  {
   "cell_type": "markdown",
   "source": [
    "<img src=\"data:image/png;base64,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\"\n",
    "     alt=\"Markdown Monster icon\"\n",
    "     style=\"float: left; margin-right: 10px;\" />"
   ],
   "metadata": {
    "collapsed": false,
    "pycharm": {
     "name": "#%% md\n"
    }
   }
  },
  {
   "cell_type": "markdown",
   "source": [
    "##### Conclusion:\n",
    "We can see that even witout any resampling, the ensemble method of random forest still performed better than base model decision tree."
   ],
   "metadata": {
    "collapsed": false,
    "pycharm": {
     "name": "#%% md\n"
    }
   }
  },
  {
   "cell_type": "markdown",
   "source": [
    "#### With resampling"
   ],
   "metadata": {
    "collapsed": false,
    "pycharm": {
     "name": "#%% md\n"
    }
   }
  },
  {
   "cell_type": "markdown",
   "source": [
    "##### With SMOTE"
   ],
   "metadata": {
    "collapsed": false,
    "pycharm": {
     "name": "#%% md\n"
    }
   }
  },
  {
   "cell_type": "markdown",
   "source": [
    "|              | precision | recall | f1-score | support |\n",
    "|--------------|-----------|--------|----------|---------|\n",
    "| 0            | 0.92      | 0.99   | 0.95     | 84806   |\n",
    "| 1            | 0.22      | 0.05   | 0.08     | 7448    |\n",
    "| accuracy     |           |        | 0.91     | 92254   |\n",
    "| macro avg    | 0.57      | 0.52   | 0.51     | 92254   |\n",
    "| weighted avg | 0.87      | 0.91   | 0.88     | 92254   |"
   ],
   "metadata": {
    "collapsed": false,
    "pycharm": {
     "name": "#%% md\n"
    }
   }
  },
  {
   "cell_type": "markdown",
   "source": [
    "<img src=\"data:image/png;base64,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\"\n",
    "     alt=\"Markdown Monster icon\"\n",
    "     style=\"float: left; margin-right: 10px;\" />"
   ],
   "metadata": {
    "collapsed": false,
    "pycharm": {
     "name": "#%% md\n"
    }
   }
  },
  {
   "cell_type": "markdown",
   "source": [
    "##### With SMOTE and undersampling"
   ],
   "metadata": {
    "collapsed": false,
    "pycharm": {
     "name": "#%% md\n"
    }
   }
  },
  {
   "cell_type": "markdown",
   "source": [
    "|              | precision | recall | f1-score | support |\n",
    "|--------------|-----------|--------|----------|---------|\n",
    "| 0            | 0.94      | 0.90   | 0.92     | 84806   |\n",
    "| 1            | 0.22      | 0.34   | 0.27     | 7448    |\n",
    "| accuracy     |           |        | 0.95     | 92254   |\n",
    "| macro avg    | 0.58      | 0.52   | 0.59     | 92254   |\n",
    "| weighted avg | 0.88      | 0.91   | 0.86     | 92254   |"
   ],
   "metadata": {
    "collapsed": false,
    "pycharm": {
     "name": "#%% md\n"
    }
   }
  },
  {
   "cell_type": "markdown",
   "source": [
    "<img src=\"data:image/png;base64,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\"\n",
    "     alt=\"Markdown Monster icon\"\n",
    "     style=\"float: left; margin-right: 10px;\" />"
   ],
   "metadata": {
    "collapsed": false,
    "pycharm": {
     "name": "#%% md\n"
    }
   }
  },
  {
   "cell_type": "markdown",
   "source": [
    "##### Conclusion:\n",
    "Similar to what we saw in base model, resampling is a good way to improve the performance of the model. We can see that model had higher recall and precision than the model trained without resampling."
   ],
   "metadata": {
    "collapsed": false,
    "pycharm": {
     "name": "#%% md\n"
    }
   }
  },
  {
   "cell_type": "markdown",
   "source": [
    "## Boosting Model- Gradient Boosting"
   ],
   "metadata": {
    "collapsed": false,
    "pycharm": {
     "name": "#%% md\n"
    }
   }
  },
  {
   "cell_type": "markdown",
   "source": [
    "#### Without resampling"
   ],
   "metadata": {
    "collapsed": false,
    "pycharm": {
     "name": "#%% md\n"
    }
   }
  },
  {
   "cell_type": "markdown",
   "source": [
    "|              | precision | recall | f1-score | support |\n",
    "|--------------|-----------|--------|----------|---------|\n",
    "| 0            | 0.92      | 1      | 0.96     | 84806   |\n",
    "| 1            | 0.48      | 0.03   | 0.06     | 7448    |\n",
    "| accuracy     |           |        | 0.92     | 92254   |\n",
    "| macro avg    | 0.70      | 0.52   | 0.51     | 92254   |\n",
    "| weighted avg | 0.89      | 0.92   | 0.89     | 92254   |"
   ],
   "metadata": {
    "collapsed": false,
    "pycharm": {
     "name": "#%% md\n"
    }
   }
  },
  {
   "cell_type": "markdown",
   "source": [
    "<img src=\"data:image/png;base64,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\"\n",
    "     alt=\"Markdown Monster icon\"\n",
    "     style=\"float: left; margin-right: 10px;\" />"
   ],
   "metadata": {
    "collapsed": false,
    "pycharm": {
     "name": "#%% md\n"
    }
   }
  },
  {
   "cell_type": "markdown",
   "source": [
    "##### Conclusion:\n",
    "After SMOTE resampling, we can not see obvious difference on the gradient boost model. It seems no improvement on the gradient boost model."
   ],
   "metadata": {
    "collapsed": false,
    "pycharm": {
     "name": "#%% md\n"
    }
   }
  },
  {
   "cell_type": "markdown",
   "source": [
    "#### With resampling"
   ],
   "metadata": {
    "collapsed": false,
    "pycharm": {
     "name": "#%% md\n"
    }
   }
  },
  {
   "cell_type": "markdown",
   "source": [
    "##### With SMOTE"
   ],
   "metadata": {
    "collapsed": false,
    "pycharm": {
     "name": "#%% md\n"
    }
   }
  },
  {
   "cell_type": "markdown",
   "source": [
    "|              | precision | recall | f1-score | support |\n",
    "|--------------|-----------|--------|----------|---------|\n",
    "| 0            | 0.92      | 1      | 0.96     | 84806   |\n",
    "| 1            | 0.44      | 0.03   | 0.06     | 7448    |\n",
    "| accuracy     |           |        | 0.92     | 92254   |\n",
    "| macro avg    | 0.68      | 0.51   | 0.51     | 92254   |\n",
    "| weighted avg | 0.88      | 0.92   | 0.88     | 92254   |"
   ],
   "metadata": {
    "collapsed": false,
    "pycharm": {
     "name": "#%% md\n"
    }
   }
  },
  {
   "cell_type": "markdown",
   "source": [
    "<img src=\"data:image/png;base64,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\"\n",
    "     alt=\"Markdown Monster icon\"\n",
    "     style=\"float: left; margin-right: 10px;\" />"
   ],
   "metadata": {
    "collapsed": false,
    "pycharm": {
     "name": "#%% md\n"
    }
   }
  },
  {
   "cell_type": "markdown",
   "source": [
    "##### With SMOTE and undersampling"
   ],
   "metadata": {
    "collapsed": false,
    "pycharm": {
     "name": "#%% md\n"
    }
   }
  },
  {
   "cell_type": "markdown",
   "source": [
    "|              | precision | recall | f1-score | support |\n",
    "|--------------|-----------|--------|----------|---------|\n",
    "| 0            | 0.94      | 0.9    | 0.92     | 84806   |\n",
    "| 1            | 0.25      | 0.40   | 0.31     | 7448    |\n",
    "| accuracy     |           |        | 0.85     | 92254   |\n",
    "| macro avg    | 0.60      | 0.65   | 0.61     | 92254   |\n",
    "| weighted avg | 0.89      | 0.85   | 0.87     | 92254   |"
   ],
   "metadata": {
    "collapsed": false,
    "pycharm": {
     "name": "#%% md\n"
    }
   }
  },
  {
   "cell_type": "markdown",
   "source": [
    "<img src=\"data:image/png;base64,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\"\n",
    "     alt=\"Markdown Monster icon\"\n",
    "     style=\"float: left; margin-right: 10px;\" />"
   ],
   "metadata": {
    "collapsed": false,
    "pycharm": {
     "name": "#%% md\n"
    }
   }
  },
  {
   "cell_type": "markdown",
   "source": [
    "##### Conclusion:\n",
    "But if we combine the undersampling and SMOTE techniques, we can get an obvious improvement in the precision and recall of the classifier."
   ],
   "metadata": {
    "collapsed": false,
    "pycharm": {
     "name": "#%% md\n"
    }
   }
  },
  {
   "cell_type": "markdown",
   "source": [
    "# Summary"
   ],
   "metadata": {
    "collapsed": false,
    "pycharm": {
     "name": "#%% md\n"
    }
   }
  },
  {
   "cell_type": "markdown",
   "source": [
    "## 1. Does ensemble work better than simple models ?"
   ],
   "metadata": {
    "collapsed": false,
    "pycharm": {
     "name": "#%% md\n"
    }
   }
  },
  {
   "cell_type": "markdown",
   "source": [
    "From the comparative analysis in modeling section, we can ensemble models always perform better than simple models with the same resample methods."
   ],
   "metadata": {
    "collapsed": false,
    "pycharm": {
     "name": "#%% md\n"
    }
   }
  },
  {
   "cell_type": "markdown",
   "source": [
    "## 2. Does resampling help modles to learn the pattern of minority class?"
   ],
   "metadata": {
    "collapsed": false,
    "pycharm": {
     "name": "#%% md\n"
    }
   }
  },
  {
   "cell_type": "markdown",
   "source": [
    "We can see that the models performance boosted after using resampling method in each model category.Therefore, resampling indeed helps the models to learn the pattern of the minority class in this dataset and problem statement."
   ],
   "metadata": {
    "collapsed": false,
    "pycharm": {
     "name": "#%% md\n"
    }
   }
  },
  {
   "cell_type": "markdown",
   "source": [
    "## 3. How does Home Credit choose the type of combination of models and resampling?"
   ],
   "metadata": {
    "collapsed": false,
    "pycharm": {
     "name": "#%% md\n"
    }
   }
  },
  {
   "cell_type": "markdown",
   "source": [
    "If Home Credit want to filter out more default users, they should choose the combination can generate higher recall rate;\n",
    "If Home Credit want to provide financial services to actual qualified users, they should choose the combination can generate higher precision rate;\n",
    "If Home Credit trade-off two perspectives, they should choose the combination can generate higher F1 score."
   ],
   "metadata": {
    "collapsed": false,
    "pycharm": {
     "name": "#%% md\n"
    }
   }
  },
  {
   "cell_type": "markdown",
   "source": [],
   "metadata": {
    "collapsed": false,
    "pycharm": {
     "name": "#%% md\n"
    }
   }
  }
 ],
 "metadata": {
  "kernelspec": {
   "display_name": "Python 3",
   "language": "python",
   "name": "python3"
  },
  "language_info": {
   "codemirror_mode": {
    "name": "ipython",
    "version": 2
   },
   "file_extension": ".py",
   "mimetype": "text/x-python",
   "name": "python",
   "nbconvert_exporter": "python",
   "pygments_lexer": "ipython2",
   "version": "2.7.6"
  }
 },
 "nbformat": 4,
 "nbformat_minor": 0
}