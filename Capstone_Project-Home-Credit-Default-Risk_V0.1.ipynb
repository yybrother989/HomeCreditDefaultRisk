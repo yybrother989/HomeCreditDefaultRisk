{
 "cells": [
  {
   "cell_type": "code",
   "execution_count": 1,
   "id": "4a0c033c",
   "metadata": {
    "pycharm": {
     "name": "#%%\n"
    }
   },
   "outputs": [],
   "source": [
    "import pandas as pd\n",
    "import numpy as np\n",
    "import matplotlib.pyplot as plt\n",
    "import seaborn as sns\n",
    "import lightgbm as lg\n",
    "from lightgbm import LGBMClassifier\n",
    "from sklearn.metrics import roc_auc_score, roc_curve\n",
    "from sklearn.model_selection import KFold, StratifiedKFold\n",
    "import sqlalchemy as db\n",
    "import plotly.express as px\n",
    "import csv"
   ]
  },
  {
   "cell_type": "markdown",
   "id": "fe2b9237",
   "metadata": {
    "pycharm": {
     "name": "#%% md\n"
    }
   },
   "source": [
    "# Introduction\n",
    "Home Credit strives to broaden financial inclusion for the unbanked population by providing a positive and safe borrowing experience. In order to make sure this underserved population has a positive loan experience, Home Credit makes use of a variety of alternative data--including telco and transactional information--to predict their clients' repayment abilities.\n",
    "\n",
    "While Home Credit is currently using various statistical and machine learning methods to make these predictions, they're challenging Kagglers to help them unlock the full potential of their data. Doing so will ensure that clients capable of repayment are not rejected and that loans are given with a principal, maturity, and repayment calendar that will empower their clients to be successful."
   ]
  },
  {
   "cell_type": "markdown",
   "id": "f36a05e7",
   "metadata": {
    "pycharm": {
     "name": "#%% md\n"
    }
   },
   "source": [
    "# Define the target questions"
   ]
  },
  {
   "cell_type": "markdown",
   "id": "7b5d73c3",
   "metadata": {
    "pycharm": {
     "name": "#%% md\n"
    }
   },
   "source": [
    "# Data preparation"
   ]
  },
  {
   "cell_type": "code",
   "execution_count": 2,
   "id": "82bc1493",
   "metadata": {
    "pycharm": {
     "name": "#%%\n"
    }
   },
   "outputs": [],
   "source": [
    "df_list = []\n",
    "with open(\"HomeCredit_columns_description.csv\", 'r',errors='ignore') as file:\n",
    "    reader = csv.reader(file)\n",
    "    for row in reader:\n",
    "        df_list.append(pd.DataFrame({'table_name':row[1],'col_name':row[2],\\\n",
    "                                     'description':row[3]},index=list('A')))\n",
    "df_description = pd.concat(df_list,axis=0).reset_index()\n",
    "df_description.drop(columns='index',inplace=True)"
   ]
  },
  {
   "cell_type": "code",
   "execution_count": 3,
   "id": "7557d565",
   "metadata": {
    "pycharm": {
     "name": "#%%\n"
    }
   },
   "outputs": [],
   "source": [
    "def view_description_columns(table,data=df_description,column=None):\n",
    "    if column is not None:\n",
    "        return data[(data['table_name']==table)&(df_description['col_name']==column)][['col_name','description']]\n",
    "    else:\n",
    "        return data[data['table_name']==table][['col_name','description']]\n",
    "    "
   ]
  },
  {
   "cell_type": "markdown",
   "id": "abae6bc2",
   "metadata": {
    "pycharm": {
     "name": "#%% md\n"
    }
   },
   "source": [
    "## Previsous Application `prev_applic` columns description"
   ]
  },
  {
   "cell_type": "code",
   "execution_count": 4,
   "id": "15175751",
   "metadata": {
    "pycharm": {
     "name": "#%%\n"
    }
   },
   "outputs": [],
   "source": [
    "prev_applic = pd.read_csv('previous_application.csv')"
   ]
  },
  {
   "cell_type": "code",
   "execution_count": 5,
   "id": "f87400f5",
   "metadata": {
    "pycharm": {
     "name": "#%%\n"
    }
   },
   "outputs": [
    {
     "data": {
      "text/plain": "   SK_ID_PREV  SK_ID_CURR NAME_CONTRACT_TYPE  AMT_ANNUITY  AMT_APPLICATION  \\\n0     2030495      271877     Consumer loans     1730.430          17145.0   \n1     2802425      108129         Cash loans    25188.615         607500.0   \n2     2523466      122040         Cash loans    15060.735         112500.0   \n3     2819243      176158         Cash loans    47041.335         450000.0   \n4     1784265      202054         Cash loans    31924.395         337500.0   \n\n   AMT_CREDIT  AMT_DOWN_PAYMENT  AMT_GOODS_PRICE WEEKDAY_APPR_PROCESS_START  \\\n0     17145.0               0.0          17145.0                   SATURDAY   \n1    679671.0               NaN         607500.0                   THURSDAY   \n2    136444.5               NaN         112500.0                    TUESDAY   \n3    470790.0               NaN         450000.0                     MONDAY   \n4    404055.0               NaN         337500.0                   THURSDAY   \n\n   HOUR_APPR_PROCESS_START  ... NAME_SELLER_INDUSTRY  CNT_PAYMENT  \\\n0                       15  ...         Connectivity         12.0   \n1                       11  ...                  XNA         36.0   \n2                       11  ...                  XNA         12.0   \n3                        7  ...                  XNA         12.0   \n4                        9  ...                  XNA         24.0   \n\n   NAME_YIELD_GROUP       PRODUCT_COMBINATION  DAYS_FIRST_DRAWING  \\\n0            middle  POS mobile with interest            365243.0   \n1        low_action          Cash X-Sell: low            365243.0   \n2              high         Cash X-Sell: high            365243.0   \n3            middle       Cash X-Sell: middle            365243.0   \n4              high         Cash Street: high                 NaN   \n\n  DAYS_FIRST_DUE DAYS_LAST_DUE_1ST_VERSION  DAYS_LAST_DUE DAYS_TERMINATION  \\\n0          -42.0                     300.0          -42.0            -37.0   \n1         -134.0                     916.0       365243.0         365243.0   \n2         -271.0                      59.0       365243.0         365243.0   \n3         -482.0                    -152.0         -182.0           -177.0   \n4            NaN                       NaN            NaN              NaN   \n\n  NFLAG_INSURED_ON_APPROVAL  \n0                       0.0  \n1                       1.0  \n2                       1.0  \n3                       1.0  \n4                       NaN  \n\n[5 rows x 37 columns]",
      "text/html": "<div>\n<style scoped>\n    .dataframe tbody tr th:only-of-type {\n        vertical-align: middle;\n    }\n\n    .dataframe tbody tr th {\n        vertical-align: top;\n    }\n\n    .dataframe thead th {\n        text-align: right;\n    }\n</style>\n<table border=\"1\" class=\"dataframe\">\n  <thead>\n    <tr style=\"text-align: right;\">\n      <th></th>\n      <th>SK_ID_PREV</th>\n      <th>SK_ID_CURR</th>\n      <th>NAME_CONTRACT_TYPE</th>\n      <th>AMT_ANNUITY</th>\n      <th>AMT_APPLICATION</th>\n      <th>AMT_CREDIT</th>\n      <th>AMT_DOWN_PAYMENT</th>\n      <th>AMT_GOODS_PRICE</th>\n      <th>WEEKDAY_APPR_PROCESS_START</th>\n      <th>HOUR_APPR_PROCESS_START</th>\n      <th>...</th>\n      <th>NAME_SELLER_INDUSTRY</th>\n      <th>CNT_PAYMENT</th>\n      <th>NAME_YIELD_GROUP</th>\n      <th>PRODUCT_COMBINATION</th>\n      <th>DAYS_FIRST_DRAWING</th>\n      <th>DAYS_FIRST_DUE</th>\n      <th>DAYS_LAST_DUE_1ST_VERSION</th>\n      <th>DAYS_LAST_DUE</th>\n      <th>DAYS_TERMINATION</th>\n      <th>NFLAG_INSURED_ON_APPROVAL</th>\n    </tr>\n  </thead>\n  <tbody>\n    <tr>\n      <th>0</th>\n      <td>2030495</td>\n      <td>271877</td>\n      <td>Consumer loans</td>\n      <td>1730.430</td>\n      <td>17145.0</td>\n      <td>17145.0</td>\n      <td>0.0</td>\n      <td>17145.0</td>\n      <td>SATURDAY</td>\n      <td>15</td>\n      <td>...</td>\n      <td>Connectivity</td>\n      <td>12.0</td>\n      <td>middle</td>\n      <td>POS mobile with interest</td>\n      <td>365243.0</td>\n      <td>-42.0</td>\n      <td>300.0</td>\n      <td>-42.0</td>\n      <td>-37.0</td>\n      <td>0.0</td>\n    </tr>\n    <tr>\n      <th>1</th>\n      <td>2802425</td>\n      <td>108129</td>\n      <td>Cash loans</td>\n      <td>25188.615</td>\n      <td>607500.0</td>\n      <td>679671.0</td>\n      <td>NaN</td>\n      <td>607500.0</td>\n      <td>THURSDAY</td>\n      <td>11</td>\n      <td>...</td>\n      <td>XNA</td>\n      <td>36.0</td>\n      <td>low_action</td>\n      <td>Cash X-Sell: low</td>\n      <td>365243.0</td>\n      <td>-134.0</td>\n      <td>916.0</td>\n      <td>365243.0</td>\n      <td>365243.0</td>\n      <td>1.0</td>\n    </tr>\n    <tr>\n      <th>2</th>\n      <td>2523466</td>\n      <td>122040</td>\n      <td>Cash loans</td>\n      <td>15060.735</td>\n      <td>112500.0</td>\n      <td>136444.5</td>\n      <td>NaN</td>\n      <td>112500.0</td>\n      <td>TUESDAY</td>\n      <td>11</td>\n      <td>...</td>\n      <td>XNA</td>\n      <td>12.0</td>\n      <td>high</td>\n      <td>Cash X-Sell: high</td>\n      <td>365243.0</td>\n      <td>-271.0</td>\n      <td>59.0</td>\n      <td>365243.0</td>\n      <td>365243.0</td>\n      <td>1.0</td>\n    </tr>\n    <tr>\n      <th>3</th>\n      <td>2819243</td>\n      <td>176158</td>\n      <td>Cash loans</td>\n      <td>47041.335</td>\n      <td>450000.0</td>\n      <td>470790.0</td>\n      <td>NaN</td>\n      <td>450000.0</td>\n      <td>MONDAY</td>\n      <td>7</td>\n      <td>...</td>\n      <td>XNA</td>\n      <td>12.0</td>\n      <td>middle</td>\n      <td>Cash X-Sell: middle</td>\n      <td>365243.0</td>\n      <td>-482.0</td>\n      <td>-152.0</td>\n      <td>-182.0</td>\n      <td>-177.0</td>\n      <td>1.0</td>\n    </tr>\n    <tr>\n      <th>4</th>\n      <td>1784265</td>\n      <td>202054</td>\n      <td>Cash loans</td>\n      <td>31924.395</td>\n      <td>337500.0</td>\n      <td>404055.0</td>\n      <td>NaN</td>\n      <td>337500.0</td>\n      <td>THURSDAY</td>\n      <td>9</td>\n      <td>...</td>\n      <td>XNA</td>\n      <td>24.0</td>\n      <td>high</td>\n      <td>Cash Street: high</td>\n      <td>NaN</td>\n      <td>NaN</td>\n      <td>NaN</td>\n      <td>NaN</td>\n      <td>NaN</td>\n      <td>NaN</td>\n    </tr>\n  </tbody>\n</table>\n<p>5 rows × 37 columns</p>\n</div>"
     },
     "execution_count": 5,
     "metadata": {},
     "output_type": "execute_result"
    }
   ],
   "source": [
    "prev_applic.head()"
   ]
  },
  {
   "cell_type": "code",
   "execution_count": 6,
   "id": "8751264f",
   "metadata": {
    "pycharm": {
     "name": "#%%\n"
    }
   },
   "outputs": [
    {
     "name": "stdout",
     "output_type": "stream",
     "text": [
      "<class 'pandas.core.frame.DataFrame'>\n",
      "RangeIndex: 1670214 entries, 0 to 1670213\n",
      "Data columns (total 37 columns):\n",
      " #   Column                       Non-Null Count    Dtype  \n",
      "---  ------                       --------------    -----  \n",
      " 0   SK_ID_PREV                   1670214 non-null  int64  \n",
      " 1   SK_ID_CURR                   1670214 non-null  int64  \n",
      " 2   NAME_CONTRACT_TYPE           1670214 non-null  object \n",
      " 3   AMT_ANNUITY                  1297979 non-null  float64\n",
      " 4   AMT_APPLICATION              1670214 non-null  float64\n",
      " 5   AMT_CREDIT                   1670213 non-null  float64\n",
      " 6   AMT_DOWN_PAYMENT             774370 non-null   float64\n",
      " 7   AMT_GOODS_PRICE              1284699 non-null  float64\n",
      " 8   WEEKDAY_APPR_PROCESS_START   1670214 non-null  object \n",
      " 9   HOUR_APPR_PROCESS_START      1670214 non-null  int64  \n",
      " 10  FLAG_LAST_APPL_PER_CONTRACT  1670214 non-null  object \n",
      " 11  NFLAG_LAST_APPL_IN_DAY       1670214 non-null  int64  \n",
      " 12  RATE_DOWN_PAYMENT            774370 non-null   float64\n",
      " 13  RATE_INTEREST_PRIMARY        5951 non-null     float64\n",
      " 14  RATE_INTEREST_PRIVILEGED     5951 non-null     float64\n",
      " 15  NAME_CASH_LOAN_PURPOSE       1670214 non-null  object \n",
      " 16  NAME_CONTRACT_STATUS         1670214 non-null  object \n",
      " 17  DAYS_DECISION                1670214 non-null  int64  \n",
      " 18  NAME_PAYMENT_TYPE            1670214 non-null  object \n",
      " 19  CODE_REJECT_REASON           1670214 non-null  object \n",
      " 20  NAME_TYPE_SUITE              849809 non-null   object \n",
      " 21  NAME_CLIENT_TYPE             1670214 non-null  object \n",
      " 22  NAME_GOODS_CATEGORY          1670214 non-null  object \n",
      " 23  NAME_PORTFOLIO               1670214 non-null  object \n",
      " 24  NAME_PRODUCT_TYPE            1670214 non-null  object \n",
      " 25  CHANNEL_TYPE                 1670214 non-null  object \n",
      " 26  SELLERPLACE_AREA             1670214 non-null  int64  \n",
      " 27  NAME_SELLER_INDUSTRY         1670214 non-null  object \n",
      " 28  CNT_PAYMENT                  1297984 non-null  float64\n",
      " 29  NAME_YIELD_GROUP             1670214 non-null  object \n",
      " 30  PRODUCT_COMBINATION          1669868 non-null  object \n",
      " 31  DAYS_FIRST_DRAWING           997149 non-null   float64\n",
      " 32  DAYS_FIRST_DUE               997149 non-null   float64\n",
      " 33  DAYS_LAST_DUE_1ST_VERSION    997149 non-null   float64\n",
      " 34  DAYS_LAST_DUE                997149 non-null   float64\n",
      " 35  DAYS_TERMINATION             997149 non-null   float64\n",
      " 36  NFLAG_INSURED_ON_APPROVAL    997149 non-null   float64\n",
      "dtypes: float64(15), int64(6), object(16)\n",
      "memory usage: 471.5+ MB\n"
     ]
    }
   ],
   "source": [
    "prev_applic.info()"
   ]
  },
  {
   "cell_type": "code",
   "execution_count": 7,
   "id": "58db6935",
   "metadata": {
    "pycharm": {
     "name": "#%%\n"
    }
   },
   "outputs": [
    {
     "data": {
      "text/plain": "                        col_name  \\\n174                  SK_ID_PREV    \n175                   SK_ID_CURR   \n176           NAME_CONTRACT_TYPE   \n177                  AMT_ANNUITY   \n178              AMT_APPLICATION   \n179                   AMT_CREDIT   \n180             AMT_DOWN_PAYMENT   \n181              AMT_GOODS_PRICE   \n182   WEEKDAY_APPR_PROCESS_START   \n183      HOUR_APPR_PROCESS_START   \n184  FLAG_LAST_APPL_PER_CONTRACT   \n185       NFLAG_LAST_APPL_IN_DAY   \n186             NFLAG_MICRO_CASH   \n187            RATE_DOWN_PAYMENT   \n188        RATE_INTEREST_PRIMARY   \n189     RATE_INTEREST_PRIVILEGED   \n190       NAME_CASH_LOAN_PURPOSE   \n191         NAME_CONTRACT_STATUS   \n192                DAYS_DECISION   \n193            NAME_PAYMENT_TYPE   \n194           CODE_REJECT_REASON   \n195              NAME_TYPE_SUITE   \n196             NAME_CLIENT_TYPE   \n197          NAME_GOODS_CATEGORY   \n198               NAME_PORTFOLIO   \n199            NAME_PRODUCT_TYPE   \n200                 CHANNEL_TYPE   \n201             SELLERPLACE_AREA   \n202         NAME_SELLER_INDUSTRY   \n203                  CNT_PAYMENT   \n204             NAME_YIELD_GROUP   \n205          PRODUCT_COMBINATION   \n206           DAYS_FIRST_DRAWING   \n207               DAYS_FIRST_DUE   \n208    DAYS_LAST_DUE_1ST_VERSION   \n209                DAYS_LAST_DUE   \n210             DAYS_TERMINATION   \n211    NFLAG_INSURED_ON_APPROVAL   \n\n                                           description  \n174  ID of previous credit in Home credit related t...  \n175                           ID of loan in our sample  \n176  Contract product type (Cash loan, consumer loa...  \n177                    Annuity of previous application  \n178  For how much credit did client ask on the prev...  \n179  Final credit amount on the previous applicatio...  \n180           Down payment on the previous application  \n181  Goods price of good that client asked for (if ...  \n182  On which day of the week did the client apply ...  \n183  Approximately at what day hour did the client ...  \n184  Flag if it was last application for the previo...  \n185  Flag if the application was the last applicati...  \n186                            Flag Micro finance loan  \n187    Down payment rate normalized on previous credit  \n188        Interest rate normalized on previous credit  \n189        Interest rate normalized on previous credit  \n190                           Purpose of the cash loan  \n191  Contract status (approved, cancelled, ...) of ...  \n192  Relative to current application when was the d...  \n193  Payment method that client chose to pay for th...  \n194          Why was the previous application rejected  \n195  Who accompanied client when applying for the p...  \n196  Was the client old or new client when applying...  \n197  What kind of goods did the client apply for in...  \n198  Was the previous application for CASH, POS, CAR,   \n199      Was the previous application x-sell o walk-in  \n200  Through which channel we acquired the client o...  \n201  Selling area of seller place of the previous a...  \n202                         The industry of the seller  \n203  Term of previous credit at application of the ...  \n204  Grouped interest rate into small medium and hi...  \n205  Detailed product combination of the previous a...  \n206  Relative to application date of current applic...  \n207  Relative to application date of current applic...  \n208  Relative to application date of current applic...  \n209  Relative to application date of current applic...  \n210  Relative to application date of current applic...  \n211  Did the client requested insurance during the ...  ",
      "text/html": "<div>\n<style scoped>\n    .dataframe tbody tr th:only-of-type {\n        vertical-align: middle;\n    }\n\n    .dataframe tbody tr th {\n        vertical-align: top;\n    }\n\n    .dataframe thead th {\n        text-align: right;\n    }\n</style>\n<table border=\"1\" class=\"dataframe\">\n  <thead>\n    <tr style=\"text-align: right;\">\n      <th></th>\n      <th>col_name</th>\n      <th>description</th>\n    </tr>\n  </thead>\n  <tbody>\n    <tr>\n      <th>174</th>\n      <td>SK_ID_PREV</td>\n      <td>ID of previous credit in Home credit related t...</td>\n    </tr>\n    <tr>\n      <th>175</th>\n      <td>SK_ID_CURR</td>\n      <td>ID of loan in our sample</td>\n    </tr>\n    <tr>\n      <th>176</th>\n      <td>NAME_CONTRACT_TYPE</td>\n      <td>Contract product type (Cash loan, consumer loa...</td>\n    </tr>\n    <tr>\n      <th>177</th>\n      <td>AMT_ANNUITY</td>\n      <td>Annuity of previous application</td>\n    </tr>\n    <tr>\n      <th>178</th>\n      <td>AMT_APPLICATION</td>\n      <td>For how much credit did client ask on the prev...</td>\n    </tr>\n    <tr>\n      <th>179</th>\n      <td>AMT_CREDIT</td>\n      <td>Final credit amount on the previous applicatio...</td>\n    </tr>\n    <tr>\n      <th>180</th>\n      <td>AMT_DOWN_PAYMENT</td>\n      <td>Down payment on the previous application</td>\n    </tr>\n    <tr>\n      <th>181</th>\n      <td>AMT_GOODS_PRICE</td>\n      <td>Goods price of good that client asked for (if ...</td>\n    </tr>\n    <tr>\n      <th>182</th>\n      <td>WEEKDAY_APPR_PROCESS_START</td>\n      <td>On which day of the week did the client apply ...</td>\n    </tr>\n    <tr>\n      <th>183</th>\n      <td>HOUR_APPR_PROCESS_START</td>\n      <td>Approximately at what day hour did the client ...</td>\n    </tr>\n    <tr>\n      <th>184</th>\n      <td>FLAG_LAST_APPL_PER_CONTRACT</td>\n      <td>Flag if it was last application for the previo...</td>\n    </tr>\n    <tr>\n      <th>185</th>\n      <td>NFLAG_LAST_APPL_IN_DAY</td>\n      <td>Flag if the application was the last applicati...</td>\n    </tr>\n    <tr>\n      <th>186</th>\n      <td>NFLAG_MICRO_CASH</td>\n      <td>Flag Micro finance loan</td>\n    </tr>\n    <tr>\n      <th>187</th>\n      <td>RATE_DOWN_PAYMENT</td>\n      <td>Down payment rate normalized on previous credit</td>\n    </tr>\n    <tr>\n      <th>188</th>\n      <td>RATE_INTEREST_PRIMARY</td>\n      <td>Interest rate normalized on previous credit</td>\n    </tr>\n    <tr>\n      <th>189</th>\n      <td>RATE_INTEREST_PRIVILEGED</td>\n      <td>Interest rate normalized on previous credit</td>\n    </tr>\n    <tr>\n      <th>190</th>\n      <td>NAME_CASH_LOAN_PURPOSE</td>\n      <td>Purpose of the cash loan</td>\n    </tr>\n    <tr>\n      <th>191</th>\n      <td>NAME_CONTRACT_STATUS</td>\n      <td>Contract status (approved, cancelled, ...) of ...</td>\n    </tr>\n    <tr>\n      <th>192</th>\n      <td>DAYS_DECISION</td>\n      <td>Relative to current application when was the d...</td>\n    </tr>\n    <tr>\n      <th>193</th>\n      <td>NAME_PAYMENT_TYPE</td>\n      <td>Payment method that client chose to pay for th...</td>\n    </tr>\n    <tr>\n      <th>194</th>\n      <td>CODE_REJECT_REASON</td>\n      <td>Why was the previous application rejected</td>\n    </tr>\n    <tr>\n      <th>195</th>\n      <td>NAME_TYPE_SUITE</td>\n      <td>Who accompanied client when applying for the p...</td>\n    </tr>\n    <tr>\n      <th>196</th>\n      <td>NAME_CLIENT_TYPE</td>\n      <td>Was the client old or new client when applying...</td>\n    </tr>\n    <tr>\n      <th>197</th>\n      <td>NAME_GOODS_CATEGORY</td>\n      <td>What kind of goods did the client apply for in...</td>\n    </tr>\n    <tr>\n      <th>198</th>\n      <td>NAME_PORTFOLIO</td>\n      <td>Was the previous application for CASH, POS, CAR,</td>\n    </tr>\n    <tr>\n      <th>199</th>\n      <td>NAME_PRODUCT_TYPE</td>\n      <td>Was the previous application x-sell o walk-in</td>\n    </tr>\n    <tr>\n      <th>200</th>\n      <td>CHANNEL_TYPE</td>\n      <td>Through which channel we acquired the client o...</td>\n    </tr>\n    <tr>\n      <th>201</th>\n      <td>SELLERPLACE_AREA</td>\n      <td>Selling area of seller place of the previous a...</td>\n    </tr>\n    <tr>\n      <th>202</th>\n      <td>NAME_SELLER_INDUSTRY</td>\n      <td>The industry of the seller</td>\n    </tr>\n    <tr>\n      <th>203</th>\n      <td>CNT_PAYMENT</td>\n      <td>Term of previous credit at application of the ...</td>\n    </tr>\n    <tr>\n      <th>204</th>\n      <td>NAME_YIELD_GROUP</td>\n      <td>Grouped interest rate into small medium and hi...</td>\n    </tr>\n    <tr>\n      <th>205</th>\n      <td>PRODUCT_COMBINATION</td>\n      <td>Detailed product combination of the previous a...</td>\n    </tr>\n    <tr>\n      <th>206</th>\n      <td>DAYS_FIRST_DRAWING</td>\n      <td>Relative to application date of current applic...</td>\n    </tr>\n    <tr>\n      <th>207</th>\n      <td>DAYS_FIRST_DUE</td>\n      <td>Relative to application date of current applic...</td>\n    </tr>\n    <tr>\n      <th>208</th>\n      <td>DAYS_LAST_DUE_1ST_VERSION</td>\n      <td>Relative to application date of current applic...</td>\n    </tr>\n    <tr>\n      <th>209</th>\n      <td>DAYS_LAST_DUE</td>\n      <td>Relative to application date of current applic...</td>\n    </tr>\n    <tr>\n      <th>210</th>\n      <td>DAYS_TERMINATION</td>\n      <td>Relative to application date of current applic...</td>\n    </tr>\n    <tr>\n      <th>211</th>\n      <td>NFLAG_INSURED_ON_APPROVAL</td>\n      <td>Did the client requested insurance during the ...</td>\n    </tr>\n  </tbody>\n</table>\n</div>"
     },
     "execution_count": 7,
     "metadata": {},
     "output_type": "execute_result"
    }
   ],
   "source": [
    "view_description_columns(table='previous_application.csv',data=df_description)"
   ]
  },
  {
   "cell_type": "markdown",
   "id": "3eafda7b",
   "metadata": {
    "pycharm": {
     "name": "#%% md\n"
    }
   },
   "source": [
    "## Installments `installments` columns description"
   ]
  },
  {
   "cell_type": "code",
   "execution_count": 8,
   "id": "75e3523c",
   "metadata": {
    "pycharm": {
     "name": "#%%\n"
    }
   },
   "outputs": [
    {
     "data": {
      "text/plain": "   SK_ID_PREV  SK_ID_CURR  NUM_INSTALMENT_VERSION  NUM_INSTALMENT_NUMBER  \\\n0     1054186      161674                     1.0                      6   \n1     1330831      151639                     0.0                     34   \n2     2085231      193053                     2.0                      1   \n3     2452527      199697                     1.0                      3   \n4     2714724      167756                     1.0                      2   \n\n   DAYS_INSTALMENT  DAYS_ENTRY_PAYMENT  AMT_INSTALMENT  AMT_PAYMENT  \n0          -1180.0             -1187.0        6948.360     6948.360  \n1          -2156.0             -2156.0        1716.525     1716.525  \n2            -63.0               -63.0       25425.000    25425.000  \n3          -2418.0             -2426.0       24350.130    24350.130  \n4          -1383.0             -1366.0        2165.040     2160.585  ",
      "text/html": "<div>\n<style scoped>\n    .dataframe tbody tr th:only-of-type {\n        vertical-align: middle;\n    }\n\n    .dataframe tbody tr th {\n        vertical-align: top;\n    }\n\n    .dataframe thead th {\n        text-align: right;\n    }\n</style>\n<table border=\"1\" class=\"dataframe\">\n  <thead>\n    <tr style=\"text-align: right;\">\n      <th></th>\n      <th>SK_ID_PREV</th>\n      <th>SK_ID_CURR</th>\n      <th>NUM_INSTALMENT_VERSION</th>\n      <th>NUM_INSTALMENT_NUMBER</th>\n      <th>DAYS_INSTALMENT</th>\n      <th>DAYS_ENTRY_PAYMENT</th>\n      <th>AMT_INSTALMENT</th>\n      <th>AMT_PAYMENT</th>\n    </tr>\n  </thead>\n  <tbody>\n    <tr>\n      <th>0</th>\n      <td>1054186</td>\n      <td>161674</td>\n      <td>1.0</td>\n      <td>6</td>\n      <td>-1180.0</td>\n      <td>-1187.0</td>\n      <td>6948.360</td>\n      <td>6948.360</td>\n    </tr>\n    <tr>\n      <th>1</th>\n      <td>1330831</td>\n      <td>151639</td>\n      <td>0.0</td>\n      <td>34</td>\n      <td>-2156.0</td>\n      <td>-2156.0</td>\n      <td>1716.525</td>\n      <td>1716.525</td>\n    </tr>\n    <tr>\n      <th>2</th>\n      <td>2085231</td>\n      <td>193053</td>\n      <td>2.0</td>\n      <td>1</td>\n      <td>-63.0</td>\n      <td>-63.0</td>\n      <td>25425.000</td>\n      <td>25425.000</td>\n    </tr>\n    <tr>\n      <th>3</th>\n      <td>2452527</td>\n      <td>199697</td>\n      <td>1.0</td>\n      <td>3</td>\n      <td>-2418.0</td>\n      <td>-2426.0</td>\n      <td>24350.130</td>\n      <td>24350.130</td>\n    </tr>\n    <tr>\n      <th>4</th>\n      <td>2714724</td>\n      <td>167756</td>\n      <td>1.0</td>\n      <td>2</td>\n      <td>-1383.0</td>\n      <td>-1366.0</td>\n      <td>2165.040</td>\n      <td>2160.585</td>\n    </tr>\n  </tbody>\n</table>\n</div>"
     },
     "execution_count": 8,
     "metadata": {},
     "output_type": "execute_result"
    }
   ],
   "source": [
    "installments  = pd.read_csv('installments_payments.csv')\n",
    "installments.head()"
   ]
  },
  {
   "cell_type": "code",
   "execution_count": 9,
   "id": "8e8a7edf",
   "metadata": {
    "pycharm": {
     "name": "#%%\n"
    }
   },
   "outputs": [
    {
     "name": "stdout",
     "output_type": "stream",
     "text": [
      "<class 'pandas.core.frame.DataFrame'>\n",
      "RangeIndex: 13605401 entries, 0 to 13605400\n",
      "Data columns (total 8 columns):\n",
      " #   Column                  Dtype  \n",
      "---  ------                  -----  \n",
      " 0   SK_ID_PREV              int64  \n",
      " 1   SK_ID_CURR              int64  \n",
      " 2   NUM_INSTALMENT_VERSION  float64\n",
      " 3   NUM_INSTALMENT_NUMBER   int64  \n",
      " 4   DAYS_INSTALMENT         float64\n",
      " 5   DAYS_ENTRY_PAYMENT      float64\n",
      " 6   AMT_INSTALMENT          float64\n",
      " 7   AMT_PAYMENT             float64\n",
      "dtypes: float64(5), int64(3)\n",
      "memory usage: 830.4 MB\n"
     ]
    }
   ],
   "source": [
    "installments.info()"
   ]
  },
  {
   "cell_type": "code",
   "execution_count": 10,
   "id": "ae1323fd",
   "metadata": {
    "pycharm": {
     "name": "#%%\n"
    }
   },
   "outputs": [
    {
     "data": {
      "text/plain": "                   col_name                                        description\n212             SK_ID_PREV   ID of previous credit in Home credit related t...\n213              SK_ID_CURR                           ID of loan in our sample\n214  NUM_INSTALMENT_VERSION  Version of installment calendar (0 is for cred...\n215   NUM_INSTALMENT_NUMBER            On which installment we observe payment\n216         DAYS_INSTALMENT  When the installment of previous credit was su...\n217      DAYS_ENTRY_PAYMENT  When was the installments of previous credit p...\n218          AMT_INSTALMENT  What was the prescribed installment amount of ...\n219             AMT_PAYMENT  What the client actually paid on previous cred...",
      "text/html": "<div>\n<style scoped>\n    .dataframe tbody tr th:only-of-type {\n        vertical-align: middle;\n    }\n\n    .dataframe tbody tr th {\n        vertical-align: top;\n    }\n\n    .dataframe thead th {\n        text-align: right;\n    }\n</style>\n<table border=\"1\" class=\"dataframe\">\n  <thead>\n    <tr style=\"text-align: right;\">\n      <th></th>\n      <th>col_name</th>\n      <th>description</th>\n    </tr>\n  </thead>\n  <tbody>\n    <tr>\n      <th>212</th>\n      <td>SK_ID_PREV</td>\n      <td>ID of previous credit in Home credit related t...</td>\n    </tr>\n    <tr>\n      <th>213</th>\n      <td>SK_ID_CURR</td>\n      <td>ID of loan in our sample</td>\n    </tr>\n    <tr>\n      <th>214</th>\n      <td>NUM_INSTALMENT_VERSION</td>\n      <td>Version of installment calendar (0 is for cred...</td>\n    </tr>\n    <tr>\n      <th>215</th>\n      <td>NUM_INSTALMENT_NUMBER</td>\n      <td>On which installment we observe payment</td>\n    </tr>\n    <tr>\n      <th>216</th>\n      <td>DAYS_INSTALMENT</td>\n      <td>When the installment of previous credit was su...</td>\n    </tr>\n    <tr>\n      <th>217</th>\n      <td>DAYS_ENTRY_PAYMENT</td>\n      <td>When was the installments of previous credit p...</td>\n    </tr>\n    <tr>\n      <th>218</th>\n      <td>AMT_INSTALMENT</td>\n      <td>What was the prescribed installment amount of ...</td>\n    </tr>\n    <tr>\n      <th>219</th>\n      <td>AMT_PAYMENT</td>\n      <td>What the client actually paid on previous cred...</td>\n    </tr>\n  </tbody>\n</table>\n</div>"
     },
     "execution_count": 10,
     "metadata": {},
     "output_type": "execute_result"
    }
   ],
   "source": [
    "view_description_columns(table='installments_payments.csv',data=df_description)"
   ]
  },
  {
   "cell_type": "markdown",
   "id": "62aa3a6a",
   "metadata": {
    "pycharm": {
     "name": "#%% md\n"
    }
   },
   "source": [
    "## POS_CASH_Balance ` pos_cash_bal` column descriptions"
   ]
  },
  {
   "cell_type": "code",
   "execution_count": 11,
   "id": "2f41ad48",
   "metadata": {
    "pycharm": {
     "name": "#%%\n"
    }
   },
   "outputs": [
    {
     "data": {
      "text/plain": "   SK_ID_PREV  SK_ID_CURR  MONTHS_BALANCE  CNT_INSTALMENT  \\\n0     1803195      182943             -31            48.0   \n1     1715348      367990             -33            36.0   \n2     1784872      397406             -32            12.0   \n3     1903291      269225             -35            48.0   \n4     2341044      334279             -35            36.0   \n\n   CNT_INSTALMENT_FUTURE NAME_CONTRACT_STATUS  SK_DPD  SK_DPD_DEF  \n0                   45.0               Active       0           0  \n1                   35.0               Active       0           0  \n2                    9.0               Active       0           0  \n3                   42.0               Active       0           0  \n4                   35.0               Active       0           0  ",
      "text/html": "<div>\n<style scoped>\n    .dataframe tbody tr th:only-of-type {\n        vertical-align: middle;\n    }\n\n    .dataframe tbody tr th {\n        vertical-align: top;\n    }\n\n    .dataframe thead th {\n        text-align: right;\n    }\n</style>\n<table border=\"1\" class=\"dataframe\">\n  <thead>\n    <tr style=\"text-align: right;\">\n      <th></th>\n      <th>SK_ID_PREV</th>\n      <th>SK_ID_CURR</th>\n      <th>MONTHS_BALANCE</th>\n      <th>CNT_INSTALMENT</th>\n      <th>CNT_INSTALMENT_FUTURE</th>\n      <th>NAME_CONTRACT_STATUS</th>\n      <th>SK_DPD</th>\n      <th>SK_DPD_DEF</th>\n    </tr>\n  </thead>\n  <tbody>\n    <tr>\n      <th>0</th>\n      <td>1803195</td>\n      <td>182943</td>\n      <td>-31</td>\n      <td>48.0</td>\n      <td>45.0</td>\n      <td>Active</td>\n      <td>0</td>\n      <td>0</td>\n    </tr>\n    <tr>\n      <th>1</th>\n      <td>1715348</td>\n      <td>367990</td>\n      <td>-33</td>\n      <td>36.0</td>\n      <td>35.0</td>\n      <td>Active</td>\n      <td>0</td>\n      <td>0</td>\n    </tr>\n    <tr>\n      <th>2</th>\n      <td>1784872</td>\n      <td>397406</td>\n      <td>-32</td>\n      <td>12.0</td>\n      <td>9.0</td>\n      <td>Active</td>\n      <td>0</td>\n      <td>0</td>\n    </tr>\n    <tr>\n      <th>3</th>\n      <td>1903291</td>\n      <td>269225</td>\n      <td>-35</td>\n      <td>48.0</td>\n      <td>42.0</td>\n      <td>Active</td>\n      <td>0</td>\n      <td>0</td>\n    </tr>\n    <tr>\n      <th>4</th>\n      <td>2341044</td>\n      <td>334279</td>\n      <td>-35</td>\n      <td>36.0</td>\n      <td>35.0</td>\n      <td>Active</td>\n      <td>0</td>\n      <td>0</td>\n    </tr>\n  </tbody>\n</table>\n</div>"
     },
     "execution_count": 11,
     "metadata": {},
     "output_type": "execute_result"
    }
   ],
   "source": [
    "pos_cash_bal = pd.read_csv('POS_CASH_balance.csv')\n",
    "pos_cash_bal.head()"
   ]
  },
  {
   "cell_type": "code",
   "execution_count": 12,
   "id": "f24cfc69",
   "metadata": {
    "pycharm": {
     "name": "#%%\n"
    },
    "scrolled": true
   },
   "outputs": [
    {
     "name": "stdout",
     "output_type": "stream",
     "text": [
      "<class 'pandas.core.frame.DataFrame'>\n",
      "RangeIndex: 10001358 entries, 0 to 10001357\n",
      "Data columns (total 8 columns):\n",
      " #   Column                 Dtype  \n",
      "---  ------                 -----  \n",
      " 0   SK_ID_PREV             int64  \n",
      " 1   SK_ID_CURR             int64  \n",
      " 2   MONTHS_BALANCE         int64  \n",
      " 3   CNT_INSTALMENT         float64\n",
      " 4   CNT_INSTALMENT_FUTURE  float64\n",
      " 5   NAME_CONTRACT_STATUS   object \n",
      " 6   SK_DPD                 int64  \n",
      " 7   SK_DPD_DEF             int64  \n",
      "dtypes: float64(2), int64(5), object(1)\n",
      "memory usage: 610.4+ MB\n"
     ]
    }
   ],
   "source": [
    "pos_cash_bal.info()"
   ]
  },
  {
   "cell_type": "code",
   "execution_count": 13,
   "id": "c21b23e9",
   "metadata": {
    "pycharm": {
     "name": "#%%\n"
    }
   },
   "outputs": [
    {
     "data": {
      "text/plain": "                  col_name                                        description\n143            SK_ID_PREV   ID of previous credit in Home Credit related t...\n144             SK_ID_CURR                           ID of loan in our sample\n145         MONTHS_BALANCE  Month of balance relative to application date ...\n146         CNT_INSTALMENT     Term of previous credit (can change over time)\n147  CNT_INSTALMENT_FUTURE    Installments left to pay on the previous credit\n148   NAME_CONTRACT_STATUS                   Contract status during the month\n149                 SK_DPD  DPD (days past due) during the month of previo...\n150             SK_DPD_DEF  DPD during the month with tolerance (debts wit...",
      "text/html": "<div>\n<style scoped>\n    .dataframe tbody tr th:only-of-type {\n        vertical-align: middle;\n    }\n\n    .dataframe tbody tr th {\n        vertical-align: top;\n    }\n\n    .dataframe thead th {\n        text-align: right;\n    }\n</style>\n<table border=\"1\" class=\"dataframe\">\n  <thead>\n    <tr style=\"text-align: right;\">\n      <th></th>\n      <th>col_name</th>\n      <th>description</th>\n    </tr>\n  </thead>\n  <tbody>\n    <tr>\n      <th>143</th>\n      <td>SK_ID_PREV</td>\n      <td>ID of previous credit in Home Credit related t...</td>\n    </tr>\n    <tr>\n      <th>144</th>\n      <td>SK_ID_CURR</td>\n      <td>ID of loan in our sample</td>\n    </tr>\n    <tr>\n      <th>145</th>\n      <td>MONTHS_BALANCE</td>\n      <td>Month of balance relative to application date ...</td>\n    </tr>\n    <tr>\n      <th>146</th>\n      <td>CNT_INSTALMENT</td>\n      <td>Term of previous credit (can change over time)</td>\n    </tr>\n    <tr>\n      <th>147</th>\n      <td>CNT_INSTALMENT_FUTURE</td>\n      <td>Installments left to pay on the previous credit</td>\n    </tr>\n    <tr>\n      <th>148</th>\n      <td>NAME_CONTRACT_STATUS</td>\n      <td>Contract status during the month</td>\n    </tr>\n    <tr>\n      <th>149</th>\n      <td>SK_DPD</td>\n      <td>DPD (days past due) during the month of previo...</td>\n    </tr>\n    <tr>\n      <th>150</th>\n      <td>SK_DPD_DEF</td>\n      <td>DPD during the month with tolerance (debts wit...</td>\n    </tr>\n  </tbody>\n</table>\n</div>"
     },
     "execution_count": 13,
     "metadata": {},
     "output_type": "execute_result"
    }
   ],
   "source": [
    "view_description_columns(table='POS_CASH_balance.csv',data=df_description)"
   ]
  },
  {
   "cell_type": "markdown",
   "id": "8d810e71",
   "metadata": {
    "pycharm": {
     "name": "#%% md\n"
    }
   },
   "source": [
    "## Credit card balance `credit_card_bal` columns description"
   ]
  },
  {
   "cell_type": "code",
   "execution_count": 14,
   "id": "1256e23f",
   "metadata": {
    "pycharm": {
     "name": "#%%\n"
    }
   },
   "outputs": [
    {
     "data": {
      "text/plain": "   SK_ID_PREV  SK_ID_CURR  MONTHS_BALANCE  AMT_BALANCE  \\\n0     2562384      378907              -6       56.970   \n1     2582071      363914              -1    63975.555   \n2     1740877      371185              -7    31815.225   \n3     1389973      337855              -4   236572.110   \n4     1891521      126868              -1   453919.455   \n\n   AMT_CREDIT_LIMIT_ACTUAL  AMT_DRAWINGS_ATM_CURRENT  AMT_DRAWINGS_CURRENT  \\\n0                   135000                       0.0                 877.5   \n1                    45000                    2250.0                2250.0   \n2                   450000                       0.0                   0.0   \n3                   225000                    2250.0                2250.0   \n4                   450000                       0.0               11547.0   \n\n   AMT_DRAWINGS_OTHER_CURRENT  AMT_DRAWINGS_POS_CURRENT  \\\n0                         0.0                     877.5   \n1                         0.0                       0.0   \n2                         0.0                       0.0   \n3                         0.0                       0.0   \n4                         0.0                   11547.0   \n\n   AMT_INST_MIN_REGULARITY  ...  AMT_RECIVABLE  AMT_TOTAL_RECEIVABLE  \\\n0                 1700.325  ...          0.000                 0.000   \n1                 2250.000  ...      64875.555             64875.555   \n2                 2250.000  ...      31460.085             31460.085   \n3                11795.760  ...     233048.970            233048.970   \n4                22924.890  ...     453919.455            453919.455   \n\n   CNT_DRAWINGS_ATM_CURRENT  CNT_DRAWINGS_CURRENT  CNT_DRAWINGS_OTHER_CURRENT  \\\n0                       0.0                     1                         0.0   \n1                       1.0                     1                         0.0   \n2                       0.0                     0                         0.0   \n3                       1.0                     1                         0.0   \n4                       0.0                     1                         0.0   \n\n   CNT_DRAWINGS_POS_CURRENT  CNT_INSTALMENT_MATURE_CUM  NAME_CONTRACT_STATUS  \\\n0                       1.0                       35.0                Active   \n1                       0.0                       69.0                Active   \n2                       0.0                       30.0                Active   \n3                       0.0                       10.0                Active   \n4                       1.0                      101.0                Active   \n\n   SK_DPD  SK_DPD_DEF  \n0       0           0  \n1       0           0  \n2       0           0  \n3       0           0  \n4       0           0  \n\n[5 rows x 23 columns]",
      "text/html": "<div>\n<style scoped>\n    .dataframe tbody tr th:only-of-type {\n        vertical-align: middle;\n    }\n\n    .dataframe tbody tr th {\n        vertical-align: top;\n    }\n\n    .dataframe thead th {\n        text-align: right;\n    }\n</style>\n<table border=\"1\" class=\"dataframe\">\n  <thead>\n    <tr style=\"text-align: right;\">\n      <th></th>\n      <th>SK_ID_PREV</th>\n      <th>SK_ID_CURR</th>\n      <th>MONTHS_BALANCE</th>\n      <th>AMT_BALANCE</th>\n      <th>AMT_CREDIT_LIMIT_ACTUAL</th>\n      <th>AMT_DRAWINGS_ATM_CURRENT</th>\n      <th>AMT_DRAWINGS_CURRENT</th>\n      <th>AMT_DRAWINGS_OTHER_CURRENT</th>\n      <th>AMT_DRAWINGS_POS_CURRENT</th>\n      <th>AMT_INST_MIN_REGULARITY</th>\n      <th>...</th>\n      <th>AMT_RECIVABLE</th>\n      <th>AMT_TOTAL_RECEIVABLE</th>\n      <th>CNT_DRAWINGS_ATM_CURRENT</th>\n      <th>CNT_DRAWINGS_CURRENT</th>\n      <th>CNT_DRAWINGS_OTHER_CURRENT</th>\n      <th>CNT_DRAWINGS_POS_CURRENT</th>\n      <th>CNT_INSTALMENT_MATURE_CUM</th>\n      <th>NAME_CONTRACT_STATUS</th>\n      <th>SK_DPD</th>\n      <th>SK_DPD_DEF</th>\n    </tr>\n  </thead>\n  <tbody>\n    <tr>\n      <th>0</th>\n      <td>2562384</td>\n      <td>378907</td>\n      <td>-6</td>\n      <td>56.970</td>\n      <td>135000</td>\n      <td>0.0</td>\n      <td>877.5</td>\n      <td>0.0</td>\n      <td>877.5</td>\n      <td>1700.325</td>\n      <td>...</td>\n      <td>0.000</td>\n      <td>0.000</td>\n      <td>0.0</td>\n      <td>1</td>\n      <td>0.0</td>\n      <td>1.0</td>\n      <td>35.0</td>\n      <td>Active</td>\n      <td>0</td>\n      <td>0</td>\n    </tr>\n    <tr>\n      <th>1</th>\n      <td>2582071</td>\n      <td>363914</td>\n      <td>-1</td>\n      <td>63975.555</td>\n      <td>45000</td>\n      <td>2250.0</td>\n      <td>2250.0</td>\n      <td>0.0</td>\n      <td>0.0</td>\n      <td>2250.000</td>\n      <td>...</td>\n      <td>64875.555</td>\n      <td>64875.555</td>\n      <td>1.0</td>\n      <td>1</td>\n      <td>0.0</td>\n      <td>0.0</td>\n      <td>69.0</td>\n      <td>Active</td>\n      <td>0</td>\n      <td>0</td>\n    </tr>\n    <tr>\n      <th>2</th>\n      <td>1740877</td>\n      <td>371185</td>\n      <td>-7</td>\n      <td>31815.225</td>\n      <td>450000</td>\n      <td>0.0</td>\n      <td>0.0</td>\n      <td>0.0</td>\n      <td>0.0</td>\n      <td>2250.000</td>\n      <td>...</td>\n      <td>31460.085</td>\n      <td>31460.085</td>\n      <td>0.0</td>\n      <td>0</td>\n      <td>0.0</td>\n      <td>0.0</td>\n      <td>30.0</td>\n      <td>Active</td>\n      <td>0</td>\n      <td>0</td>\n    </tr>\n    <tr>\n      <th>3</th>\n      <td>1389973</td>\n      <td>337855</td>\n      <td>-4</td>\n      <td>236572.110</td>\n      <td>225000</td>\n      <td>2250.0</td>\n      <td>2250.0</td>\n      <td>0.0</td>\n      <td>0.0</td>\n      <td>11795.760</td>\n      <td>...</td>\n      <td>233048.970</td>\n      <td>233048.970</td>\n      <td>1.0</td>\n      <td>1</td>\n      <td>0.0</td>\n      <td>0.0</td>\n      <td>10.0</td>\n      <td>Active</td>\n      <td>0</td>\n      <td>0</td>\n    </tr>\n    <tr>\n      <th>4</th>\n      <td>1891521</td>\n      <td>126868</td>\n      <td>-1</td>\n      <td>453919.455</td>\n      <td>450000</td>\n      <td>0.0</td>\n      <td>11547.0</td>\n      <td>0.0</td>\n      <td>11547.0</td>\n      <td>22924.890</td>\n      <td>...</td>\n      <td>453919.455</td>\n      <td>453919.455</td>\n      <td>0.0</td>\n      <td>1</td>\n      <td>0.0</td>\n      <td>1.0</td>\n      <td>101.0</td>\n      <td>Active</td>\n      <td>0</td>\n      <td>0</td>\n    </tr>\n  </tbody>\n</table>\n<p>5 rows × 23 columns</p>\n</div>"
     },
     "execution_count": 14,
     "metadata": {},
     "output_type": "execute_result"
    }
   ],
   "source": [
    "credit_card_bal = pd.read_csv('credit_card_balance.csv')\n",
    "credit_card_bal.head()"
   ]
  },
  {
   "cell_type": "code",
   "execution_count": 15,
   "id": "b7e5bdf4",
   "metadata": {
    "pycharm": {
     "name": "#%%\n"
    },
    "scrolled": true
   },
   "outputs": [
    {
     "name": "stdout",
     "output_type": "stream",
     "text": [
      "<class 'pandas.core.frame.DataFrame'>\n",
      "RangeIndex: 3840312 entries, 0 to 3840311\n",
      "Data columns (total 23 columns):\n",
      " #   Column                      Dtype  \n",
      "---  ------                      -----  \n",
      " 0   SK_ID_PREV                  int64  \n",
      " 1   SK_ID_CURR                  int64  \n",
      " 2   MONTHS_BALANCE              int64  \n",
      " 3   AMT_BALANCE                 float64\n",
      " 4   AMT_CREDIT_LIMIT_ACTUAL     int64  \n",
      " 5   AMT_DRAWINGS_ATM_CURRENT    float64\n",
      " 6   AMT_DRAWINGS_CURRENT        float64\n",
      " 7   AMT_DRAWINGS_OTHER_CURRENT  float64\n",
      " 8   AMT_DRAWINGS_POS_CURRENT    float64\n",
      " 9   AMT_INST_MIN_REGULARITY     float64\n",
      " 10  AMT_PAYMENT_CURRENT         float64\n",
      " 11  AMT_PAYMENT_TOTAL_CURRENT   float64\n",
      " 12  AMT_RECEIVABLE_PRINCIPAL    float64\n",
      " 13  AMT_RECIVABLE               float64\n",
      " 14  AMT_TOTAL_RECEIVABLE        float64\n",
      " 15  CNT_DRAWINGS_ATM_CURRENT    float64\n",
      " 16  CNT_DRAWINGS_CURRENT        int64  \n",
      " 17  CNT_DRAWINGS_OTHER_CURRENT  float64\n",
      " 18  CNT_DRAWINGS_POS_CURRENT    float64\n",
      " 19  CNT_INSTALMENT_MATURE_CUM   float64\n",
      " 20  NAME_CONTRACT_STATUS        object \n",
      " 21  SK_DPD                      int64  \n",
      " 22  SK_DPD_DEF                  int64  \n",
      "dtypes: float64(15), int64(7), object(1)\n",
      "memory usage: 673.9+ MB\n"
     ]
    }
   ],
   "source": [
    "credit_card_bal.info()"
   ]
  },
  {
   "cell_type": "code",
   "execution_count": 16,
   "id": "53f75456",
   "metadata": {
    "pycharm": {
     "name": "#%%\n"
    }
   },
   "outputs": [
    {
     "data": {
      "text/plain": "                       col_name  \\\n151                 SK_ID_PREV    \n152                  SK_ID_CURR   \n153              MONTHS_BALANCE   \n154                 AMT_BALANCE   \n155     AMT_CREDIT_LIMIT_ACTUAL   \n156    AMT_DRAWINGS_ATM_CURRENT   \n157        AMT_DRAWINGS_CURRENT   \n158  AMT_DRAWINGS_OTHER_CURRENT   \n159    AMT_DRAWINGS_POS_CURRENT   \n160     AMT_INST_MIN_REGULARITY   \n161         AMT_PAYMENT_CURRENT   \n162   AMT_PAYMENT_TOTAL_CURRENT   \n163    AMT_RECEIVABLE_PRINCIPAL   \n164               AMT_RECIVABLE   \n165        AMT_TOTAL_RECEIVABLE   \n166    CNT_DRAWINGS_ATM_CURRENT   \n167        CNT_DRAWINGS_CURRENT   \n168  CNT_DRAWINGS_OTHER_CURRENT   \n169    CNT_DRAWINGS_POS_CURRENT   \n170   CNT_INSTALMENT_MATURE_CUM   \n171        NAME_CONTRACT_STATUS   \n172                      SK_DPD   \n173                  SK_DPD_DEF   \n\n                                           description  \n151  ID of previous credit in Home credit related t...  \n152                           ID of loan in our sample  \n153  Month of balance relative to application date ...  \n154        Balance during the month of previous credit  \n155  Credit card limit during the month of the prev...  \n156  Amount drawing at ATM during the month of the ...  \n157  Amount drawing during the month of the previou...  \n158  Amount of other drawings during the month of t...  \n159  Amount drawing or buying goods during the mont...  \n160  Minimal installment for this month of the prev...  \n161  How much did the client pay during the month o...  \n162  How much did the client pay during the month i...  \n163  Amount receivable for principal on the previou...  \n164           Amount receivable on the previous credit  \n165     Total amount receivable on the previous credit  \n166  Number of drawings at ATM during this month on...  \n167  Number of drawings during this month on the pr...  \n168  Number of other drawings during this month on ...  \n169  Number of drawings for goods during this month...  \n170  Number of paid installments on the previous cr...  \n171  Contract status (active signed,...) on the pre...  \n172  DPD (Days past due) during the month on the pr...  \n173  DPD (Days past due) during the month with tole...  ",
      "text/html": "<div>\n<style scoped>\n    .dataframe tbody tr th:only-of-type {\n        vertical-align: middle;\n    }\n\n    .dataframe tbody tr th {\n        vertical-align: top;\n    }\n\n    .dataframe thead th {\n        text-align: right;\n    }\n</style>\n<table border=\"1\" class=\"dataframe\">\n  <thead>\n    <tr style=\"text-align: right;\">\n      <th></th>\n      <th>col_name</th>\n      <th>description</th>\n    </tr>\n  </thead>\n  <tbody>\n    <tr>\n      <th>151</th>\n      <td>SK_ID_PREV</td>\n      <td>ID of previous credit in Home credit related t...</td>\n    </tr>\n    <tr>\n      <th>152</th>\n      <td>SK_ID_CURR</td>\n      <td>ID of loan in our sample</td>\n    </tr>\n    <tr>\n      <th>153</th>\n      <td>MONTHS_BALANCE</td>\n      <td>Month of balance relative to application date ...</td>\n    </tr>\n    <tr>\n      <th>154</th>\n      <td>AMT_BALANCE</td>\n      <td>Balance during the month of previous credit</td>\n    </tr>\n    <tr>\n      <th>155</th>\n      <td>AMT_CREDIT_LIMIT_ACTUAL</td>\n      <td>Credit card limit during the month of the prev...</td>\n    </tr>\n    <tr>\n      <th>156</th>\n      <td>AMT_DRAWINGS_ATM_CURRENT</td>\n      <td>Amount drawing at ATM during the month of the ...</td>\n    </tr>\n    <tr>\n      <th>157</th>\n      <td>AMT_DRAWINGS_CURRENT</td>\n      <td>Amount drawing during the month of the previou...</td>\n    </tr>\n    <tr>\n      <th>158</th>\n      <td>AMT_DRAWINGS_OTHER_CURRENT</td>\n      <td>Amount of other drawings during the month of t...</td>\n    </tr>\n    <tr>\n      <th>159</th>\n      <td>AMT_DRAWINGS_POS_CURRENT</td>\n      <td>Amount drawing or buying goods during the mont...</td>\n    </tr>\n    <tr>\n      <th>160</th>\n      <td>AMT_INST_MIN_REGULARITY</td>\n      <td>Minimal installment for this month of the prev...</td>\n    </tr>\n    <tr>\n      <th>161</th>\n      <td>AMT_PAYMENT_CURRENT</td>\n      <td>How much did the client pay during the month o...</td>\n    </tr>\n    <tr>\n      <th>162</th>\n      <td>AMT_PAYMENT_TOTAL_CURRENT</td>\n      <td>How much did the client pay during the month i...</td>\n    </tr>\n    <tr>\n      <th>163</th>\n      <td>AMT_RECEIVABLE_PRINCIPAL</td>\n      <td>Amount receivable for principal on the previou...</td>\n    </tr>\n    <tr>\n      <th>164</th>\n      <td>AMT_RECIVABLE</td>\n      <td>Amount receivable on the previous credit</td>\n    </tr>\n    <tr>\n      <th>165</th>\n      <td>AMT_TOTAL_RECEIVABLE</td>\n      <td>Total amount receivable on the previous credit</td>\n    </tr>\n    <tr>\n      <th>166</th>\n      <td>CNT_DRAWINGS_ATM_CURRENT</td>\n      <td>Number of drawings at ATM during this month on...</td>\n    </tr>\n    <tr>\n      <th>167</th>\n      <td>CNT_DRAWINGS_CURRENT</td>\n      <td>Number of drawings during this month on the pr...</td>\n    </tr>\n    <tr>\n      <th>168</th>\n      <td>CNT_DRAWINGS_OTHER_CURRENT</td>\n      <td>Number of other drawings during this month on ...</td>\n    </tr>\n    <tr>\n      <th>169</th>\n      <td>CNT_DRAWINGS_POS_CURRENT</td>\n      <td>Number of drawings for goods during this month...</td>\n    </tr>\n    <tr>\n      <th>170</th>\n      <td>CNT_INSTALMENT_MATURE_CUM</td>\n      <td>Number of paid installments on the previous cr...</td>\n    </tr>\n    <tr>\n      <th>171</th>\n      <td>NAME_CONTRACT_STATUS</td>\n      <td>Contract status (active signed,...) on the pre...</td>\n    </tr>\n    <tr>\n      <th>172</th>\n      <td>SK_DPD</td>\n      <td>DPD (Days past due) during the month on the pr...</td>\n    </tr>\n    <tr>\n      <th>173</th>\n      <td>SK_DPD_DEF</td>\n      <td>DPD (Days past due) during the month with tole...</td>\n    </tr>\n  </tbody>\n</table>\n</div>"
     },
     "execution_count": 16,
     "metadata": {},
     "output_type": "execute_result"
    }
   ],
   "source": [
    "view_description_columns('credit_card_balance.csv',data=df_description)"
   ]
  },
  {
   "cell_type": "markdown",
   "id": "e68ba78c",
   "metadata": {
    "pycharm": {
     "name": "#%% md\n"
    }
   },
   "source": [
    "## Bureau `bureau` columns description\n",
    "- All client's previous credits provided by other financial institutions that were reported to Credit Bureau (for clients who have a loan in our sample).\n",
    "- For every loan in our sample, there are as many rows as number of credits the client had in Credit Bureau before the application date."
   ]
  },
  {
   "cell_type": "code",
   "execution_count": 17,
   "id": "533a35af",
   "metadata": {
    "pycharm": {
     "name": "#%%\n"
    }
   },
   "outputs": [
    {
     "data": {
      "text/plain": "   SK_ID_CURR  SK_ID_BUREAU CREDIT_ACTIVE CREDIT_CURRENCY  DAYS_CREDIT  \\\n0      215354       5714462        Closed      currency 1         -497   \n1      215354       5714463        Active      currency 1         -208   \n2      215354       5714464        Active      currency 1         -203   \n3      215354       5714465        Active      currency 1         -203   \n4      215354       5714466        Active      currency 1         -629   \n\n   CREDIT_DAY_OVERDUE  DAYS_CREDIT_ENDDATE  DAYS_ENDDATE_FACT  \\\n0                   0               -153.0             -153.0   \n1                   0               1075.0                NaN   \n2                   0                528.0                NaN   \n3                   0                  NaN                NaN   \n4                   0               1197.0                NaN   \n\n   AMT_CREDIT_MAX_OVERDUE  CNT_CREDIT_PROLONG  AMT_CREDIT_SUM  \\\n0                     NaN                   0         91323.0   \n1                     NaN                   0        225000.0   \n2                     NaN                   0        464323.5   \n3                     NaN                   0         90000.0   \n4                 77674.5                   0       2700000.0   \n\n   AMT_CREDIT_SUM_DEBT  AMT_CREDIT_SUM_LIMIT  AMT_CREDIT_SUM_OVERDUE  \\\n0                  0.0                   NaN                     0.0   \n1             171342.0                   NaN                     0.0   \n2                  NaN                   NaN                     0.0   \n3                  NaN                   NaN                     0.0   \n4                  NaN                   NaN                     0.0   \n\n       CREDIT_TYPE  DAYS_CREDIT_UPDATE  AMT_ANNUITY  \n0  Consumer credit                -131          NaN  \n1      Credit card                 -20          NaN  \n2  Consumer credit                 -16          NaN  \n3      Credit card                 -16          NaN  \n4  Consumer credit                 -21          NaN  ",
      "text/html": "<div>\n<style scoped>\n    .dataframe tbody tr th:only-of-type {\n        vertical-align: middle;\n    }\n\n    .dataframe tbody tr th {\n        vertical-align: top;\n    }\n\n    .dataframe thead th {\n        text-align: right;\n    }\n</style>\n<table border=\"1\" class=\"dataframe\">\n  <thead>\n    <tr style=\"text-align: right;\">\n      <th></th>\n      <th>SK_ID_CURR</th>\n      <th>SK_ID_BUREAU</th>\n      <th>CREDIT_ACTIVE</th>\n      <th>CREDIT_CURRENCY</th>\n      <th>DAYS_CREDIT</th>\n      <th>CREDIT_DAY_OVERDUE</th>\n      <th>DAYS_CREDIT_ENDDATE</th>\n      <th>DAYS_ENDDATE_FACT</th>\n      <th>AMT_CREDIT_MAX_OVERDUE</th>\n      <th>CNT_CREDIT_PROLONG</th>\n      <th>AMT_CREDIT_SUM</th>\n      <th>AMT_CREDIT_SUM_DEBT</th>\n      <th>AMT_CREDIT_SUM_LIMIT</th>\n      <th>AMT_CREDIT_SUM_OVERDUE</th>\n      <th>CREDIT_TYPE</th>\n      <th>DAYS_CREDIT_UPDATE</th>\n      <th>AMT_ANNUITY</th>\n    </tr>\n  </thead>\n  <tbody>\n    <tr>\n      <th>0</th>\n      <td>215354</td>\n      <td>5714462</td>\n      <td>Closed</td>\n      <td>currency 1</td>\n      <td>-497</td>\n      <td>0</td>\n      <td>-153.0</td>\n      <td>-153.0</td>\n      <td>NaN</td>\n      <td>0</td>\n      <td>91323.0</td>\n      <td>0.0</td>\n      <td>NaN</td>\n      <td>0.0</td>\n      <td>Consumer credit</td>\n      <td>-131</td>\n      <td>NaN</td>\n    </tr>\n    <tr>\n      <th>1</th>\n      <td>215354</td>\n      <td>5714463</td>\n      <td>Active</td>\n      <td>currency 1</td>\n      <td>-208</td>\n      <td>0</td>\n      <td>1075.0</td>\n      <td>NaN</td>\n      <td>NaN</td>\n      <td>0</td>\n      <td>225000.0</td>\n      <td>171342.0</td>\n      <td>NaN</td>\n      <td>0.0</td>\n      <td>Credit card</td>\n      <td>-20</td>\n      <td>NaN</td>\n    </tr>\n    <tr>\n      <th>2</th>\n      <td>215354</td>\n      <td>5714464</td>\n      <td>Active</td>\n      <td>currency 1</td>\n      <td>-203</td>\n      <td>0</td>\n      <td>528.0</td>\n      <td>NaN</td>\n      <td>NaN</td>\n      <td>0</td>\n      <td>464323.5</td>\n      <td>NaN</td>\n      <td>NaN</td>\n      <td>0.0</td>\n      <td>Consumer credit</td>\n      <td>-16</td>\n      <td>NaN</td>\n    </tr>\n    <tr>\n      <th>3</th>\n      <td>215354</td>\n      <td>5714465</td>\n      <td>Active</td>\n      <td>currency 1</td>\n      <td>-203</td>\n      <td>0</td>\n      <td>NaN</td>\n      <td>NaN</td>\n      <td>NaN</td>\n      <td>0</td>\n      <td>90000.0</td>\n      <td>NaN</td>\n      <td>NaN</td>\n      <td>0.0</td>\n      <td>Credit card</td>\n      <td>-16</td>\n      <td>NaN</td>\n    </tr>\n    <tr>\n      <th>4</th>\n      <td>215354</td>\n      <td>5714466</td>\n      <td>Active</td>\n      <td>currency 1</td>\n      <td>-629</td>\n      <td>0</td>\n      <td>1197.0</td>\n      <td>NaN</td>\n      <td>77674.5</td>\n      <td>0</td>\n      <td>2700000.0</td>\n      <td>NaN</td>\n      <td>NaN</td>\n      <td>0.0</td>\n      <td>Consumer credit</td>\n      <td>-21</td>\n      <td>NaN</td>\n    </tr>\n  </tbody>\n</table>\n</div>"
     },
     "execution_count": 17,
     "metadata": {},
     "output_type": "execute_result"
    }
   ],
   "source": [
    "bureau = pd.read_csv('bureau.csv')\n",
    "bureau.head()"
   ]
  },
  {
   "cell_type": "code",
   "execution_count": 18,
   "id": "021483d4",
   "metadata": {
    "pycharm": {
     "name": "#%%\n"
    }
   },
   "outputs": [
    {
     "name": "stdout",
     "output_type": "stream",
     "text": [
      "<class 'pandas.core.frame.DataFrame'>\n",
      "RangeIndex: 1716428 entries, 0 to 1716427\n",
      "Data columns (total 17 columns):\n",
      " #   Column                  Dtype  \n",
      "---  ------                  -----  \n",
      " 0   SK_ID_CURR              int64  \n",
      " 1   SK_ID_BUREAU            int64  \n",
      " 2   CREDIT_ACTIVE           object \n",
      " 3   CREDIT_CURRENCY         object \n",
      " 4   DAYS_CREDIT             int64  \n",
      " 5   CREDIT_DAY_OVERDUE      int64  \n",
      " 6   DAYS_CREDIT_ENDDATE     float64\n",
      " 7   DAYS_ENDDATE_FACT       float64\n",
      " 8   AMT_CREDIT_MAX_OVERDUE  float64\n",
      " 9   CNT_CREDIT_PROLONG      int64  \n",
      " 10  AMT_CREDIT_SUM          float64\n",
      " 11  AMT_CREDIT_SUM_DEBT     float64\n",
      " 12  AMT_CREDIT_SUM_LIMIT    float64\n",
      " 13  AMT_CREDIT_SUM_OVERDUE  float64\n",
      " 14  CREDIT_TYPE             object \n",
      " 15  DAYS_CREDIT_UPDATE      int64  \n",
      " 16  AMT_ANNUITY             float64\n",
      "dtypes: float64(8), int64(6), object(3)\n",
      "memory usage: 222.6+ MB\n"
     ]
    }
   ],
   "source": [
    "bureau.info()"
   ]
  },
  {
   "cell_type": "code",
   "execution_count": 19,
   "id": "adef7bcc",
   "metadata": {
    "pycharm": {
     "name": "#%%\n"
    }
   },
   "outputs": [
    {
     "data": {
      "text/plain": "                   col_name                                        description\n123              SK_ID_CURR  ID of loan in our sample - one loan in our sam...\n124            SK_BUREAU_ID  Recoded ID of previous Credit Bureau credit re...\n125           CREDIT_ACTIVE  Status of the Credit Bureau (CB) reported credits\n126         CREDIT_CURRENCY       Recoded currency of the Credit Bureau credit\n127             DAYS_CREDIT  How many days before current application did c...\n128      CREDIT_DAY_OVERDUE  Number of days past due on CB credit at the ti...\n129     DAYS_CREDIT_ENDDATE  Remaining duration of CB credit (in days) at t...\n130       DAYS_ENDDATE_FACT  Days since CB credit ended at the time of appl...\n131  AMT_CREDIT_MAX_OVERDUE  Maximal amount overdue on the Credit Bureau cr...\n132      CNT_CREDIT_PROLONG  How many times was the Credit Bureau credit pr...\n133          AMT_CREDIT_SUM  Current credit amount for the Credit Bureau cr...\n134     AMT_CREDIT_SUM_DEBT               Current debt on Credit Bureau credit\n135    AMT_CREDIT_SUM_LIMIT  Current credit limit of credit card reported i...\n136  AMT_CREDIT_SUM_OVERDUE     Current amount overdue on Credit Bureau credit\n137             CREDIT_TYPE       Type of Credit Bureau credit (Car, cash,...)\n138      DAYS_CREDIT_UPDATE  How many days before loan application did last...\n139             AMT_ANNUITY                Annuity of the Credit Bureau credit",
      "text/html": "<div>\n<style scoped>\n    .dataframe tbody tr th:only-of-type {\n        vertical-align: middle;\n    }\n\n    .dataframe tbody tr th {\n        vertical-align: top;\n    }\n\n    .dataframe thead th {\n        text-align: right;\n    }\n</style>\n<table border=\"1\" class=\"dataframe\">\n  <thead>\n    <tr style=\"text-align: right;\">\n      <th></th>\n      <th>col_name</th>\n      <th>description</th>\n    </tr>\n  </thead>\n  <tbody>\n    <tr>\n      <th>123</th>\n      <td>SK_ID_CURR</td>\n      <td>ID of loan in our sample - one loan in our sam...</td>\n    </tr>\n    <tr>\n      <th>124</th>\n      <td>SK_BUREAU_ID</td>\n      <td>Recoded ID of previous Credit Bureau credit re...</td>\n    </tr>\n    <tr>\n      <th>125</th>\n      <td>CREDIT_ACTIVE</td>\n      <td>Status of the Credit Bureau (CB) reported credits</td>\n    </tr>\n    <tr>\n      <th>126</th>\n      <td>CREDIT_CURRENCY</td>\n      <td>Recoded currency of the Credit Bureau credit</td>\n    </tr>\n    <tr>\n      <th>127</th>\n      <td>DAYS_CREDIT</td>\n      <td>How many days before current application did c...</td>\n    </tr>\n    <tr>\n      <th>128</th>\n      <td>CREDIT_DAY_OVERDUE</td>\n      <td>Number of days past due on CB credit at the ti...</td>\n    </tr>\n    <tr>\n      <th>129</th>\n      <td>DAYS_CREDIT_ENDDATE</td>\n      <td>Remaining duration of CB credit (in days) at t...</td>\n    </tr>\n    <tr>\n      <th>130</th>\n      <td>DAYS_ENDDATE_FACT</td>\n      <td>Days since CB credit ended at the time of appl...</td>\n    </tr>\n    <tr>\n      <th>131</th>\n      <td>AMT_CREDIT_MAX_OVERDUE</td>\n      <td>Maximal amount overdue on the Credit Bureau cr...</td>\n    </tr>\n    <tr>\n      <th>132</th>\n      <td>CNT_CREDIT_PROLONG</td>\n      <td>How many times was the Credit Bureau credit pr...</td>\n    </tr>\n    <tr>\n      <th>133</th>\n      <td>AMT_CREDIT_SUM</td>\n      <td>Current credit amount for the Credit Bureau cr...</td>\n    </tr>\n    <tr>\n      <th>134</th>\n      <td>AMT_CREDIT_SUM_DEBT</td>\n      <td>Current debt on Credit Bureau credit</td>\n    </tr>\n    <tr>\n      <th>135</th>\n      <td>AMT_CREDIT_SUM_LIMIT</td>\n      <td>Current credit limit of credit card reported i...</td>\n    </tr>\n    <tr>\n      <th>136</th>\n      <td>AMT_CREDIT_SUM_OVERDUE</td>\n      <td>Current amount overdue on Credit Bureau credit</td>\n    </tr>\n    <tr>\n      <th>137</th>\n      <td>CREDIT_TYPE</td>\n      <td>Type of Credit Bureau credit (Car, cash,...)</td>\n    </tr>\n    <tr>\n      <th>138</th>\n      <td>DAYS_CREDIT_UPDATE</td>\n      <td>How many days before loan application did last...</td>\n    </tr>\n    <tr>\n      <th>139</th>\n      <td>AMT_ANNUITY</td>\n      <td>Annuity of the Credit Bureau credit</td>\n    </tr>\n  </tbody>\n</table>\n</div>"
     },
     "execution_count": 19,
     "metadata": {},
     "output_type": "execute_result"
    }
   ],
   "source": [
    "view_description_columns('bureau.csv',data=df_description)"
   ]
  },
  {
   "cell_type": "markdown",
   "id": "56f0f623",
   "metadata": {
    "pycharm": {
     "name": "#%% md\n"
    }
   },
   "source": [
    "## Bureau balance `bureau_applic` columns description\n",
    "- Monthly balances of previous credits in Credit Bureau.\n",
    "- This table has one row for each month of history of every previous credit reported to Credit Bureau – i.e the table has (#loans in sample * # of relative previous credits * # of months where we have some history observable for the previous credits) rows."
   ]
  },
  {
   "cell_type": "code",
   "execution_count": 20,
   "id": "e0221029",
   "metadata": {
    "pycharm": {
     "name": "#%%\n"
    }
   },
   "outputs": [
    {
     "data": {
      "text/plain": "   SK_ID_BUREAU  MONTHS_BALANCE STATUS\n0       5715448               0      C\n1       5715448              -1      C\n2       5715448              -2      C\n3       5715448              -3      C\n4       5715448              -4      C",
      "text/html": "<div>\n<style scoped>\n    .dataframe tbody tr th:only-of-type {\n        vertical-align: middle;\n    }\n\n    .dataframe tbody tr th {\n        vertical-align: top;\n    }\n\n    .dataframe thead th {\n        text-align: right;\n    }\n</style>\n<table border=\"1\" class=\"dataframe\">\n  <thead>\n    <tr style=\"text-align: right;\">\n      <th></th>\n      <th>SK_ID_BUREAU</th>\n      <th>MONTHS_BALANCE</th>\n      <th>STATUS</th>\n    </tr>\n  </thead>\n  <tbody>\n    <tr>\n      <th>0</th>\n      <td>5715448</td>\n      <td>0</td>\n      <td>C</td>\n    </tr>\n    <tr>\n      <th>1</th>\n      <td>5715448</td>\n      <td>-1</td>\n      <td>C</td>\n    </tr>\n    <tr>\n      <th>2</th>\n      <td>5715448</td>\n      <td>-2</td>\n      <td>C</td>\n    </tr>\n    <tr>\n      <th>3</th>\n      <td>5715448</td>\n      <td>-3</td>\n      <td>C</td>\n    </tr>\n    <tr>\n      <th>4</th>\n      <td>5715448</td>\n      <td>-4</td>\n      <td>C</td>\n    </tr>\n  </tbody>\n</table>\n</div>"
     },
     "execution_count": 20,
     "metadata": {},
     "output_type": "execute_result"
    }
   ],
   "source": [
    "bureau_applic = pd.read_csv('bureau_balance.csv')\n",
    "bureau_applic.head()"
   ]
  },
  {
   "cell_type": "code",
   "execution_count": 21,
   "id": "edd8356f",
   "metadata": {
    "pycharm": {
     "name": "#%%\n"
    }
   },
   "outputs": [
    {
     "name": "stdout",
     "output_type": "stream",
     "text": [
      "<class 'pandas.core.frame.DataFrame'>\n",
      "RangeIndex: 27299925 entries, 0 to 27299924\n",
      "Data columns (total 3 columns):\n",
      " #   Column          Dtype \n",
      "---  ------          ----- \n",
      " 0   SK_ID_BUREAU    int64 \n",
      " 1   MONTHS_BALANCE  int64 \n",
      " 2   STATUS          object\n",
      "dtypes: int64(2), object(1)\n",
      "memory usage: 624.8+ MB\n"
     ]
    }
   ],
   "source": [
    "bureau_applic.info()"
   ]
  },
  {
   "cell_type": "code",
   "execution_count": 22,
   "id": "51ada29b",
   "metadata": {
    "pycharm": {
     "name": "#%%\n"
    }
   },
   "outputs": [
    {
     "data": {
      "text/plain": "           col_name                                        description\n140    SK_BUREAU_ID  Recoded ID of Credit Bureau credit (unique cod...\n141  MONTHS_BALANCE  Month of balance relative to application date ...\n142          STATUS  Status of Credit Bureau loan during the month ...",
      "text/html": "<div>\n<style scoped>\n    .dataframe tbody tr th:only-of-type {\n        vertical-align: middle;\n    }\n\n    .dataframe tbody tr th {\n        vertical-align: top;\n    }\n\n    .dataframe thead th {\n        text-align: right;\n    }\n</style>\n<table border=\"1\" class=\"dataframe\">\n  <thead>\n    <tr style=\"text-align: right;\">\n      <th></th>\n      <th>col_name</th>\n      <th>description</th>\n    </tr>\n  </thead>\n  <tbody>\n    <tr>\n      <th>140</th>\n      <td>SK_BUREAU_ID</td>\n      <td>Recoded ID of Credit Bureau credit (unique cod...</td>\n    </tr>\n    <tr>\n      <th>141</th>\n      <td>MONTHS_BALANCE</td>\n      <td>Month of balance relative to application date ...</td>\n    </tr>\n    <tr>\n      <th>142</th>\n      <td>STATUS</td>\n      <td>Status of Credit Bureau loan during the month ...</td>\n    </tr>\n  </tbody>\n</table>\n</div>"
     },
     "execution_count": 22,
     "metadata": {},
     "output_type": "execute_result"
    }
   ],
   "source": [
    "view_description_columns('bureau_balance.csv',data=df_description)"
   ]
  },
  {
   "cell_type": "markdown",
   "id": "2595fa99",
   "metadata": {
    "pycharm": {
     "name": "#%% md\n"
    }
   },
   "source": [
    "## Train data `train_data` columns descriptiions"
   ]
  },
  {
   "cell_type": "code",
   "execution_count": 23,
   "id": "4dae35aa",
   "metadata": {
    "pycharm": {
     "name": "#%%\n"
    }
   },
   "outputs": [
    {
     "data": {
      "text/plain": "   SK_ID_CURR  TARGET NAME_CONTRACT_TYPE CODE_GENDER FLAG_OWN_CAR  \\\n0      100002       1         Cash loans           M            N   \n1      100003       0         Cash loans           F            N   \n2      100004       0    Revolving loans           M            Y   \n3      100006       0         Cash loans           F            N   \n4      100007       0         Cash loans           M            N   \n\n  FLAG_OWN_REALTY  CNT_CHILDREN  AMT_INCOME_TOTAL  AMT_CREDIT  AMT_ANNUITY  \\\n0               Y             0          202500.0    406597.5      24700.5   \n1               N             0          270000.0   1293502.5      35698.5   \n2               Y             0           67500.0    135000.0       6750.0   \n3               Y             0          135000.0    312682.5      29686.5   \n4               Y             0          121500.0    513000.0      21865.5   \n\n   ...  FLAG_DOCUMENT_18 FLAG_DOCUMENT_19 FLAG_DOCUMENT_20 FLAG_DOCUMENT_21  \\\n0  ...                 0                0                0                0   \n1  ...                 0                0                0                0   \n2  ...                 0                0                0                0   \n3  ...                 0                0                0                0   \n4  ...                 0                0                0                0   \n\n  AMT_REQ_CREDIT_BUREAU_HOUR AMT_REQ_CREDIT_BUREAU_DAY  \\\n0                        0.0                       0.0   \n1                        0.0                       0.0   \n2                        0.0                       0.0   \n3                        NaN                       NaN   \n4                        0.0                       0.0   \n\n   AMT_REQ_CREDIT_BUREAU_WEEK  AMT_REQ_CREDIT_BUREAU_MON  \\\n0                         0.0                        0.0   \n1                         0.0                        0.0   \n2                         0.0                        0.0   \n3                         NaN                        NaN   \n4                         0.0                        0.0   \n\n   AMT_REQ_CREDIT_BUREAU_QRT  AMT_REQ_CREDIT_BUREAU_YEAR  \n0                        0.0                         1.0  \n1                        0.0                         0.0  \n2                        0.0                         0.0  \n3                        NaN                         NaN  \n4                        0.0                         0.0  \n\n[5 rows x 122 columns]",
      "text/html": "<div>\n<style scoped>\n    .dataframe tbody tr th:only-of-type {\n        vertical-align: middle;\n    }\n\n    .dataframe tbody tr th {\n        vertical-align: top;\n    }\n\n    .dataframe thead th {\n        text-align: right;\n    }\n</style>\n<table border=\"1\" class=\"dataframe\">\n  <thead>\n    <tr style=\"text-align: right;\">\n      <th></th>\n      <th>SK_ID_CURR</th>\n      <th>TARGET</th>\n      <th>NAME_CONTRACT_TYPE</th>\n      <th>CODE_GENDER</th>\n      <th>FLAG_OWN_CAR</th>\n      <th>FLAG_OWN_REALTY</th>\n      <th>CNT_CHILDREN</th>\n      <th>AMT_INCOME_TOTAL</th>\n      <th>AMT_CREDIT</th>\n      <th>AMT_ANNUITY</th>\n      <th>...</th>\n      <th>FLAG_DOCUMENT_18</th>\n      <th>FLAG_DOCUMENT_19</th>\n      <th>FLAG_DOCUMENT_20</th>\n      <th>FLAG_DOCUMENT_21</th>\n      <th>AMT_REQ_CREDIT_BUREAU_HOUR</th>\n      <th>AMT_REQ_CREDIT_BUREAU_DAY</th>\n      <th>AMT_REQ_CREDIT_BUREAU_WEEK</th>\n      <th>AMT_REQ_CREDIT_BUREAU_MON</th>\n      <th>AMT_REQ_CREDIT_BUREAU_QRT</th>\n      <th>AMT_REQ_CREDIT_BUREAU_YEAR</th>\n    </tr>\n  </thead>\n  <tbody>\n    <tr>\n      <th>0</th>\n      <td>100002</td>\n      <td>1</td>\n      <td>Cash loans</td>\n      <td>M</td>\n      <td>N</td>\n      <td>Y</td>\n      <td>0</td>\n      <td>202500.0</td>\n      <td>406597.5</td>\n      <td>24700.5</td>\n      <td>...</td>\n      <td>0</td>\n      <td>0</td>\n      <td>0</td>\n      <td>0</td>\n      <td>0.0</td>\n      <td>0.0</td>\n      <td>0.0</td>\n      <td>0.0</td>\n      <td>0.0</td>\n      <td>1.0</td>\n    </tr>\n    <tr>\n      <th>1</th>\n      <td>100003</td>\n      <td>0</td>\n      <td>Cash loans</td>\n      <td>F</td>\n      <td>N</td>\n      <td>N</td>\n      <td>0</td>\n      <td>270000.0</td>\n      <td>1293502.5</td>\n      <td>35698.5</td>\n      <td>...</td>\n      <td>0</td>\n      <td>0</td>\n      <td>0</td>\n      <td>0</td>\n      <td>0.0</td>\n      <td>0.0</td>\n      <td>0.0</td>\n      <td>0.0</td>\n      <td>0.0</td>\n      <td>0.0</td>\n    </tr>\n    <tr>\n      <th>2</th>\n      <td>100004</td>\n      <td>0</td>\n      <td>Revolving loans</td>\n      <td>M</td>\n      <td>Y</td>\n      <td>Y</td>\n      <td>0</td>\n      <td>67500.0</td>\n      <td>135000.0</td>\n      <td>6750.0</td>\n      <td>...</td>\n      <td>0</td>\n      <td>0</td>\n      <td>0</td>\n      <td>0</td>\n      <td>0.0</td>\n      <td>0.0</td>\n      <td>0.0</td>\n      <td>0.0</td>\n      <td>0.0</td>\n      <td>0.0</td>\n    </tr>\n    <tr>\n      <th>3</th>\n      <td>100006</td>\n      <td>0</td>\n      <td>Cash loans</td>\n      <td>F</td>\n      <td>N</td>\n      <td>Y</td>\n      <td>0</td>\n      <td>135000.0</td>\n      <td>312682.5</td>\n      <td>29686.5</td>\n      <td>...</td>\n      <td>0</td>\n      <td>0</td>\n      <td>0</td>\n      <td>0</td>\n      <td>NaN</td>\n      <td>NaN</td>\n      <td>NaN</td>\n      <td>NaN</td>\n      <td>NaN</td>\n      <td>NaN</td>\n    </tr>\n    <tr>\n      <th>4</th>\n      <td>100007</td>\n      <td>0</td>\n      <td>Cash loans</td>\n      <td>M</td>\n      <td>N</td>\n      <td>Y</td>\n      <td>0</td>\n      <td>121500.0</td>\n      <td>513000.0</td>\n      <td>21865.5</td>\n      <td>...</td>\n      <td>0</td>\n      <td>0</td>\n      <td>0</td>\n      <td>0</td>\n      <td>0.0</td>\n      <td>0.0</td>\n      <td>0.0</td>\n      <td>0.0</td>\n      <td>0.0</td>\n      <td>0.0</td>\n    </tr>\n  </tbody>\n</table>\n<p>5 rows × 122 columns</p>\n</div>"
     },
     "execution_count": 23,
     "metadata": {},
     "output_type": "execute_result"
    }
   ],
   "source": [
    "train_data = pd.read_csv('application_train.csv')\n",
    "train_data.head()"
   ]
  },
  {
   "cell_type": "code",
   "execution_count": 24,
   "id": "6ddb07d6",
   "metadata": {
    "pycharm": {
     "name": "#%%\n"
    }
   },
   "outputs": [
    {
     "name": "stdout",
     "output_type": "stream",
     "text": [
      "<class 'pandas.core.frame.DataFrame'>\n",
      "RangeIndex: 307511 entries, 0 to 307510\n",
      "Columns: 122 entries, SK_ID_CURR to AMT_REQ_CREDIT_BUREAU_YEAR\n",
      "dtypes: float64(65), int64(41), object(16)\n",
      "memory usage: 286.2+ MB\n"
     ]
    }
   ],
   "source": [
    "train_data.info()"
   ]
  },
  {
   "cell_type": "code",
   "execution_count": 25,
   "id": "f232a7f2",
   "metadata": {
    "pycharm": {
     "name": "#%%\n"
    }
   },
   "outputs": [],
   "source": [
    "test_data = pd.read_csv('application_test.csv')"
   ]
  },
  {
   "cell_type": "code",
   "execution_count": 26,
   "id": "c4c65d7d",
   "metadata": {
    "pycharm": {
     "name": "#%%\n"
    }
   },
   "outputs": [
    {
     "data": {
      "text/plain": "       SK_ID_CURR NAME_CONTRACT_TYPE CODE_GENDER FLAG_OWN_CAR FLAG_OWN_REALTY  \\\n0          100001         Cash loans           F            N               Y   \n1          100005         Cash loans           M            N               Y   \n2          100013         Cash loans           M            Y               Y   \n3          100028         Cash loans           F            N               Y   \n4          100038         Cash loans           M            Y               N   \n...           ...                ...         ...          ...             ...   \n48739      456221         Cash loans           F            N               Y   \n48740      456222         Cash loans           F            N               N   \n48741      456223         Cash loans           F            Y               Y   \n48742      456224         Cash loans           M            N               N   \n48743      456250         Cash loans           F            Y               N   \n\n       CNT_CHILDREN  AMT_INCOME_TOTAL  AMT_CREDIT  AMT_ANNUITY  \\\n0                 0          135000.0    568800.0      20560.5   \n1                 0           99000.0    222768.0      17370.0   \n2                 0          202500.0    663264.0      69777.0   \n3                 2          315000.0   1575000.0      49018.5   \n4                 1          180000.0    625500.0      32067.0   \n...             ...               ...         ...          ...   \n48739             0          121500.0    412560.0      17473.5   \n48740             2          157500.0    622413.0      31909.5   \n48741             1          202500.0    315000.0      33205.5   \n48742             0          225000.0    450000.0      25128.0   \n48743             0          135000.0    312768.0      24709.5   \n\n       AMT_GOODS_PRICE  ... FLAG_DOCUMENT_18 FLAG_DOCUMENT_19  \\\n0             450000.0  ...                0                0   \n1             180000.0  ...                0                0   \n2             630000.0  ...                0                0   \n3            1575000.0  ...                0                0   \n4             625500.0  ...                0                0   \n...                ...  ...              ...              ...   \n48739         270000.0  ...                0                0   \n48740         495000.0  ...                0                0   \n48741         315000.0  ...                0                0   \n48742         450000.0  ...                0                0   \n48743         270000.0  ...                0                0   \n\n      FLAG_DOCUMENT_20 FLAG_DOCUMENT_21 AMT_REQ_CREDIT_BUREAU_HOUR  \\\n0                    0                0                        0.0   \n1                    0                0                        0.0   \n2                    0                0                        0.0   \n3                    0                0                        0.0   \n4                    0                0                        NaN   \n...                ...              ...                        ...   \n48739                0                0                        0.0   \n48740                0                0                        NaN   \n48741                0                0                        0.0   \n48742                0                0                        0.0   \n48743                0                0                        0.0   \n\n       AMT_REQ_CREDIT_BUREAU_DAY  AMT_REQ_CREDIT_BUREAU_WEEK  \\\n0                            0.0                         0.0   \n1                            0.0                         0.0   \n2                            0.0                         0.0   \n3                            0.0                         0.0   \n4                            NaN                         NaN   \n...                          ...                         ...   \n48739                        0.0                         0.0   \n48740                        NaN                         NaN   \n48741                        0.0                         0.0   \n48742                        0.0                         0.0   \n48743                        0.0                         0.0   \n\n       AMT_REQ_CREDIT_BUREAU_MON  AMT_REQ_CREDIT_BUREAU_QRT  \\\n0                            0.0                        0.0   \n1                            0.0                        0.0   \n2                            0.0                        1.0   \n3                            0.0                        0.0   \n4                            NaN                        NaN   \n...                          ...                        ...   \n48739                        0.0                        0.0   \n48740                        NaN                        NaN   \n48741                        0.0                        3.0   \n48742                        0.0                        0.0   \n48743                        0.0                        1.0   \n\n       AMT_REQ_CREDIT_BUREAU_YEAR  \n0                             0.0  \n1                             3.0  \n2                             4.0  \n3                             3.0  \n4                             NaN  \n...                           ...  \n48739                         1.0  \n48740                         NaN  \n48741                         1.0  \n48742                         2.0  \n48743                         4.0  \n\n[48744 rows x 121 columns]",
      "text/html": "<div>\n<style scoped>\n    .dataframe tbody tr th:only-of-type {\n        vertical-align: middle;\n    }\n\n    .dataframe tbody tr th {\n        vertical-align: top;\n    }\n\n    .dataframe thead th {\n        text-align: right;\n    }\n</style>\n<table border=\"1\" class=\"dataframe\">\n  <thead>\n    <tr style=\"text-align: right;\">\n      <th></th>\n      <th>SK_ID_CURR</th>\n      <th>NAME_CONTRACT_TYPE</th>\n      <th>CODE_GENDER</th>\n      <th>FLAG_OWN_CAR</th>\n      <th>FLAG_OWN_REALTY</th>\n      <th>CNT_CHILDREN</th>\n      <th>AMT_INCOME_TOTAL</th>\n      <th>AMT_CREDIT</th>\n      <th>AMT_ANNUITY</th>\n      <th>AMT_GOODS_PRICE</th>\n      <th>...</th>\n      <th>FLAG_DOCUMENT_18</th>\n      <th>FLAG_DOCUMENT_19</th>\n      <th>FLAG_DOCUMENT_20</th>\n      <th>FLAG_DOCUMENT_21</th>\n      <th>AMT_REQ_CREDIT_BUREAU_HOUR</th>\n      <th>AMT_REQ_CREDIT_BUREAU_DAY</th>\n      <th>AMT_REQ_CREDIT_BUREAU_WEEK</th>\n      <th>AMT_REQ_CREDIT_BUREAU_MON</th>\n      <th>AMT_REQ_CREDIT_BUREAU_QRT</th>\n      <th>AMT_REQ_CREDIT_BUREAU_YEAR</th>\n    </tr>\n  </thead>\n  <tbody>\n    <tr>\n      <th>0</th>\n      <td>100001</td>\n      <td>Cash loans</td>\n      <td>F</td>\n      <td>N</td>\n      <td>Y</td>\n      <td>0</td>\n      <td>135000.0</td>\n      <td>568800.0</td>\n      <td>20560.5</td>\n      <td>450000.0</td>\n      <td>...</td>\n      <td>0</td>\n      <td>0</td>\n      <td>0</td>\n      <td>0</td>\n      <td>0.0</td>\n      <td>0.0</td>\n      <td>0.0</td>\n      <td>0.0</td>\n      <td>0.0</td>\n      <td>0.0</td>\n    </tr>\n    <tr>\n      <th>1</th>\n      <td>100005</td>\n      <td>Cash loans</td>\n      <td>M</td>\n      <td>N</td>\n      <td>Y</td>\n      <td>0</td>\n      <td>99000.0</td>\n      <td>222768.0</td>\n      <td>17370.0</td>\n      <td>180000.0</td>\n      <td>...</td>\n      <td>0</td>\n      <td>0</td>\n      <td>0</td>\n      <td>0</td>\n      <td>0.0</td>\n      <td>0.0</td>\n      <td>0.0</td>\n      <td>0.0</td>\n      <td>0.0</td>\n      <td>3.0</td>\n    </tr>\n    <tr>\n      <th>2</th>\n      <td>100013</td>\n      <td>Cash loans</td>\n      <td>M</td>\n      <td>Y</td>\n      <td>Y</td>\n      <td>0</td>\n      <td>202500.0</td>\n      <td>663264.0</td>\n      <td>69777.0</td>\n      <td>630000.0</td>\n      <td>...</td>\n      <td>0</td>\n      <td>0</td>\n      <td>0</td>\n      <td>0</td>\n      <td>0.0</td>\n      <td>0.0</td>\n      <td>0.0</td>\n      <td>0.0</td>\n      <td>1.0</td>\n      <td>4.0</td>\n    </tr>\n    <tr>\n      <th>3</th>\n      <td>100028</td>\n      <td>Cash loans</td>\n      <td>F</td>\n      <td>N</td>\n      <td>Y</td>\n      <td>2</td>\n      <td>315000.0</td>\n      <td>1575000.0</td>\n      <td>49018.5</td>\n      <td>1575000.0</td>\n      <td>...</td>\n      <td>0</td>\n      <td>0</td>\n      <td>0</td>\n      <td>0</td>\n      <td>0.0</td>\n      <td>0.0</td>\n      <td>0.0</td>\n      <td>0.0</td>\n      <td>0.0</td>\n      <td>3.0</td>\n    </tr>\n    <tr>\n      <th>4</th>\n      <td>100038</td>\n      <td>Cash loans</td>\n      <td>M</td>\n      <td>Y</td>\n      <td>N</td>\n      <td>1</td>\n      <td>180000.0</td>\n      <td>625500.0</td>\n      <td>32067.0</td>\n      <td>625500.0</td>\n      <td>...</td>\n      <td>0</td>\n      <td>0</td>\n      <td>0</td>\n      <td>0</td>\n      <td>NaN</td>\n      <td>NaN</td>\n      <td>NaN</td>\n      <td>NaN</td>\n      <td>NaN</td>\n      <td>NaN</td>\n    </tr>\n    <tr>\n      <th>...</th>\n      <td>...</td>\n      <td>...</td>\n      <td>...</td>\n      <td>...</td>\n      <td>...</td>\n      <td>...</td>\n      <td>...</td>\n      <td>...</td>\n      <td>...</td>\n      <td>...</td>\n      <td>...</td>\n      <td>...</td>\n      <td>...</td>\n      <td>...</td>\n      <td>...</td>\n      <td>...</td>\n      <td>...</td>\n      <td>...</td>\n      <td>...</td>\n      <td>...</td>\n      <td>...</td>\n    </tr>\n    <tr>\n      <th>48739</th>\n      <td>456221</td>\n      <td>Cash loans</td>\n      <td>F</td>\n      <td>N</td>\n      <td>Y</td>\n      <td>0</td>\n      <td>121500.0</td>\n      <td>412560.0</td>\n      <td>17473.5</td>\n      <td>270000.0</td>\n      <td>...</td>\n      <td>0</td>\n      <td>0</td>\n      <td>0</td>\n      <td>0</td>\n      <td>0.0</td>\n      <td>0.0</td>\n      <td>0.0</td>\n      <td>0.0</td>\n      <td>0.0</td>\n      <td>1.0</td>\n    </tr>\n    <tr>\n      <th>48740</th>\n      <td>456222</td>\n      <td>Cash loans</td>\n      <td>F</td>\n      <td>N</td>\n      <td>N</td>\n      <td>2</td>\n      <td>157500.0</td>\n      <td>622413.0</td>\n      <td>31909.5</td>\n      <td>495000.0</td>\n      <td>...</td>\n      <td>0</td>\n      <td>0</td>\n      <td>0</td>\n      <td>0</td>\n      <td>NaN</td>\n      <td>NaN</td>\n      <td>NaN</td>\n      <td>NaN</td>\n      <td>NaN</td>\n      <td>NaN</td>\n    </tr>\n    <tr>\n      <th>48741</th>\n      <td>456223</td>\n      <td>Cash loans</td>\n      <td>F</td>\n      <td>Y</td>\n      <td>Y</td>\n      <td>1</td>\n      <td>202500.0</td>\n      <td>315000.0</td>\n      <td>33205.5</td>\n      <td>315000.0</td>\n      <td>...</td>\n      <td>0</td>\n      <td>0</td>\n      <td>0</td>\n      <td>0</td>\n      <td>0.0</td>\n      <td>0.0</td>\n      <td>0.0</td>\n      <td>0.0</td>\n      <td>3.0</td>\n      <td>1.0</td>\n    </tr>\n    <tr>\n      <th>48742</th>\n      <td>456224</td>\n      <td>Cash loans</td>\n      <td>M</td>\n      <td>N</td>\n      <td>N</td>\n      <td>0</td>\n      <td>225000.0</td>\n      <td>450000.0</td>\n      <td>25128.0</td>\n      <td>450000.0</td>\n      <td>...</td>\n      <td>0</td>\n      <td>0</td>\n      <td>0</td>\n      <td>0</td>\n      <td>0.0</td>\n      <td>0.0</td>\n      <td>0.0</td>\n      <td>0.0</td>\n      <td>0.0</td>\n      <td>2.0</td>\n    </tr>\n    <tr>\n      <th>48743</th>\n      <td>456250</td>\n      <td>Cash loans</td>\n      <td>F</td>\n      <td>Y</td>\n      <td>N</td>\n      <td>0</td>\n      <td>135000.0</td>\n      <td>312768.0</td>\n      <td>24709.5</td>\n      <td>270000.0</td>\n      <td>...</td>\n      <td>0</td>\n      <td>0</td>\n      <td>0</td>\n      <td>0</td>\n      <td>0.0</td>\n      <td>0.0</td>\n      <td>0.0</td>\n      <td>0.0</td>\n      <td>1.0</td>\n      <td>4.0</td>\n    </tr>\n  </tbody>\n</table>\n<p>48744 rows × 121 columns</p>\n</div>"
     },
     "execution_count": 26,
     "metadata": {},
     "output_type": "execute_result"
    }
   ],
   "source": [
    "test_data"
   ]
  },
  {
   "cell_type": "markdown",
   "id": "5a07c496",
   "metadata": {
    "pycharm": {
     "name": "#%% md\n"
    }
   },
   "source": [
    "# Data Completeness Check"
   ]
  },
  {
   "cell_type": "markdown",
   "id": "748c3aea",
   "metadata": {
    "pycharm": {
     "name": "#%% md\n"
    }
   },
   "source": [
    "## Missing value check"
   ]
  },
  {
   "cell_type": "code",
   "execution_count": 27,
   "id": "90330271",
   "metadata": {
    "pycharm": {
     "name": "#%%\n"
    }
   },
   "outputs": [],
   "source": [
    "# Function to calculate missing values by column# Funct\n",
    "def missing_values_table(df):\n",
    "    # Total missing values\n",
    "    mis_val = df.isnull().sum()\n",
    "\n",
    "    # Percentage of missing values\n",
    "    mis_val_percent = 100 * df.isnull().sum() / len(df)\n",
    "\n",
    "    # Make a table with the results\n",
    "    mis_val_table = pd.concat([mis_val, mis_val_percent], axis=1)\n",
    "\n",
    "    # Rename the columns\n",
    "    mis_val_table_ren_columns = mis_val_table.rename(\n",
    "        columns = {0 : 'Missing Values', 1 : '% of Total Values'})\n",
    "\n",
    "    # Sort the table by percentage of missing descending\n",
    "    mis_val_table_ren_columns = mis_val_table_ren_columns[\n",
    "        mis_val_table_ren_columns.iloc[:,1] != 0].sort_values(\n",
    "        '% of Total Values', ascending=False).round(1)\n",
    "\n",
    "    # Print some summary information\n",
    "    print (\"Your selected dataframe has \" + str(df.shape[1]) + \" columns.\\n\"\n",
    "                                                               \"There are \" + str(mis_val_table_ren_columns.shape[0]) +\n",
    "           \" columns that have missing values.\")\n",
    "    # Return the dataframe with missing information\n",
    "    return mis_val_table_ren_columns"
   ]
  },
  {
   "cell_type": "markdown",
   "id": "fcfb6565",
   "metadata": {
    "pycharm": {
     "name": "#%% md\n"
    }
   },
   "source": [
    "### Previous Application Missing value check"
   ]
  },
  {
   "cell_type": "code",
   "execution_count": 28,
   "id": "3a655f8e",
   "metadata": {
    "pycharm": {
     "name": "#%%\n"
    }
   },
   "outputs": [
    {
     "name": "stdout",
     "output_type": "stream",
     "text": [
      "Your selected dataframe has 37 columns.\n",
      "There are 16 columns that have missing values.\n"
     ]
    },
    {
     "data": {
      "text/plain": "                           Missing Values  % of Total Values\nRATE_INTEREST_PRIMARY             1664263               99.6\nRATE_INTEREST_PRIVILEGED          1664263               99.6\nAMT_DOWN_PAYMENT                   895844               53.6\nRATE_DOWN_PAYMENT                  895844               53.6\nNAME_TYPE_SUITE                    820405               49.1\nDAYS_FIRST_DRAWING                 673065               40.3\nDAYS_FIRST_DUE                     673065               40.3\nDAYS_LAST_DUE_1ST_VERSION          673065               40.3\nDAYS_LAST_DUE                      673065               40.3\nDAYS_TERMINATION                   673065               40.3\nNFLAG_INSURED_ON_APPROVAL          673065               40.3\nAMT_GOODS_PRICE                    385515               23.1\nAMT_ANNUITY                        372235               22.3\nCNT_PAYMENT                        372230               22.3\nPRODUCT_COMBINATION                   346                0.0\nAMT_CREDIT                              1                0.0",
      "text/html": "<div>\n<style scoped>\n    .dataframe tbody tr th:only-of-type {\n        vertical-align: middle;\n    }\n\n    .dataframe tbody tr th {\n        vertical-align: top;\n    }\n\n    .dataframe thead th {\n        text-align: right;\n    }\n</style>\n<table border=\"1\" class=\"dataframe\">\n  <thead>\n    <tr style=\"text-align: right;\">\n      <th></th>\n      <th>Missing Values</th>\n      <th>% of Total Values</th>\n    </tr>\n  </thead>\n  <tbody>\n    <tr>\n      <th>RATE_INTEREST_PRIMARY</th>\n      <td>1664263</td>\n      <td>99.6</td>\n    </tr>\n    <tr>\n      <th>RATE_INTEREST_PRIVILEGED</th>\n      <td>1664263</td>\n      <td>99.6</td>\n    </tr>\n    <tr>\n      <th>AMT_DOWN_PAYMENT</th>\n      <td>895844</td>\n      <td>53.6</td>\n    </tr>\n    <tr>\n      <th>RATE_DOWN_PAYMENT</th>\n      <td>895844</td>\n      <td>53.6</td>\n    </tr>\n    <tr>\n      <th>NAME_TYPE_SUITE</th>\n      <td>820405</td>\n      <td>49.1</td>\n    </tr>\n    <tr>\n      <th>DAYS_FIRST_DRAWING</th>\n      <td>673065</td>\n      <td>40.3</td>\n    </tr>\n    <tr>\n      <th>DAYS_FIRST_DUE</th>\n      <td>673065</td>\n      <td>40.3</td>\n    </tr>\n    <tr>\n      <th>DAYS_LAST_DUE_1ST_VERSION</th>\n      <td>673065</td>\n      <td>40.3</td>\n    </tr>\n    <tr>\n      <th>DAYS_LAST_DUE</th>\n      <td>673065</td>\n      <td>40.3</td>\n    </tr>\n    <tr>\n      <th>DAYS_TERMINATION</th>\n      <td>673065</td>\n      <td>40.3</td>\n    </tr>\n    <tr>\n      <th>NFLAG_INSURED_ON_APPROVAL</th>\n      <td>673065</td>\n      <td>40.3</td>\n    </tr>\n    <tr>\n      <th>AMT_GOODS_PRICE</th>\n      <td>385515</td>\n      <td>23.1</td>\n    </tr>\n    <tr>\n      <th>AMT_ANNUITY</th>\n      <td>372235</td>\n      <td>22.3</td>\n    </tr>\n    <tr>\n      <th>CNT_PAYMENT</th>\n      <td>372230</td>\n      <td>22.3</td>\n    </tr>\n    <tr>\n      <th>PRODUCT_COMBINATION</th>\n      <td>346</td>\n      <td>0.0</td>\n    </tr>\n    <tr>\n      <th>AMT_CREDIT</th>\n      <td>1</td>\n      <td>0.0</td>\n    </tr>\n  </tbody>\n</table>\n</div>"
     },
     "execution_count": 28,
     "metadata": {},
     "output_type": "execute_result"
    }
   ],
   "source": [
    "missing_values_table(prev_applic)"
   ]
  },
  {
   "cell_type": "markdown",
   "id": "cbc83958",
   "metadata": {
    "pycharm": {
     "name": "#%% md\n"
    }
   },
   "source": [
    "### Installments Missing value check"
   ]
  },
  {
   "cell_type": "code",
   "execution_count": 29,
   "id": "f37f0514",
   "metadata": {
    "pycharm": {
     "name": "#%%\n"
    }
   },
   "outputs": [
    {
     "name": "stdout",
     "output_type": "stream",
     "text": [
      "Your selected dataframe has 8 columns.\n",
      "There are 2 columns that have missing values.\n"
     ]
    },
    {
     "data": {
      "text/plain": "                    Missing Values  % of Total Values\nDAYS_ENTRY_PAYMENT            2905                0.0\nAMT_PAYMENT                   2905                0.0",
      "text/html": "<div>\n<style scoped>\n    .dataframe tbody tr th:only-of-type {\n        vertical-align: middle;\n    }\n\n    .dataframe tbody tr th {\n        vertical-align: top;\n    }\n\n    .dataframe thead th {\n        text-align: right;\n    }\n</style>\n<table border=\"1\" class=\"dataframe\">\n  <thead>\n    <tr style=\"text-align: right;\">\n      <th></th>\n      <th>Missing Values</th>\n      <th>% of Total Values</th>\n    </tr>\n  </thead>\n  <tbody>\n    <tr>\n      <th>DAYS_ENTRY_PAYMENT</th>\n      <td>2905</td>\n      <td>0.0</td>\n    </tr>\n    <tr>\n      <th>AMT_PAYMENT</th>\n      <td>2905</td>\n      <td>0.0</td>\n    </tr>\n  </tbody>\n</table>\n</div>"
     },
     "execution_count": 29,
     "metadata": {},
     "output_type": "execute_result"
    }
   ],
   "source": [
    "missing_values_table(installments)"
   ]
  },
  {
   "cell_type": "markdown",
   "id": "1e9fdaf1",
   "metadata": {
    "pycharm": {
     "name": "#%% md\n"
    }
   },
   "source": [
    "### POS_CASH_Balance Missing value check"
   ]
  },
  {
   "cell_type": "code",
   "execution_count": 30,
   "id": "17bc1dec",
   "metadata": {
    "pycharm": {
     "name": "#%%\n"
    }
   },
   "outputs": [
    {
     "name": "stdout",
     "output_type": "stream",
     "text": [
      "Your selected dataframe has 8 columns.\n",
      "There are 2 columns that have missing values.\n"
     ]
    },
    {
     "data": {
      "text/plain": "                       Missing Values  % of Total Values\nCNT_INSTALMENT_FUTURE           26087                0.3\nCNT_INSTALMENT                  26071                0.3",
      "text/html": "<div>\n<style scoped>\n    .dataframe tbody tr th:only-of-type {\n        vertical-align: middle;\n    }\n\n    .dataframe tbody tr th {\n        vertical-align: top;\n    }\n\n    .dataframe thead th {\n        text-align: right;\n    }\n</style>\n<table border=\"1\" class=\"dataframe\">\n  <thead>\n    <tr style=\"text-align: right;\">\n      <th></th>\n      <th>Missing Values</th>\n      <th>% of Total Values</th>\n    </tr>\n  </thead>\n  <tbody>\n    <tr>\n      <th>CNT_INSTALMENT_FUTURE</th>\n      <td>26087</td>\n      <td>0.3</td>\n    </tr>\n    <tr>\n      <th>CNT_INSTALMENT</th>\n      <td>26071</td>\n      <td>0.3</td>\n    </tr>\n  </tbody>\n</table>\n</div>"
     },
     "execution_count": 30,
     "metadata": {},
     "output_type": "execute_result"
    }
   ],
   "source": [
    "missing_values_table(pos_cash_bal)"
   ]
  },
  {
   "cell_type": "markdown",
   "id": "0c683773",
   "metadata": {
    "pycharm": {
     "name": "#%% md\n"
    }
   },
   "source": [
    "### Credit card balance Missing value check"
   ]
  },
  {
   "cell_type": "code",
   "execution_count": 31,
   "id": "11a05ef1",
   "metadata": {
    "pycharm": {
     "name": "#%%\n"
    }
   },
   "outputs": [
    {
     "name": "stdout",
     "output_type": "stream",
     "text": [
      "Your selected dataframe has 23 columns.\n",
      "There are 9 columns that have missing values.\n"
     ]
    },
    {
     "data": {
      "text/plain": "                            Missing Values  % of Total Values\nAMT_PAYMENT_CURRENT                 767988               20.0\nAMT_DRAWINGS_ATM_CURRENT            749816               19.5\nAMT_DRAWINGS_OTHER_CURRENT          749816               19.5\nAMT_DRAWINGS_POS_CURRENT            749816               19.5\nCNT_DRAWINGS_ATM_CURRENT            749816               19.5\nCNT_DRAWINGS_OTHER_CURRENT          749816               19.5\nCNT_DRAWINGS_POS_CURRENT            749816               19.5\nAMT_INST_MIN_REGULARITY             305236                7.9\nCNT_INSTALMENT_MATURE_CUM           305236                7.9",
      "text/html": "<div>\n<style scoped>\n    .dataframe tbody tr th:only-of-type {\n        vertical-align: middle;\n    }\n\n    .dataframe tbody tr th {\n        vertical-align: top;\n    }\n\n    .dataframe thead th {\n        text-align: right;\n    }\n</style>\n<table border=\"1\" class=\"dataframe\">\n  <thead>\n    <tr style=\"text-align: right;\">\n      <th></th>\n      <th>Missing Values</th>\n      <th>% of Total Values</th>\n    </tr>\n  </thead>\n  <tbody>\n    <tr>\n      <th>AMT_PAYMENT_CURRENT</th>\n      <td>767988</td>\n      <td>20.0</td>\n    </tr>\n    <tr>\n      <th>AMT_DRAWINGS_ATM_CURRENT</th>\n      <td>749816</td>\n      <td>19.5</td>\n    </tr>\n    <tr>\n      <th>AMT_DRAWINGS_OTHER_CURRENT</th>\n      <td>749816</td>\n      <td>19.5</td>\n    </tr>\n    <tr>\n      <th>AMT_DRAWINGS_POS_CURRENT</th>\n      <td>749816</td>\n      <td>19.5</td>\n    </tr>\n    <tr>\n      <th>CNT_DRAWINGS_ATM_CURRENT</th>\n      <td>749816</td>\n      <td>19.5</td>\n    </tr>\n    <tr>\n      <th>CNT_DRAWINGS_OTHER_CURRENT</th>\n      <td>749816</td>\n      <td>19.5</td>\n    </tr>\n    <tr>\n      <th>CNT_DRAWINGS_POS_CURRENT</th>\n      <td>749816</td>\n      <td>19.5</td>\n    </tr>\n    <tr>\n      <th>AMT_INST_MIN_REGULARITY</th>\n      <td>305236</td>\n      <td>7.9</td>\n    </tr>\n    <tr>\n      <th>CNT_INSTALMENT_MATURE_CUM</th>\n      <td>305236</td>\n      <td>7.9</td>\n    </tr>\n  </tbody>\n</table>\n</div>"
     },
     "execution_count": 31,
     "metadata": {},
     "output_type": "execute_result"
    }
   ],
   "source": [
    "missing_values_table(credit_card_bal)"
   ]
  },
  {
   "cell_type": "markdown",
   "id": "ea79ab99",
   "metadata": {
    "pycharm": {
     "name": "#%% md\n"
    }
   },
   "source": [
    "### Bureau Missing value check"
   ]
  },
  {
   "cell_type": "code",
   "execution_count": 32,
   "id": "bf6c490c",
   "metadata": {
    "pycharm": {
     "name": "#%%\n"
    }
   },
   "outputs": [
    {
     "name": "stdout",
     "output_type": "stream",
     "text": [
      "Your selected dataframe has 17 columns.\n",
      "There are 7 columns that have missing values.\n"
     ]
    },
    {
     "data": {
      "text/plain": "                        Missing Values  % of Total Values\nAMT_ANNUITY                    1226791               71.5\nAMT_CREDIT_MAX_OVERDUE         1124488               65.5\nDAYS_ENDDATE_FACT               633653               36.9\nAMT_CREDIT_SUM_LIMIT            591780               34.5\nAMT_CREDIT_SUM_DEBT             257669               15.0\nDAYS_CREDIT_ENDDATE             105553                6.1\nAMT_CREDIT_SUM                      13                0.0",
      "text/html": "<div>\n<style scoped>\n    .dataframe tbody tr th:only-of-type {\n        vertical-align: middle;\n    }\n\n    .dataframe tbody tr th {\n        vertical-align: top;\n    }\n\n    .dataframe thead th {\n        text-align: right;\n    }\n</style>\n<table border=\"1\" class=\"dataframe\">\n  <thead>\n    <tr style=\"text-align: right;\">\n      <th></th>\n      <th>Missing Values</th>\n      <th>% of Total Values</th>\n    </tr>\n  </thead>\n  <tbody>\n    <tr>\n      <th>AMT_ANNUITY</th>\n      <td>1226791</td>\n      <td>71.5</td>\n    </tr>\n    <tr>\n      <th>AMT_CREDIT_MAX_OVERDUE</th>\n      <td>1124488</td>\n      <td>65.5</td>\n    </tr>\n    <tr>\n      <th>DAYS_ENDDATE_FACT</th>\n      <td>633653</td>\n      <td>36.9</td>\n    </tr>\n    <tr>\n      <th>AMT_CREDIT_SUM_LIMIT</th>\n      <td>591780</td>\n      <td>34.5</td>\n    </tr>\n    <tr>\n      <th>AMT_CREDIT_SUM_DEBT</th>\n      <td>257669</td>\n      <td>15.0</td>\n    </tr>\n    <tr>\n      <th>DAYS_CREDIT_ENDDATE</th>\n      <td>105553</td>\n      <td>6.1</td>\n    </tr>\n    <tr>\n      <th>AMT_CREDIT_SUM</th>\n      <td>13</td>\n      <td>0.0</td>\n    </tr>\n  </tbody>\n</table>\n</div>"
     },
     "execution_count": 32,
     "metadata": {},
     "output_type": "execute_result"
    }
   ],
   "source": [
    "missing_values_table(bureau)"
   ]
  },
  {
   "cell_type": "markdown",
   "id": "29f459da",
   "metadata": {
    "pycharm": {
     "name": "#%% md\n"
    }
   },
   "source": [
    "### Bureau balance Missing value check"
   ]
  },
  {
   "cell_type": "code",
   "execution_count": 33,
   "id": "39b5ef5b",
   "metadata": {
    "pycharm": {
     "name": "#%%\n"
    }
   },
   "outputs": [
    {
     "name": "stdout",
     "output_type": "stream",
     "text": [
      "Your selected dataframe has 3 columns.\n",
      "There are 0 columns that have missing values.\n"
     ]
    },
    {
     "data": {
      "text/plain": "Empty DataFrame\nColumns: [Missing Values, % of Total Values]\nIndex: []",
      "text/html": "<div>\n<style scoped>\n    .dataframe tbody tr th:only-of-type {\n        vertical-align: middle;\n    }\n\n    .dataframe tbody tr th {\n        vertical-align: top;\n    }\n\n    .dataframe thead th {\n        text-align: right;\n    }\n</style>\n<table border=\"1\" class=\"dataframe\">\n  <thead>\n    <tr style=\"text-align: right;\">\n      <th></th>\n      <th>Missing Values</th>\n      <th>% of Total Values</th>\n    </tr>\n  </thead>\n  <tbody>\n  </tbody>\n</table>\n</div>"
     },
     "execution_count": 33,
     "metadata": {},
     "output_type": "execute_result"
    }
   ],
   "source": [
    "missing_values_table(bureau_applic)"
   ]
  },
  {
   "cell_type": "markdown",
   "id": "5b258b8a",
   "metadata": {
    "pycharm": {
     "name": "#%% md\n"
    }
   },
   "source": [
    "### Train data Missing value check"
   ]
  },
  {
   "cell_type": "code",
   "execution_count": 34,
   "id": "30de693c",
   "metadata": {
    "pycharm": {
     "name": "#%%\n"
    }
   },
   "outputs": [
    {
     "name": "stdout",
     "output_type": "stream",
     "text": [
      "Your selected dataframe has 122 columns.\n",
      "There are 67 columns that have missing values.\n"
     ]
    },
    {
     "data": {
      "text/plain": "                          Missing Values  % of Total Values\nCOMMONAREA_MEDI                   214865               69.9\nCOMMONAREA_AVG                    214865               69.9\nCOMMONAREA_MODE                   214865               69.9\nNONLIVINGAPARTMENTS_MEDI          213514               69.4\nNONLIVINGAPARTMENTS_MODE          213514               69.4\n...                                  ...                ...\nEXT_SOURCE_2                         660                0.2\nAMT_GOODS_PRICE                      278                0.1\nAMT_ANNUITY                           12                0.0\nCNT_FAM_MEMBERS                        2                0.0\nDAYS_LAST_PHONE_CHANGE                 1                0.0\n\n[67 rows x 2 columns]",
      "text/html": "<div>\n<style scoped>\n    .dataframe tbody tr th:only-of-type {\n        vertical-align: middle;\n    }\n\n    .dataframe tbody tr th {\n        vertical-align: top;\n    }\n\n    .dataframe thead th {\n        text-align: right;\n    }\n</style>\n<table border=\"1\" class=\"dataframe\">\n  <thead>\n    <tr style=\"text-align: right;\">\n      <th></th>\n      <th>Missing Values</th>\n      <th>% of Total Values</th>\n    </tr>\n  </thead>\n  <tbody>\n    <tr>\n      <th>COMMONAREA_MEDI</th>\n      <td>214865</td>\n      <td>69.9</td>\n    </tr>\n    <tr>\n      <th>COMMONAREA_AVG</th>\n      <td>214865</td>\n      <td>69.9</td>\n    </tr>\n    <tr>\n      <th>COMMONAREA_MODE</th>\n      <td>214865</td>\n      <td>69.9</td>\n    </tr>\n    <tr>\n      <th>NONLIVINGAPARTMENTS_MEDI</th>\n      <td>213514</td>\n      <td>69.4</td>\n    </tr>\n    <tr>\n      <th>NONLIVINGAPARTMENTS_MODE</th>\n      <td>213514</td>\n      <td>69.4</td>\n    </tr>\n    <tr>\n      <th>...</th>\n      <td>...</td>\n      <td>...</td>\n    </tr>\n    <tr>\n      <th>EXT_SOURCE_2</th>\n      <td>660</td>\n      <td>0.2</td>\n    </tr>\n    <tr>\n      <th>AMT_GOODS_PRICE</th>\n      <td>278</td>\n      <td>0.1</td>\n    </tr>\n    <tr>\n      <th>AMT_ANNUITY</th>\n      <td>12</td>\n      <td>0.0</td>\n    </tr>\n    <tr>\n      <th>CNT_FAM_MEMBERS</th>\n      <td>2</td>\n      <td>0.0</td>\n    </tr>\n    <tr>\n      <th>DAYS_LAST_PHONE_CHANGE</th>\n      <td>1</td>\n      <td>0.0</td>\n    </tr>\n  </tbody>\n</table>\n<p>67 rows × 2 columns</p>\n</div>"
     },
     "execution_count": 34,
     "metadata": {},
     "output_type": "execute_result"
    }
   ],
   "source": [
    "missing_values_table(train_data)"
   ]
  },
  {
   "cell_type": "markdown",
   "id": "d4bc8d6b",
   "metadata": {
    "pycharm": {
     "name": "#%% md\n"
    }
   },
   "source": []
  },
  {
   "cell_type": "markdown",
   "id": "96bc2d5c",
   "metadata": {
    "pycharm": {
     "name": "#%% md\n"
    }
   },
   "source": [
    "# Exploratory Data Analysis and Data Processing"
   ]
  },
  {
   "cell_type": "markdown",
   "id": "701f65f0",
   "metadata": {
    "pycharm": {
     "name": "#%% md\n"
    }
   },
   "source": [
    "## application_{train|test}.csv"
   ]
  },
  {
   "cell_type": "markdown",
   "id": "f1954d60",
   "metadata": {
    "pycharm": {
     "name": "#%% md\n"
    }
   },
   "source": [
    "### Distribution of target column in training dataset"
   ]
  },
  {
   "cell_type": "code",
   "execution_count": 35,
   "id": "c44fea38",
   "metadata": {
    "pycharm": {
     "name": "#%%\n"
    }
   },
   "outputs": [
    {
     "data": {
      "text/plain": "<Figure size 432x288 with 1 Axes>",
      "image/png": "[encoded data removed]"
     },
     "metadata": {},
     "output_type": "display_data"
    }
   ],
   "source": [
    "plt.figure()\n",
    "train_data['TARGET'].value_counts(normalize = True).plot(kind = 'bar')\n",
    "plt.title('The distribution of target column')\n",
    "plt.xlabel('default outcome')\n",
    "plt.ylabel('ratio')\n",
    "plt.xticks(rotation = 0)\n",
    "plt.show()"
   ]
  },
  {
   "cell_type": "markdown",
   "id": "90d226ab",
   "metadata": {
    "pycharm": {
     "name": "#%% md\n"
    }
   },
   "source": [
    "## bureau.csv"
   ]
  },
  {
   "cell_type": "markdown",
   "id": "b6db77b6",
   "metadata": {
    "pycharm": {
     "name": "#%% md\n"
    }
   },
   "source": [
    "### Credit type and amount of total credit distribution"
   ]
  },
  {
   "cell_type": "code",
   "execution_count": 36,
   "id": "01d09f95",
   "metadata": {
    "pycharm": {
     "name": "#%%\n"
    }
   },
   "outputs": [
    {
     "data": {
      "text/plain": "<Figure size 720x720 with 3 Axes>",
      "image/png": "[encoded data removed]"
     },
     "metadata": {},
     "output_type": "display_data"
    }
   ],
   "source": [
    "fig,(ax1,ax2,ax3) = plt.subplots(nrows=3,ncols=1,sharex=True,figsize= (10,10))\n",
    "plt.subplot(3,1,1)\n",
    "sns.barplot(data = bureau,x = 'CREDIT_TYPE',y='AMT_CREDIT_SUM',estimator=np.mean,ax = ax1)\n",
    "plt.xticks(rotation = 90)\n",
    "plt.xlabel('Credit type')\n",
    "plt.title('Average amount of credit and credit type contrast')\n",
    "plt.subplot(3,1,2)\n",
    "sns.countplot(data= bureau, x='CREDIT_TYPE',ax = ax2)\n",
    "plt.xticks(rotation = 90)\n",
    "plt.title('Count of credit type')\n",
    "plt.subplot(3,1,3)\n",
    "sns.barplot(data= bureau, x = 'CREDIT_TYPE', y = 'CREDIT_DAY_OVERDUE', estimator=np.mean,ax = ax3)\n",
    "plt.xticks(rotation = 90)\n",
    "plt.title('Average overdue days group by credit type')\n",
    "plt.ylabel('average overdue days')\n",
    "plt.show()\n"
   ]
  },
  {
   "cell_type": "markdown",
   "id": "66c80f13",
   "metadata": {
    "pycharm": {
     "name": "#%% md\n"
    }
   },
   "source": [
    "### Overdue Amount classified by currency"
   ]
  },
  {
   "cell_type": "code",
   "execution_count": 37,
   "id": "3c366f3c",
   "metadata": {
    "pycharm": {
     "name": "#%%\n"
    }
   },
   "outputs": [
    {
     "data": {
      "text/plain": "<Figure size 432x288 with 0 Axes>"
     },
     "metadata": {},
     "output_type": "display_data"
    },
    {
     "data": {
      "text/plain": "<Figure size 432x288 with 1 Axes>",
      "image/png": "[encoded data removed]"
     },
     "metadata": {},
     "output_type": "display_data"
    }
   ],
   "source": [
    "plt.figure()\n",
    "bureau[['CREDIT_CURRENCY','AMT_CREDIT_MAX_OVERDUE']].groupby('CREDIT_CURRENCY').agg(np.mean).plot(kind='barh')\n",
    "plt.xlabel('average max overdue amount')\n",
    "plt.ylabel('currency')\n",
    "plt.title('Average max overdue amount group by currency')\n",
    "plt.show()"
   ]
  },
  {
   "cell_type": "markdown",
   "id": "ff547517",
   "metadata": {
    "pycharm": {
     "name": "#%% md\n"
    }
   },
   "source": [
    "## previous_application,csv"
   ]
  },
  {
   "cell_type": "markdown",
   "id": "1de2edec",
   "metadata": {
    "pycharm": {
     "name": "#%% md\n"
    }
   },
   "source": [
    "### Amount customers previously requested VS. Amount customers finally got approved"
   ]
  },
  {
   "cell_type": "code",
   "execution_count": 40,
   "id": "a8934e58",
   "metadata": {
    "pycharm": {
     "name": "#%%\n"
    }
   },
   "outputs": [
    {
     "data": {
      "image/png": "[encoded data removed]"
     },
     "metadata": {},
     "output_type": "display_data"
    }
   ],
   "source": [
    "import plotly.graph_objects as go\n",
    "x0 =prev_applic['AMT_APPLICATION']\n",
    "x1 =prev_applic['AMT_CREDIT']\n",
    "fig = go.Figure()\n",
    "fig.add_trace(go.Histogram(x=x0))\n",
    "fig.add_trace(go.Histogram(x=x1))\n",
    "fig.update_layout(barmode='overlay')\n",
    "fig.update_traces(opacity = 0.75)\n",
    "fig.show('png')"
   ]
  },
  {
   "cell_type": "code",
   "execution_count": 38,
   "id": "f6894358",
   "metadata": {
    "pycharm": {
     "name": "#%%\n"
    }
   },
   "outputs": [],
   "source": []
  },
  {
   "cell_type": "markdown",
   "id": "de55bfe1",
   "metadata": {
    "pycharm": {
     "name": "#%% md\n"
    }
   },
   "source": [
    "## POS_CASH_balance.csv"
   ]
  },
  {
   "cell_type": "markdown",
   "id": "5cb849ef",
   "metadata": {
    "pycharm": {
     "name": "#%% md\n"
    }
   },
   "source": [
    "## credit_card_balance.csv"
   ]
  },
  {
   "cell_type": "markdown",
   "id": "70cb866c",
   "metadata": {
    "pycharm": {
     "name": "#%% md\n"
    }
   },
   "source": [
    "## installments.csv"
   ]
  },
  {
   "cell_type": "code",
   "execution_count": 38,
   "id": "42ae0284",
   "metadata": {
    "pycharm": {
     "name": "#%%\n"
    }
   },
   "outputs": [],
   "source": []
  },
  {
   "cell_type": "code",
   "execution_count": 38,
   "id": "0fcd4a5e",
   "metadata": {
    "pycharm": {
     "name": "#%%\n"
    }
   },
   "outputs": [],
   "source": []
  },
  {
   "cell_type": "code",
   "execution_count": 38,
   "id": "c84f2886",
   "metadata": {
    "pycharm": {
     "name": "#%%\n"
    }
   },
   "outputs": [],
   "source": []
  },
  {
   "cell_type": "code",
   "execution_count": 38,
   "id": "4583dc91",
   "metadata": {
    "pycharm": {
     "name": "#%%\n"
    }
   },
   "outputs": [],
   "source": []
  },
  {
   "cell_type": "code",
   "execution_count": 38,
   "id": "ad33a08f",
   "metadata": {
    "pycharm": {
     "name": "#%%\n"
    }
   },
   "outputs": [],
   "source": []
  },
  {
   "cell_type": "code",
   "execution_count": 38,
   "id": "77772461",
   "metadata": {
    "pycharm": {
     "name": "#%%\n"
    }
   },
   "outputs": [],
   "source": []
  },
  {
   "cell_type": "code",
   "execution_count": 38,
   "id": "899efbf0",
   "metadata": {
    "pycharm": {
     "name": "#%%\n"
    }
   },
   "outputs": [],
   "source": []
  },
  {
   "cell_type": "code",
   "execution_count": 38,
   "id": "830377ec",
   "metadata": {
    "pycharm": {
     "name": "#%%\n"
    }
   },
   "outputs": [],
   "source": []
  },
  {
   "cell_type": "code",
   "execution_count": 38,
   "id": "daac6b2e",
   "metadata": {
    "pycharm": {
     "name": "#%%\n"
    }
   },
   "outputs": [],
   "source": []
  },
  {
   "cell_type": "code",
   "execution_count": 38,
   "id": "1275777b",
   "metadata": {
    "pycharm": {
     "name": "#%%\n"
    }
   },
   "outputs": [],
   "source": []
  },
  {
   "cell_type": "code",
   "execution_count": 38,
   "id": "ae4b9bd8",
   "metadata": {
    "pycharm": {
     "name": "#%%\n"
    }
   },
   "outputs": [],
   "source": []
  },
  {
   "cell_type": "code",
   "execution_count": 38,
   "id": "c347baf5",
   "metadata": {
    "pycharm": {
     "name": "#%%\n"
    }
   },
   "outputs": [],
   "source": []
  },
  {
   "cell_type": "code",
   "execution_count": 38,
   "id": "65d8a0c4",
   "metadata": {
    "pycharm": {
     "name": "#%%\n"
    }
   },
   "outputs": [],
   "source": []
  },
  {
   "cell_type": "code",
   "execution_count": 38,
   "id": "f2f33961",
   "metadata": {
    "pycharm": {
     "name": "#%%\n"
    }
   },
   "outputs": [],
   "source": []
  },
  {
   "cell_type": "code",
   "execution_count": 38,
   "id": "0bb29396",
   "metadata": {
    "pycharm": {
     "name": "#%%\n"
    }
   },
   "outputs": [],
   "source": []
  },
  {
   "cell_type": "markdown",
   "id": "af46190f",
   "metadata": {
    "pycharm": {
     "name": "#%% md\n"
    }
   },
   "source": [
    "# Model Construction"
   ]
  },
  {
   "cell_type": "code",
   "execution_count": 38,
   "id": "b18b6663",
   "metadata": {
    "pycharm": {
     "name": "#%%\n"
    }
   },
   "outputs": [],
   "source": []
  }
 ],
 "metadata": {
  "kernelspec": {
   "display_name": "capstone_pro",
   "language": "python",
   "name": "capstone_pro"
  },
  "language_info": {
   "codemirror_mode": {
    "name": "ipython",
    "version": 3
   },
   "file_extension": ".py",
   "mimetype": "text/x-python",
   "name": "python",
   "nbconvert_exporter": "python",
   "pygments_lexer": "ipython3",
   "version": "3.9.12"
  }
 },
 "nbformat": 4,
 "nbformat_minor": 5
}