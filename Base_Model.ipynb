{
 "cells": [
  {
   "cell_type": "code",
   "execution_count": 24,
   "metadata": {
    "pycharm": {
     "name": "#%%\n"
    }
   },
   "outputs": [],
   "source": [
    "import pandas as pd\n",
    "import numpy as np\n",
    "import matplotlib.pyplot as plt\n",
    "import seaborn as sns\n",
    "import plotly.express as px\n",
    "import csv"
   ]
  },
  {
   "cell_type": "code",
   "execution_count": 25,
   "metadata": {
    "pycharm": {
     "name": "#%%\n"
    }
   },
   "outputs": [],
   "source": [
    "final_df = pd.read_csv('final_df.csv')"
   ]
  },
  {
   "cell_type": "code",
   "execution_count": null,
   "outputs": [],
   "source": [
    "final_df.head()"
   ],
   "metadata": {
    "collapsed": false,
    "pycharm": {
     "name": "#%%\n"
    }
   }
  },
  {
   "cell_type": "code",
   "execution_count": null,
   "outputs": [],
   "source": [
    "final_df.isnull().sum().sum()"
   ],
   "metadata": {
    "collapsed": false,
    "pycharm": {
     "name": "#%%\n"
    }
   }
  },
  {
   "cell_type": "markdown",
   "source": [
    "# Modeling"
   ],
   "metadata": {
    "collapsed": false,
    "pycharm": {
     "name": "#%% md\n"
    }
   }
  },
  {
   "cell_type": "code",
   "execution_count": null,
   "outputs": [],
   "source": [
    "from sklearn.preprocessing import StandardScaler\n",
    "from sklearn.model_selection import train_test_split\n",
    "from sklearn.metrics import roc_auc_score\n",
    "from sklearn.metrics import roc_curve\n",
    "from sklearn.metrics import confusion_matrix\n",
    "from sklearn.metrics import classification_report\n",
    "from sklearn.metrics import accuracy_score\n",
    "from sklearn.model_selection import GridSearchCV\n",
    "from sklearn.tree import DecisionTreeClassifier\n",
    "from sklearn.ensemble import RandomForestClassifier\n",
    "from sklearn.ensemble import AdaBoostClassifier\n",
    "from sklearn.ensemble import GradientBoostingClassifier\n",
    "from sklearn.pipeline import Pipeline\n",
    "from sklearn.pipeline import make_pipeline\n",
    "from sklearn.decomposition import PCA"
   ],
   "metadata": {
    "collapsed": false,
    "pycharm": {
     "name": "#%%\n"
    }
   }
  },
  {
   "cell_type": "markdown",
   "source": [
    "## Split the data into training and testing sets and validation set"
   ],
   "metadata": {
    "collapsed": false,
    "pycharm": {
     "name": "#%% md\n"
    }
   }
  },
  {
   "cell_type": "code",
   "execution_count": null,
   "outputs": [],
   "source": [
    "# Assign the data to independent and dependent variables\n",
    "X = final_df.drop(['TARGET'],axis=1)\n",
    "y = final_df['TARGET']"
   ],
   "metadata": {
    "collapsed": false,
    "pycharm": {
     "name": "#%%\n"
    }
   }
  },
  {
   "cell_type": "code",
   "execution_count": null,
   "outputs": [],
   "source": [
    "# Split the data into training and testing sets and validation set\n",
    "X_reminder,X_test,y_reminder,y_test = train_test_split(X,y,test_size=0.2,random_state=42,stratify=y)"
   ],
   "metadata": {
    "collapsed": false,
    "pycharm": {
     "name": "#%%\n"
    }
   }
  },
  {
   "cell_type": "code",
   "execution_count": null,
   "outputs": [],
   "source": [
    "# Split the data into training sets and validation set\n",
    "X_train,X_val,y_train,y_val = train_test_split(X_reminder,y_reminder,test_size=0.2,random_state=42,stratify=y_reminder)"
   ],
   "metadata": {
    "collapsed": false,
    "pycharm": {
     "name": "#%%\n"
    }
   }
  },
  {
   "cell_type": "code",
   "execution_count": null,
   "outputs": [],
   "source": [
    "# Check the shape of the datasets\n",
    "X_train.shape,X_val.shape,X_test.shape"
   ],
   "metadata": {
    "collapsed": false,
    "pycharm": {
     "name": "#%%\n"
    }
   }
  },
  {
   "cell_type": "markdown",
   "source": [
    "## Baseline Model - Decision Tree"
   ],
   "metadata": {
    "collapsed": false,
    "pycharm": {
     "name": "#%% md\n"
    }
   }
  },
  {
   "cell_type": "code",
   "execution_count": null,
   "outputs": [],
   "source": [
    "# Create the StandardScaler() object to standardize the data\n",
    "scaler = StandardScaler()\n",
    "# Create the PCA object\n",
    "pca = PCA()\n",
    "# Create the DecisionTreeClassifier object\n",
    "dt = DecisionTreeClassifier()"
   ],
   "metadata": {
    "collapsed": false,
    "pycharm": {
     "name": "#%%\n"
    }
   }
  },
  {
   "cell_type": "code",
   "execution_count": null,
   "outputs": [],
   "source": [
    "# Create the pipeline object\n",
    "pipe = Pipeline(steps=[('scaler',scaler),('pca',pca),('dt',dt)])"
   ],
   "metadata": {
    "collapsed": false,
    "pycharm": {
     "name": "#%%\n"
    }
   }
  },
  {
   "cell_type": "code",
   "execution_count": null,
   "outputs": [],
   "source": [
    "# Set the number of components to be used in the PCA\n",
    "n_components = np.arange(2,20,2)\n",
    "# Set the max_depth to be used in the DecisionTreeClassifier\n",
    "max_depth = np.arange(2,20,2)\n",
    "params = {'pca__n_components':n_components,'dt__max_depth':max_depth}"
   ],
   "metadata": {
    "collapsed": false,
    "pycharm": {
     "name": "#%%\n"
    }
   }
  },
  {
   "cell_type": "code",
   "execution_count": null,
   "outputs": [],
   "source": [
    "# Create the GridSearchCV object and set the parameters to be used in the GridSearchCV object and cross-validation to be used in the GridSearchCV object\n",
    "grid = GridSearchCV(pipe,params,cv=5,scoring= 'roc_auc',verbose = 10,n_jobs=-1) #n_jobs=-1 means it will use all the available cores in the computer"
   ],
   "metadata": {
    "collapsed": false,
    "pycharm": {
     "name": "#%%\n"
    }
   }
  },
  {
   "cell_type": "code",
   "execution_count": null,
   "outputs": [],
   "source": [
    "# Fit the GridSearchCV object to the training data\n",
    "grid.fit(X_train,y_train) #verbose=1 to show the progress of the GridSearchCV object"
   ],
   "metadata": {
    "collapsed": false,
    "pycharm": {
     "name": "#%%\n"
    }
   }
  },
  {
   "cell_type": "code",
   "execution_count": null,
   "outputs": [],
   "source": [
    "# Get the best estimator from the GridSearchCV object\n",
    "best_est = grid.best_estimator_\n",
    "best_est"
   ],
   "metadata": {
    "collapsed": false,
    "pycharm": {
     "name": "#%%\n"
    }
   }
  },
  {
   "cell_type": "code",
   "execution_count": null,
   "outputs": [],
   "source": [
    "plt.figure(figsize=(12,8))\n",
    "plt.hist(y_train)\n",
    "plt.show()"
   ],
   "metadata": {
    "collapsed": false,
    "pycharm": {
     "name": "#%%\n"
    }
   }
  },
  {
   "cell_type": "code",
   "execution_count": null,
   "outputs": [],
   "source": [
    "pipe.set_params(pca__n_components=6)\n",
    "pipe.set_params(dt__max_depth=6)"
   ],
   "metadata": {
    "collapsed": false,
    "pycharm": {
     "name": "#%%\n"
    }
   }
  },
  {
   "cell_type": "code",
   "execution_count": null,
   "outputs": [],
   "source": [
    "pipe.fit(X_test,y_test)\n",
    "    "
   ],
   "metadata": {
    "collapsed": false,
    "pycharm": {
     "name": "#%%\n"
    }
   }
  },
  {
   "cell_type": "code",
   "execution_count": null,
   "outputs": [],
   "source": [
    "y_pred = pipe.predict(X_test)\n",
    "print(classification_report(y_test,y_pred))"
   ],
   "metadata": {
    "collapsed": false,
    "pycharm": {
     "name": "#%%\n"
    }
   }
  },
  {
   "cell_type": "code",
   "execution_count": 43,
   "metadata": {
    "pycharm": {
     "name": "#%%\n"
    }
   },
   "outputs": [
    {
     "data": {
      "text/plain": [
       "Pipeline(steps=[('scaler', StandardScaler()), ('pca', PCA(n_components=6)),\n",
       "                ('dt', DecisionTreeClassifier(max_depth=6))])"
      ]
     },
     "execution_count": 43,
     "metadata": {},
     "output_type": "execute_result"
    }
   ],
   "source": [
    "# Get the best estimator from the GridSearchCV object\n",
    "best_est = grid.best_estimator_\n",
    "best_est"
   ]
  },
  {
   "cell_type": "code",
   "execution_count": 44,
   "metadata": {
    "pycharm": {
     "is_executing": true,
     "name": "#%%\n"
    }
   },
   "outputs": [
    {
     "data": {
      "image/png": "[encoded data removed]",
      "text/plain": [
       "<Figure size 864x576 with 1 Axes>"
      ]
     },
     "metadata": {
      "needs_background": "light"
     },
     "output_type": "display_data"
    }
   ],
   "source": [
    "plt.figure(figsize=(12,8))\n",
    "plt.hist(y_train)\n",
    "plt.show()"
   ]
  },
  {
   "cell_type": "code",
   "execution_count": 46,
   "metadata": {},
   "outputs": [
    {
     "name": "stdout",
     "output_type": "stream",
     "text": [
      "[CV 3/5; 2/25] START dt__max_depth=2, pca__n_components=6.......................\n",
      "[CV 3/5; 2/25] END dt__max_depth=2, pca__n_components=6;, score=0.684 total time=   3.3s\n",
      "[CV 3/5; 5/25] START dt__max_depth=2, pca__n_components=18......................\n",
      "[CV 3/5; 5/25] END dt__max_depth=2, pca__n_components=18;, score=0.684 total time=   5.2s\n",
      "[CV 3/5; 10/25] START dt__max_depth=6, pca__n_components=18.....................\n",
      "[CV 3/5; 10/25] END dt__max_depth=6, pca__n_components=18;, score=0.707 total time=   5.9s\n",
      "[CV 3/5; 14/25] START dt__max_depth=10, pca__n_components=14....................\n",
      "[CV 3/5; 14/25] END dt__max_depth=10, pca__n_components=14;, score=0.693 total time=   5.7s\n",
      "[CV 4/5; 17/25] START dt__max_depth=14, pca__n_components=6.....................\n",
      "[CV 4/5; 17/25] END dt__max_depth=14, pca__n_components=6;, score=0.639 total time=   4.0s\n",
      "[CV 4/5; 20/25] START dt__max_depth=14, pca__n_components=18....................\n",
      "[CV 4/5; 20/25] END dt__max_depth=14, pca__n_components=18;, score=0.623 total time=   7.3s\n",
      "[CV 2/5; 25/25] START dt__max_depth=18, pca__n_components=18....................\n",
      "[CV 2/5; 25/25] END dt__max_depth=18, pca__n_components=18;, score=0.558 total time=   6.7s\n",
      "[CV 1/5] END ...............rf__n_estimators=14;, score=0.650 total time=  12.7s\n",
      "[CV 2/5; 2/25] START dt__max_depth=2, pca__n_components=6.......................\n",
      "[CV 2/5; 2/25] END dt__max_depth=2, pca__n_components=6;, score=0.689 total time=   7.3s\n",
      "[CV 3/5; 5/25] START dt__max_depth=2, pca__n_components=18......................\n",
      "[CV 3/5; 5/25] END dt__max_depth=2, pca__n_components=18;, score=0.688 total time=   9.9s\n",
      "[CV 2/5; 10/25] START dt__max_depth=6, pca__n_components=18.....................\n",
      "[CV 2/5; 10/25] END dt__max_depth=6, pca__n_components=18;, score=0.720 total time=  12.2s\n",
      "[CV 1/5; 14/25] START dt__max_depth=10, pca__n_components=14....................\n",
      "[CV 1/5; 14/25] END dt__max_depth=10, pca__n_components=14;, score=0.702 total time=  12.1s\n",
      "[CV 4/5; 17/25] START dt__max_depth=14, pca__n_components=6.....................\n",
      "[CV 4/5; 17/25] END dt__max_depth=14, pca__n_components=6;, score=0.657 total time=   9.1s\n",
      "[CV 1/5; 21/25] START dt__max_depth=18, pca__n_components=2.....................\n",
      "[CV 1/5; 21/25] END dt__max_depth=18, pca__n_components=2;, score=0.590 total time=   5.3s\n",
      "[CV 2/5; 22/25] START dt__max_depth=18, pca__n_components=6.....................\n",
      "[CV 2/5; 22/25] END dt__max_depth=18, pca__n_components=6;, score=0.580 total time=   9.3s\n",
      "[CV 4/5; 24/25] START dt__max_depth=18, pca__n_components=14....................\n",
      "[CV 4/5; 24/25] END dt__max_depth=18, pca__n_components=14;, score=0.583 total time=  10.7s\n",
      "[CV 2/5; 2/81] START dt__max_depth=2, pca__n_components=4.......................\n",
      "[CV 2/5; 2/81] END dt__max_depth=2, pca__n_components=4;, score=0.689 total time=   6.9s\n",
      "[CV 3/5; 5/81] START dt__max_depth=2, pca__n_components=10......................\n",
      "[CV 3/5; 5/81] END dt__max_depth=2, pca__n_components=10;, score=0.688 total time=   7.9s\n",
      "[CV 3/5; 8/81] START dt__max_depth=2, pca__n_components=16......................\n",
      "[CV 3/5; 8/81] END dt__max_depth=2, pca__n_components=16;, score=0.688 total time=   9.5s\n",
      "[CV 2/5; 12/81] START dt__max_depth=4, pca__n_components=6......................\n",
      "[CV 2/5; 12/81] END dt__max_depth=4, pca__n_components=6;, score=0.716 total time=   7.0s\n",
      "[CV 3/5; 15/81] START dt__max_depth=4, pca__n_components=12.....................\n",
      "[CV 3/5; 15/81] END dt__max_depth=4, pca__n_components=12;, score=0.711 total time=   9.2s\n",
      "[CV 3/5; 18/81] START dt__max_depth=4, pca__n_components=18.....................\n",
      "[CV 3/5; 18/81] END dt__max_depth=4, pca__n_components=18;, score=0.711 total time=  10.8s\n",
      "[CV 5/5; 22/81] START dt__max_depth=6, pca__n_components=8......................\n",
      "[CV 5/5; 22/81] END dt__max_depth=6, pca__n_components=8;, score=0.714 total time=   8.5s\n",
      "[CV 1/5; 26/81] START dt__max_depth=6, pca__n_components=16.....................\n",
      "[CV 1/5; 26/81] END dt__max_depth=6, pca__n_components=16;, score=0.714 total time=  11.4s\n",
      "[CV 2/5; 29/81] START dt__max_depth=8, pca__n_components=4......................\n",
      "[CV 2/5; 29/81] END dt__max_depth=8, pca__n_components=4;, score=0.720 total time=   7.5s\n",
      "[CV 3/5; 32/81] START dt__max_depth=8, pca__n_components=10.....................\n",
      "[CV 3/5; 32/81] END dt__max_depth=8, pca__n_components=10;, score=0.715 total time=   9.6s\n",
      "[CV 4/5; 35/81] START dt__max_depth=8, pca__n_components=16.....................\n",
      "[CV 4/5; 35/81] END dt__max_depth=8, pca__n_components=16;, score=0.711 total time=  12.4s\n",
      "[CV 4/5; 39/81] START dt__max_depth=10, pca__n_components=6.....................\n",
      "[CV 4/5; 39/81] END dt__max_depth=10, pca__n_components=6;, score=0.706 total time=   7.6s\n",
      "[CV 5/5; 42/81] START dt__max_depth=10, pca__n_components=12....................\n",
      "[CV 5/5; 42/81] END dt__max_depth=10, pca__n_components=12;, score=0.703 total time=  11.2s\n",
      "[CV 1/5; 46/81] START dt__max_depth=12, pca__n_components=2.....................\n",
      "[CV 1/5; 46/81] END dt__max_depth=12, pca__n_components=2;, score=0.670 total time=   5.4s\n",
      "[CV 2/5; 47/81] START dt__max_depth=12, pca__n_components=4.....................\n",
      "[CV 2/5; 47/81] END dt__max_depth=12, pca__n_components=4;, score=0.688 total time=   7.1s\n",
      "[CV 4/5; 49/81] START dt__max_depth=12, pca__n_components=8.....................\n",
      "[CV 4/5; 49/81] END dt__max_depth=12, pca__n_components=8;, score=0.687 total time=  10.0s\n",
      "[CV 1/5; 53/81] START dt__max_depth=12, pca__n_components=16....................\n",
      "[CV 1/5; 53/81] END dt__max_depth=12, pca__n_components=16;, score=0.677 total time=  13.6s\n",
      "[CV 3/5; 56/81] START dt__max_depth=14, pca__n_components=4.....................\n",
      "[CV 3/5; 56/81] END dt__max_depth=14, pca__n_components=4;, score=0.672 total time=   7.3s\n",
      "[CV 2/5; 59/81] START dt__max_depth=14, pca__n_components=10....................\n",
      "[CV 2/5; 59/81] END dt__max_depth=14, pca__n_components=10;, score=0.655 total time=  11.0s\n",
      "[CV 4/5; 62/81] START dt__max_depth=14, pca__n_components=16....................\n",
      "[CV 4/5; 62/81] END dt__max_depth=14, pca__n_components=16;, score=0.637 total time=  14.7s\n",
      "[CV 5/5; 66/81] START dt__max_depth=16, pca__n_components=6.....................\n",
      "[CV 5/5; 66/81] END dt__max_depth=16, pca__n_components=6;, score=0.615 total time=   8.8s\n",
      "[CV 1/5; 70/81] START dt__max_depth=16, pca__n_components=14....................\n",
      "[CV 1/5; 70/81] END dt__max_depth=16, pca__n_components=14;, score=0.614 total time=  13.8s\n",
      "[CV 2/5; 73/81] START dt__max_depth=18, pca__n_components=2.....................\n",
      "[CV 2/5; 73/81] END dt__max_depth=18, pca__n_components=2;, score=0.616 total time=   6.2s\n",
      "[CV 4/5; 74/81] START dt__max_depth=18, pca__n_components=4.....................\n",
      "[CV 4/5; 74/81] END dt__max_depth=18, pca__n_components=4;, score=0.599 total time=   7.7s\n",
      "[CV 3/5; 77/81] START dt__max_depth=18, pca__n_components=10....................\n",
      "[CV 3/5; 77/81] END dt__max_depth=18, pca__n_components=10;, score=0.573 total time=  11.5s\n",
      "[CV 4/5; 80/81] START dt__max_depth=18, pca__n_components=16....................\n",
      "[CV 4/5; 80/81] END dt__max_depth=18, pca__n_components=16;, score=0.570 total time=  14.1s\n"
     ]
    },
    {
     "data": {
      "text/plain": [
       "Pipeline(steps=[('scaler', StandardScaler()), ('pca', PCA(n_components=6)),\n",
       "                ('dt', DecisionTreeClassifier(max_depth=6))])"
      ]
     },
     "execution_count": 46,
     "metadata": {},
     "output_type": "execute_result"
    },
    {
     "name": "stdout",
     "output_type": "stream",
     "text": [
      "[CV 2/5; 3/25] START dt__max_depth=2, pca__n_components=10......................\n",
      "[CV 2/5; 3/25] END dt__max_depth=2, pca__n_components=10;, score=0.680 total time=   3.5s\n",
      "[CV 2/5; 6/25] START dt__max_depth=6, pca__n_components=2.......................\n",
      "[CV 2/5; 6/25] END dt__max_depth=6, pca__n_components=2;, score=0.691 total time=   2.9s\n",
      "[CV 4/5; 7/25] START dt__max_depth=6, pca__n_components=6.......................\n",
      "[CV 4/5; 7/25] END dt__max_depth=6, pca__n_components=6;, score=0.719 total time=   3.6s\n",
      "[CV 5/5; 10/25] START dt__max_depth=6, pca__n_components=18.....................\n",
      "[CV 5/5; 10/25] END dt__max_depth=6, pca__n_components=18;, score=0.717 total time=   5.6s\n",
      "[CV 1/5; 15/25] START dt__max_depth=10, pca__n_components=18....................\n",
      "[CV 1/5; 15/25] END dt__max_depth=10, pca__n_components=18;, score=0.678 total time=   6.8s\n",
      "[CV 2/5; 19/25] START dt__max_depth=14, pca__n_components=14....................\n",
      "[CV 2/5; 19/25] END dt__max_depth=14, pca__n_components=14;, score=0.634 total time=   6.1s\n",
      "[CV 2/5; 23/25] START dt__max_depth=18, pca__n_components=10....................\n",
      "[CV 2/5; 23/25] END dt__max_depth=18, pca__n_components=10;, score=0.544 total time=   5.6s\n",
      "[CV 3/5] END ................rf__n_estimators=2;, score=0.552 total time=   2.6s\n",
      "[CV 5/5] END ...............rf__n_estimators=14;, score=0.658 total time=  11.8s\n",
      "[CV 1/5; 3/25] START dt__max_depth=2, pca__n_components=10......................\n",
      "[CV 1/5; 3/25] END dt__max_depth=2, pca__n_components=10;, score=0.682 total time=   8.3s\n",
      "[CV 3/5; 6/25] START dt__max_depth=6, pca__n_components=2.......................\n",
      "[CV 3/5; 6/25] END dt__max_depth=6, pca__n_components=2;, score=0.701 total time=   6.1s\n",
      "[CV 1/5; 8/25] START dt__max_depth=6, pca__n_components=10......................\n",
      "[CV 1/5; 8/25] END dt__max_depth=6, pca__n_components=10;, score=0.715 total time=   9.4s\n",
      "[CV 2/5; 11/25] START dt__max_depth=10, pca__n_components=2.....................\n",
      "[CV 2/5; 11/25] END dt__max_depth=10, pca__n_components=2;, score=0.692 total time=   4.8s\n",
      "[CV 3/5; 13/25] START dt__max_depth=10, pca__n_components=10....................\n",
      "[CV 3/5; 13/25] END dt__max_depth=10, pca__n_components=10;, score=0.705 total time=  10.1s\n",
      "[CV 4/5; 16/25] START dt__max_depth=14, pca__n_components=2.....................\n",
      "[CV 4/5; 16/25] END dt__max_depth=14, pca__n_components=2;, score=0.656 total time=   5.5s\n",
      "[CV 3/5; 18/25] START dt__max_depth=14, pca__n_components=10....................\n",
      "[CV 3/5; 18/25] END dt__max_depth=14, pca__n_components=10;, score=0.647 total time=  10.3s\n",
      "[CV 4/5; 21/25] START dt__max_depth=18, pca__n_components=2.....................\n",
      "[CV 4/5; 21/25] END dt__max_depth=18, pca__n_components=2;, score=0.604 total time=   5.7s\n",
      "[CV 1/5; 23/25] START dt__max_depth=18, pca__n_components=10....................\n",
      "[CV 1/5; 23/25] END dt__max_depth=18, pca__n_components=10;, score=0.588 total time=  11.4s\n",
      "[CV 3/5; 1/81] START dt__max_depth=2, pca__n_components=2.......................\n",
      "[CV 3/5; 1/81] END dt__max_depth=2, pca__n_components=2;, score=0.685 total time=   6.1s\n",
      "[CV 4/5; 4/81] START dt__max_depth=2, pca__n_components=8.......................\n",
      "[CV 4/5; 4/81] END dt__max_depth=2, pca__n_components=8;, score=0.695 total time=   7.5s\n",
      "[CV 5/5; 7/81] START dt__max_depth=2, pca__n_components=14......................\n",
      "[CV 5/5; 7/81] END dt__max_depth=2, pca__n_components=14;, score=0.683 total time=   9.1s\n",
      "[CV 4/5; 11/81] START dt__max_depth=4, pca__n_components=4......................\n",
      "[CV 4/5; 11/81] END dt__max_depth=4, pca__n_components=4;, score=0.714 total time=   6.9s\n",
      "[CV 4/5; 14/81] START dt__max_depth=4, pca__n_components=10.....................\n",
      "[CV 4/5; 14/81] END dt__max_depth=4, pca__n_components=10;, score=0.714 total time=   8.7s\n",
      "[CV 5/5; 17/81] START dt__max_depth=4, pca__n_components=16.....................\n",
      "[CV 5/5; 17/81] END dt__max_depth=4, pca__n_components=16;, score=0.708 total time=  10.9s\n",
      "[CV 5/5; 21/81] START dt__max_depth=6, pca__n_components=6......................\n",
      "[CV 5/5; 21/81] END dt__max_depth=6, pca__n_components=6;, score=0.714 total time=   7.5s\n",
      "[CV 1/5; 25/81] START dt__max_depth=6, pca__n_components=14.....................\n",
      "[CV 1/5; 25/81] END dt__max_depth=6, pca__n_components=14;, score=0.714 total time=  10.5s\n",
      "[CV 2/5; 28/81] START dt__max_depth=8, pca__n_components=2......................\n",
      "[CV 2/5; 28/81] END dt__max_depth=8, pca__n_components=2;, score=0.700 total time=   5.9s\n",
      "[CV 2/5; 30/81] START dt__max_depth=8, pca__n_components=6......................\n",
      "[CV 2/5; 30/81] END dt__max_depth=8, pca__n_components=6;, score=0.720 total time=   7.8s\n",
      "[CV 3/5; 33/81] START dt__max_depth=8, pca__n_components=12.....................\n",
      "[CV 3/5; 33/81] END dt__max_depth=8, pca__n_components=12;, score=0.713 total time=  10.5s\n",
      "[CV 4/5; 36/81] START dt__max_depth=8, pca__n_components=18.....................\n",
      "[CV 4/5; 36/81] END dt__max_depth=8, pca__n_components=18;, score=0.712 total time=  13.4s\n",
      "[CV 3/5; 41/81] START dt__max_depth=10, pca__n_components=10....................\n",
      "[CV 3/5; 41/81] END dt__max_depth=10, pca__n_components=10;, score=0.705 total time=  10.0s\n",
      "[CV 3/5; 44/81] START dt__max_depth=10, pca__n_components=16....................\n",
      "[CV 3/5; 44/81] END dt__max_depth=10, pca__n_components=16;, score=0.701 total time=  13.0s\n",
      "[CV 1/5; 48/81] START dt__max_depth=12, pca__n_components=6.....................\n",
      "[CV 1/5; 48/81] END dt__max_depth=12, pca__n_components=6;, score=0.686 total time=   7.5s\n",
      "[CV 2/5; 51/81] START dt__max_depth=12, pca__n_components=12....................\n",
      "[CV 2/5; 51/81] END dt__max_depth=12, pca__n_components=12;, score=0.686 total time=  11.8s\n",
      "[CV 3/5; 54/81] START dt__max_depth=12, pca__n_components=18....................\n",
      "[CV 3/5; 54/81] END dt__max_depth=12, pca__n_components=18;, score=0.671 total time=  14.6s\n",
      "[CV 1/5; 59/81] START dt__max_depth=14, pca__n_components=10....................\n",
      "[CV 1/5; 59/81] END dt__max_depth=14, pca__n_components=10;, score=0.659 total time=  10.8s\n",
      "[CV 2/5; 62/81] START dt__max_depth=14, pca__n_components=16....................\n",
      "[CV 2/5; 62/81] END dt__max_depth=14, pca__n_components=16;, score=0.644 total time=  14.5s\n",
      "[CV 2/5; 66/81] START dt__max_depth=16, pca__n_components=6.....................\n",
      "[CV 2/5; 66/81] END dt__max_depth=16, pca__n_components=6;, score=0.607 total time=   8.8s\n",
      "[CV 3/5; 69/81] START dt__max_depth=16, pca__n_components=12....................\n",
      "[CV 3/5; 69/81] END dt__max_depth=16, pca__n_components=12;, score=0.612 total time=  12.6s\n",
      "[CV 4/5; 72/81] START dt__max_depth=16, pca__n_components=18....................\n",
      "[CV 4/5; 72/81] END dt__max_depth=16, pca__n_components=18;, score=0.613 total time=  17.6s\n",
      "[CV 5/5; 77/81] START dt__max_depth=18, pca__n_components=10....................\n",
      "[CV 5/5; 77/81] END dt__max_depth=18, pca__n_components=10;, score=0.578 total time=  11.5s\n",
      "[CV 1/5; 81/81] START dt__max_depth=18, pca__n_components=18....................\n",
      "[CV 1/5; 81/81] END dt__max_depth=18, pca__n_components=18;, score=0.591 total time=  13.6s\n",
      "[CV 5/5; 2/25] START dt__max_depth=2, pca__n_components=6.......................\n",
      "[CV 5/5; 2/25] END dt__max_depth=2, pca__n_components=6;, score=0.688 total time=   3.3s\n",
      "[CV 4/5; 5/25] START dt__max_depth=2, pca__n_components=18......................\n",
      "[CV 4/5; 5/25] END dt__max_depth=2, pca__n_components=18;, score=0.692 total time=   4.7s\n",
      "[CV 1/5; 10/25] START dt__max_depth=6, pca__n_components=18.....................\n",
      "[CV 1/5; 10/25] END dt__max_depth=6, pca__n_components=18;, score=0.702 total time=   5.7s\n",
      "[CV 3/5; 13/25] START dt__max_depth=10, pca__n_components=10....................\n",
      "[CV 3/5; 13/25] END dt__max_depth=10, pca__n_components=10;, score=0.687 total time=   4.6s\n",
      "[CV 4/5; 16/25] START dt__max_depth=14, pca__n_components=2.....................\n",
      "[CV 4/5; 16/25] END dt__max_depth=14, pca__n_components=2;, score=0.627 total time=   3.0s\n",
      "[CV 1/5; 19/25] START dt__max_depth=14, pca__n_components=14....................\n",
      "[CV 1/5; 19/25] END dt__max_depth=14, pca__n_components=14;, score=0.629 total time=   6.4s\n",
      "[CV 4/5; 22/25] START dt__max_depth=18, pca__n_components=6.....................\n",
      "[CV 4/5; 22/25] END dt__max_depth=18, pca__n_components=6;, score=0.586 total time=   3.8s\n",
      "[CV 3/5; 25/25] START dt__max_depth=18, pca__n_components=18....................\n",
      "[CV 3/5; 25/25] END dt__max_depth=18, pca__n_components=18;, score=0.548 total time=   5.6s\n",
      "[CV 2/5] END ...............rf__n_estimators=10;, score=0.642 total time=   8.6s\n",
      "[CV 2/5; 1/25] START dt__max_depth=2, pca__n_components=2.......................\n",
      "[CV 2/5; 1/25] END dt__max_depth=2, pca__n_components=2;, score=0.687 total time=   6.1s\n",
      "[CV 2/5; 4/25] START dt__max_depth=2, pca__n_components=14......................\n",
      "[CV 2/5; 4/25] END dt__max_depth=2, pca__n_components=14;, score=0.689 total time=   8.9s\n",
      "[CV 3/5; 8/25] START dt__max_depth=6, pca__n_components=10......................\n",
      "[CV 3/5; 8/25] END dt__max_depth=6, pca__n_components=10;, score=0.717 total time=   9.2s\n",
      "[CV 5/5; 11/25] START dt__max_depth=10, pca__n_components=2.....................\n",
      "[CV 5/5; 11/25] END dt__max_depth=10, pca__n_components=2;, score=0.690 total time=   5.8s\n",
      "[CV 4/5; 14/25] START dt__max_depth=10, pca__n_components=14....................\n",
      "[CV 4/5; 14/25] END dt__max_depth=10, pca__n_components=14;, score=0.707 total time=  12.7s\n",
      "[CV 1/5; 18/25] START dt__max_depth=14, pca__n_components=10....................\n",
      "[CV 1/5; 18/25] END dt__max_depth=14, pca__n_components=10;, score=0.657 total time=  11.4s\n",
      "[CV 2/5; 21/25] START dt__max_depth=18, pca__n_components=2.....................\n",
      "[CV 2/5; 21/25] END dt__max_depth=18, pca__n_components=2;, score=0.614 total time=   6.0s\n",
      "[CV 5/5; 22/25] START dt__max_depth=18, pca__n_components=6.....................\n",
      "[CV 5/5; 22/25] END dt__max_depth=18, pca__n_components=6;, score=0.588 total time=   7.9s\n",
      "[CV 5/5; 25/25] START dt__max_depth=18, pca__n_components=18....................\n",
      "[CV 5/5; 25/25] END dt__max_depth=18, pca__n_components=18;, score=0.564 total time=  13.2s\n",
      "[CV 1/5; 4/81] START dt__max_depth=2, pca__n_components=8.......................\n",
      "[CV 1/5; 4/81] END dt__max_depth=2, pca__n_components=8;, score=0.682 total time=   8.2s\n",
      "[CV 2/5; 7/81] START dt__max_depth=2, pca__n_components=14......................\n",
      "[CV 2/5; 7/81] END dt__max_depth=2, pca__n_components=14;, score=0.689 total time=   8.6s\n",
      "[CV 3/5; 10/81] START dt__max_depth=4, pca__n_components=2......................\n",
      "[CV 3/5; 10/81] END dt__max_depth=4, pca__n_components=2;, score=0.699 total time=   5.8s\n",
      "[CV 2/5; 11/81] START dt__max_depth=4, pca__n_components=4......................\n",
      "[CV 2/5; 11/81] END dt__max_depth=4, pca__n_components=4;, score=0.716 total time=   6.3s\n",
      "[CV 2/5; 14/81] START dt__max_depth=4, pca__n_components=10.....................\n",
      "[CV 2/5; 14/81] END dt__max_depth=4, pca__n_components=10;, score=0.716 total time=   8.8s\n",
      "[CV 3/5; 17/81] START dt__max_depth=4, pca__n_components=16.....................\n",
      "[CV 3/5; 17/81] END dt__max_depth=4, pca__n_components=16;, score=0.711 total time=  10.3s\n",
      "[CV 1/5; 21/81] START dt__max_depth=6, pca__n_components=6......................\n",
      "[CV 1/5; 21/81] END dt__max_depth=6, pca__n_components=6;, score=0.716 total time=   7.3s\n",
      "[CV 2/5; 24/81] START dt__max_depth=6, pca__n_components=12.....................\n",
      "[CV 2/5; 24/81] END dt__max_depth=6, pca__n_components=12;, score=0.722 total time=   9.7s\n",
      "[CV 3/5; 27/81] START dt__max_depth=6, pca__n_components=18.....................\n",
      "[CV 3/5; 27/81] END dt__max_depth=6, pca__n_components=18;, score=0.714 total time=  11.9s\n",
      "[CV 2/5; 32/81] START dt__max_depth=8, pca__n_components=10.....................\n",
      "[CV 2/5; 32/81] END dt__max_depth=8, pca__n_components=10;, score=0.718 total time=   9.4s\n",
      "[CV 2/5; 35/81] START dt__max_depth=8, pca__n_components=16.....................\n",
      "[CV 2/5; 35/81] END dt__max_depth=8, pca__n_components=16;, score=0.719 total time=  12.3s\n",
      "[CV 4/5; 38/81] START dt__max_depth=10, pca__n_components=4.....................\n",
      "[CV 4/5; 38/81] END dt__max_depth=10, pca__n_components=4;, score=0.708 total time=   7.1s\n",
      "[CV 5/5; 41/81] START dt__max_depth=10, pca__n_components=10....................\n",
      "[CV 5/5; 41/81] END dt__max_depth=10, pca__n_components=10;, score=0.703 total time=   9.8s\n",
      "[CV 1/5; 45/81] START dt__max_depth=10, pca__n_components=18....................\n",
      "[CV 1/5; 45/81] END dt__max_depth=10, pca__n_components=18;, score=0.707 total time=  13.6s\n",
      "[CV 2/5; 49/81] START dt__max_depth=12, pca__n_components=8.....................\n",
      "[CV 2/5; 49/81] END dt__max_depth=12, pca__n_components=8;, score=0.684 total time=   9.9s\n",
      "[CV 3/5; 52/81] START dt__max_depth=12, pca__n_components=14....................\n",
      "[CV 3/5; 52/81] END dt__max_depth=12, pca__n_components=14;, score=0.675 total time=  12.2s\n",
      "[CV 4/5; 55/81] START dt__max_depth=14, pca__n_components=2.....................\n",
      "[CV 4/5; 55/81] END dt__max_depth=14, pca__n_components=2;, score=0.658 total time=   6.0s\n",
      "[CV 4/5; 57/81] START dt__max_depth=14, pca__n_components=6.....................\n",
      "[CV 4/5; 57/81] END dt__max_depth=14, pca__n_components=6;, score=0.649 total time=   8.4s\n",
      "[CV 5/5; 60/81] START dt__max_depth=14, pca__n_components=12....................\n",
      "[CV 5/5; 60/81] END dt__max_depth=14, pca__n_components=12;, score=0.645 total time=  12.3s\n",
      "[CV 1/5; 64/81] START dt__max_depth=16, pca__n_components=2.....................\n",
      "[CV 1/5; 64/81] END dt__max_depth=16, pca__n_components=2;, score=0.618 total time=   5.9s\n",
      "[CV 5/5; 64/81] START dt__max_depth=16, pca__n_components=2.....................\n",
      "[CV 5/5; 64/81] END dt__max_depth=16, pca__n_components=2;, score=0.640 total time=   5.2s\n",
      "[CV 1/5; 67/81] START dt__max_depth=16, pca__n_components=8.....................\n",
      "[CV 1/5; 67/81] END dt__max_depth=16, pca__n_components=8;, score=0.619 total time=  10.5s\n",
      "[CV 2/5; 70/81] START dt__max_depth=16, pca__n_components=14....................\n",
      "[CV 2/5; 70/81] END dt__max_depth=16, pca__n_components=14;, score=0.608 total time=  13.3s\n",
      "[CV 3/5; 73/81] START dt__max_depth=18, pca__n_components=2.....................\n",
      "[CV 3/5; 73/81] END dt__max_depth=18, pca__n_components=2;, score=0.611 total time=   6.0s\n",
      "[CV 5/5; 74/81] START dt__max_depth=18, pca__n_components=4.....................\n",
      "[CV 5/5; 74/81] END dt__max_depth=18, pca__n_components=4;, score=0.583 total time=   7.5s\n",
      "[CV 1/5; 78/81] START dt__max_depth=18, pca__n_components=12....................\n",
      "[CV 1/5; 78/81] END dt__max_depth=18, pca__n_components=12;, score=0.588 total time=  13.3s\n",
      "[CV 2/5; 81/81] START dt__max_depth=18, pca__n_components=18....................\n",
      "[CV 2/5; 81/81] END dt__max_depth=18, pca__n_components=18;, score=0.572 total time=  13.1s\n",
      "[CV 4/5; 2/25] START dt__max_depth=2, pca__n_components=6.......................\n",
      "[CV 4/5; 2/25] END dt__max_depth=2, pca__n_components=6;, score=0.692 total time=   3.3s\n",
      "[CV 5/5; 5/25] START dt__max_depth=2, pca__n_components=18......................\n",
      "[CV 5/5; 5/25] END dt__max_depth=2, pca__n_components=18;, score=0.688 total time=   4.7s\n",
      "[CV 5/5; 9/25] START dt__max_depth=6, pca__n_components=14......................\n",
      "[CV 5/5; 9/25] END dt__max_depth=6, pca__n_components=14;, score=0.716 total time=   5.0s\n",
      "[CV 1/5; 13/25] START dt__max_depth=10, pca__n_components=10....................\n",
      "[CV 1/5; 13/25] END dt__max_depth=10, pca__n_components=10;, score=0.681 total time=   4.8s\n",
      "[CV 3/5; 16/25] START dt__max_depth=14, pca__n_components=2.....................\n",
      "[CV 3/5; 16/25] END dt__max_depth=14, pca__n_components=2;, score=0.642 total time=   2.8s\n",
      "[CV 3/5; 18/25] START dt__max_depth=14, pca__n_components=10....................\n",
      "[CV 3/5; 18/25] END dt__max_depth=14, pca__n_components=10;, score=0.618 total time=   4.9s\n",
      "[CV 4/5; 21/25] START dt__max_depth=18, pca__n_components=2.....................\n",
      "[CV 4/5; 21/25] END dt__max_depth=18, pca__n_components=2;, score=0.568 total time=   2.5s\n",
      "[CV 5/5; 22/25] START dt__max_depth=18, pca__n_components=6.....................\n",
      "[CV 5/5; 22/25] END dt__max_depth=18, pca__n_components=6;, score=0.567 total time=   4.2s\n",
      "[CV 1/5] END ................rf__n_estimators=2;, score=0.561 total time=   2.5s\n",
      "[CV 2/5] END ...............rf__n_estimators=14;, score=0.663 total time=  10.8s\n",
      "[CV 4/5; 2/25] START dt__max_depth=2, pca__n_components=6.......................\n",
      "[CV 4/5; 2/25] END dt__max_depth=2, pca__n_components=6;, score=0.695 total time=   7.3s\n",
      "[CV 2/5; 5/25] START dt__max_depth=2, pca__n_components=18......................\n",
      "[CV 2/5; 5/25] END dt__max_depth=2, pca__n_components=18;, score=0.689 total time=   9.7s\n",
      "[CV 1/5; 10/25] START dt__max_depth=6, pca__n_components=18.....................\n",
      "[CV 1/5; 10/25] END dt__max_depth=6, pca__n_components=18;, score=0.715 total time=  12.3s\n",
      "[CV 5/5; 13/25] START dt__max_depth=10, pca__n_components=10....................\n",
      "[CV 5/5; 13/25] END dt__max_depth=10, pca__n_components=10;, score=0.702 total time=  10.1s\n",
      "[CV 1/5; 17/25] START dt__max_depth=14, pca__n_components=6.....................\n",
      "[CV 1/5; 17/25] END dt__max_depth=14, pca__n_components=6;, score=0.658 total time=   8.5s\n",
      "[CV 2/5; 19/25] START dt__max_depth=14, pca__n_components=14....................\n",
      "[CV 2/5; 19/25] END dt__max_depth=14, pca__n_components=14;, score=0.649 total time=  13.3s\n",
      "[CV 3/5; 23/25] START dt__max_depth=18, pca__n_components=10....................\n",
      "[CV 3/5; 23/25] END dt__max_depth=18, pca__n_components=10;, score=0.581 total time=  11.5s\n",
      "[CV 4/5; 1/81] START dt__max_depth=2, pca__n_components=2.......................\n",
      "[CV 4/5; 1/81] END dt__max_depth=2, pca__n_components=2;, score=0.692 total time=   5.9s\n",
      "[CV 2/5; 4/81] START dt__max_depth=2, pca__n_components=8.......................\n",
      "[CV 2/5; 4/81] END dt__max_depth=2, pca__n_components=8;, score=0.689 total time=   7.7s\n",
      "[CV 4/5; 7/81] START dt__max_depth=2, pca__n_components=14......................\n",
      "[CV 4/5; 7/81] END dt__max_depth=2, pca__n_components=14;, score=0.695 total time=   9.1s\n",
      "[CV 3/5; 11/81] START dt__max_depth=4, pca__n_components=4......................\n",
      "[CV 3/5; 11/81] END dt__max_depth=4, pca__n_components=4;, score=0.711 total time=   6.9s\n",
      "[CV 5/5; 14/81] START dt__max_depth=4, pca__n_components=10.....................\n",
      "[CV 5/5; 14/81] END dt__max_depth=4, pca__n_components=10;, score=0.708 total time=   8.7s\n",
      "[CV 1/5; 18/81] START dt__max_depth=4, pca__n_components=18.....................\n",
      "[CV 1/5; 18/81] END dt__max_depth=4, pca__n_components=18;, score=0.709 total time=  11.4s\n",
      "[CV 2/5; 22/81] START dt__max_depth=6, pca__n_components=8......................\n",
      "[CV 2/5; 22/81] END dt__max_depth=6, pca__n_components=8;, score=0.720 total time=   8.6s\n",
      "[CV 3/5; 25/81] START dt__max_depth=6, pca__n_components=14.....................\n",
      "[CV 3/5; 25/81] END dt__max_depth=6, pca__n_components=14;, score=0.716 total time=  10.4s\n",
      "[CV 4/5; 28/81] START dt__max_depth=8, pca__n_components=2......................\n",
      "[CV 4/5; 28/81] END dt__max_depth=8, pca__n_components=2;, score=0.702 total time=   5.9s\n",
      "[CV 2/5; 31/81] START dt__max_depth=8, pca__n_components=8......................\n",
      "[CV 2/5; 31/81] END dt__max_depth=8, pca__n_components=8;, score=0.718 total time=   8.9s\n",
      "[CV 2/5; 34/81] START dt__max_depth=8, pca__n_components=14.....................\n",
      "[CV 2/5; 34/81] END dt__max_depth=8, pca__n_components=14;, score=0.720 total time=  11.2s\n",
      "[CV 3/5; 37/81] START dt__max_depth=10, pca__n_components=2.....................\n",
      "[CV 3/5; 37/81] END dt__max_depth=10, pca__n_components=2;, score=0.691 total time=   5.7s\n",
      "[CV 3/5; 39/81] START dt__max_depth=10, pca__n_components=6.....................\n",
      "[CV 3/5; 39/81] END dt__max_depth=10, pca__n_components=6;, score=0.704 total time=   7.4s\n",
      "[CV 4/5; 42/81] START dt__max_depth=10, pca__n_components=12....................\n",
      "[CV 4/5; 42/81] END dt__max_depth=10, pca__n_components=12;, score=0.705 total time=  11.2s\n",
      "[CV 4/5; 45/81] START dt__max_depth=10, pca__n_components=18....................\n",
      "[CV 4/5; 45/81] END dt__max_depth=10, pca__n_components=18;, score=0.706 total time=  13.9s\n",
      "[CV 3/5; 50/81] START dt__max_depth=12, pca__n_components=10....................\n",
      "[CV 3/5; 50/81] END dt__max_depth=12, pca__n_components=10;, score=0.680 total time=  10.5s\n",
      "[CV 3/5; 53/81] START dt__max_depth=12, pca__n_components=16....................\n",
      "[CV 3/5; 53/81] END dt__max_depth=12, pca__n_components=16;, score=0.674 total time=  13.7s\n",
      "[CV 3/5; 57/81] START dt__max_depth=14, pca__n_components=6.....................\n",
      "[CV 3/5; 57/81] END dt__max_depth=14, pca__n_components=6;, score=0.660 total time=   7.9s\n",
      "[CV 2/5; 60/81] START dt__max_depth=14, pca__n_components=12....................\n",
      "[CV 2/5; 60/81] END dt__max_depth=14, pca__n_components=12;, score=0.650 total time=  12.2s\n",
      "[CV 3/5; 63/81] START dt__max_depth=14, pca__n_components=18....................\n",
      "[CV 3/5; 63/81] END dt__max_depth=14, pca__n_components=18;, score=0.649 total time=  15.5s\n",
      "[CV 1/5; 68/81] START dt__max_depth=16, pca__n_components=10....................\n",
      "[CV 1/5; 68/81] END dt__max_depth=16, pca__n_components=10;, score=0.621 total time=  11.4s\n",
      "[CV 2/5; 71/81] START dt__max_depth=16, pca__n_components=16....................\n",
      "[CV 2/5; 71/81] END dt__max_depth=16, pca__n_components=16;, score=0.610 total time=  14.9s\n",
      "[CV 1/5; 75/81] START dt__max_depth=18, pca__n_components=6.....................\n",
      "[CV 1/5; 75/81] END dt__max_depth=18, pca__n_components=6;, score=0.593 total time=   9.0s\n",
      "[CV 3/5; 78/81] START dt__max_depth=18, pca__n_components=12....................\n",
      "[CV 3/5; 78/81] END dt__max_depth=18, pca__n_components=12;, score=0.571 total time=  13.0s\n",
      "[CV 3/5; 81/81] START dt__max_depth=18, pca__n_components=18....................\n",
      "[CV 3/5; 81/81] END dt__max_depth=18, pca__n_components=18;, score=0.584 total time=  12.0s\n",
      "[CV 1/5; 3/25] START dt__max_depth=2, pca__n_components=10......................\n",
      "[CV 1/5; 3/25] END dt__max_depth=2, pca__n_components=10;, score=0.668 total time=   3.7s\n",
      "[CV 4/5; 6/25] START dt__max_depth=6, pca__n_components=2.......................\n",
      "[CV 4/5; 6/25] END dt__max_depth=6, pca__n_components=2;, score=0.702 total time=   2.8s\n",
      "[CV 5/5; 7/25] START dt__max_depth=6, pca__n_components=6.......................\n",
      "[CV 5/5; 7/25] END dt__max_depth=6, pca__n_components=6;, score=0.716 total time=   3.6s\n",
      "[CV 1/5; 11/25] START dt__max_depth=10, pca__n_components=2.....................\n",
      "[CV 1/5; 11/25] END dt__max_depth=10, pca__n_components=2;, score=0.670 total time=   2.6s\n",
      "[CV 5/5; 12/25] START dt__max_depth=10, pca__n_components=6.....................\n",
      "[CV 5/5; 12/25] END dt__max_depth=10, pca__n_components=6;, score=0.692 total time=   3.8s\n",
      "[CV 1/5; 16/25] START dt__max_depth=14, pca__n_components=2.....................\n",
      "[CV 1/5; 16/25] END dt__max_depth=14, pca__n_components=2;, score=0.630 total time=   2.5s\n",
      "[CV 2/5; 17/25] START dt__max_depth=14, pca__n_components=6.....................\n",
      "[CV 2/5; 17/25] END dt__max_depth=14, pca__n_components=6;, score=0.634 total time=   3.9s\n",
      "[CV 5/5; 19/25] START dt__max_depth=14, pca__n_components=14....................\n",
      "[CV 5/5; 19/25] END dt__max_depth=14, pca__n_components=14;, score=0.621 total time=   6.2s\n",
      "[CV 4/5; 23/25] START dt__max_depth=18, pca__n_components=10....................\n",
      "[CV 4/5; 23/25] END dt__max_depth=18, pca__n_components=10;, score=0.558 total time=   5.3s\n",
      "[CV 4/5] END ................rf__n_estimators=2;, score=0.565 total time=   2.6s\n",
      "[CV 1/5] END ...............rf__n_estimators=18;, score=0.651 total time=  13.1s\n",
      "[CV 2/5; 3/25] START dt__max_depth=2, pca__n_components=10......................\n",
      "[CV 2/5; 3/25] END dt__max_depth=2, pca__n_components=10;, score=0.689 total time=   8.3s\n",
      "[CV 5/5; 6/25] START dt__max_depth=6, pca__n_components=2.......................\n",
      "[CV 5/5; 6/25] END dt__max_depth=6, pca__n_components=2;, score=0.697 total time=   6.0s\n",
      "[CV 5/5; 7/25] START dt__max_depth=6, pca__n_components=6.......................\n",
      "[CV 5/5; 7/25] END dt__max_depth=6, pca__n_components=6;, score=0.714 total time=   7.7s\n",
      "[CV 1/5; 11/25] START dt__max_depth=10, pca__n_components=2.....................\n",
      "[CV 1/5; 11/25] END dt__max_depth=10, pca__n_components=2;, score=0.687 total time=   6.5s\n",
      "[CV 2/5; 13/25] START dt__max_depth=10, pca__n_components=10....................\n",
      "[CV 2/5; 13/25] END dt__max_depth=10, pca__n_components=10;, score=0.703 total time=   9.5s\n",
      "[CV 3/5; 16/25] START dt__max_depth=14, pca__n_components=2.....................\n",
      "[CV 3/5; 16/25] END dt__max_depth=14, pca__n_components=2;, score=0.657 total time=   6.7s\n",
      "[CV 5/5; 18/25] START dt__max_depth=14, pca__n_components=10....................\n",
      "[CV 5/5; 18/25] END dt__max_depth=14, pca__n_components=10;, score=0.636 total time=  11.1s\n",
      "[CV 1/5; 22/25] START dt__max_depth=18, pca__n_components=6.....................\n",
      "[CV 1/5; 22/25] END dt__max_depth=18, pca__n_components=6;, score=0.596 total time=   7.7s\n",
      "[CV 2/5; 24/25] START dt__max_depth=18, pca__n_components=14....................\n",
      "[CV 2/5; 24/25] END dt__max_depth=18, pca__n_components=14;, score=0.575 total time=  12.6s\n",
      "[CV 4/5; 2/81] START dt__max_depth=2, pca__n_components=4.......................\n",
      "[CV 4/5; 2/81] END dt__max_depth=2, pca__n_components=4;, score=0.695 total time=   6.8s\n",
      "[CV 2/5; 5/81] START dt__max_depth=2, pca__n_components=10......................\n",
      "[CV 2/5; 5/81] END dt__max_depth=2, pca__n_components=10;, score=0.689 total time=   8.4s\n",
      "[CV 4/5; 8/81] START dt__max_depth=2, pca__n_components=16......................\n",
      "[CV 4/5; 8/81] END dt__max_depth=2, pca__n_components=16;, score=0.695 total time=   9.5s\n",
      "[CV 4/5; 12/81] START dt__max_depth=4, pca__n_components=6......................\n",
      "[CV 4/5; 12/81] END dt__max_depth=4, pca__n_components=6;, score=0.714 total time=   7.1s\n",
      "[CV 5/5; 15/81] START dt__max_depth=4, pca__n_components=12.....................\n",
      "[CV 5/5; 15/81] END dt__max_depth=4, pca__n_components=12;, score=0.708 total time=   9.3s\n",
      "[CV 1/5; 19/81] START dt__max_depth=6, pca__n_components=2......................\n",
      "[CV 1/5; 19/81] END dt__max_depth=6, pca__n_components=2;, score=0.695 total time=   6.1s\n",
      "[CV 5/5; 20/81] START dt__max_depth=6, pca__n_components=4......................\n",
      "[CV 5/5; 20/81] END dt__max_depth=6, pca__n_components=4;, score=0.713 total time=   6.0s\n",
      "[CV 4/5; 23/81] START dt__max_depth=6, pca__n_components=10.....................\n",
      "[CV 4/5; 23/81] END dt__max_depth=6, pca__n_components=10;, score=0.719 total time=   8.9s\n",
      "[CV 5/5; 26/81] START dt__max_depth=6, pca__n_components=16.....................\n",
      "[CV 5/5; 26/81] END dt__max_depth=6, pca__n_components=16;, score=0.711 total time=  11.4s\n",
      "[CV 3/5; 30/81] START dt__max_depth=8, pca__n_components=6......................\n",
      "[CV 3/5; 30/81] END dt__max_depth=8, pca__n_components=6;, score=0.713 total time=   7.7s\n",
      "[CV 4/5; 33/81] START dt__max_depth=8, pca__n_components=12.....................\n",
      "[CV 4/5; 33/81] END dt__max_depth=8, pca__n_components=12;, score=0.715 total time=  10.6s\n",
      "[CV 5/5; 36/81] START dt__max_depth=8, pca__n_components=18.....................\n",
      "[CV 5/5; 36/81] END dt__max_depth=8, pca__n_components=18;, score=0.714 total time=  13.1s\n",
      "[CV 2/5; 41/81] START dt__max_depth=10, pca__n_components=10....................\n",
      "[CV 2/5; 41/81] END dt__max_depth=10, pca__n_components=10;, score=0.701 total time=  10.3s\n",
      "[CV 4/5; 44/81] START dt__max_depth=10, pca__n_components=16....................\n",
      "[CV 4/5; 44/81] END dt__max_depth=10, pca__n_components=16;, score=0.697 total time=  12.6s\n",
      "[CV 5/5; 47/81] START dt__max_depth=12, pca__n_components=4.....................\n",
      "[CV 5/5; 47/81] END dt__max_depth=12, pca__n_components=4;, score=0.680 total time=   7.1s\n",
      "[CV 1/5; 51/81] START dt__max_depth=12, pca__n_components=12....................\n",
      "[CV 1/5; 51/81] END dt__max_depth=12, pca__n_components=12;, score=0.684 total time=  11.9s\n",
      "[CV 2/5; 54/81] START dt__max_depth=12, pca__n_components=18....................\n",
      "[CV 2/5; 54/81] END dt__max_depth=12, pca__n_components=18;, score=0.687 total time=  14.9s\n",
      "[CV 5/5; 58/81] START dt__max_depth=14, pca__n_components=8.....................\n",
      "[CV 5/5; 58/81] END dt__max_depth=14, pca__n_components=8;, score=0.654 total time=  10.0s\n",
      "[CV 1/5; 62/81] START dt__max_depth=14, pca__n_components=16....................\n",
      "[CV 1/5; 62/81] END dt__max_depth=14, pca__n_components=16;, score=0.652 total time=  14.8s\n",
      "[CV 5/5; 65/81] START dt__max_depth=16, pca__n_components=4.....................\n",
      "[CV 5/5; 65/81] END dt__max_depth=16, pca__n_components=4;, score=0.620 total time=   6.4s\n",
      "[CV 2/5; 68/81] START dt__max_depth=16, pca__n_components=10....................\n",
      "[CV 2/5; 68/81] END dt__max_depth=16, pca__n_components=10;, score=0.609 total time=  11.2s\n",
      "[CV 3/5; 71/81] START dt__max_depth=16, pca__n_components=16....................\n",
      "[CV 3/5; 71/81] END dt__max_depth=16, pca__n_components=16;, score=0.606 total time=  15.1s\n",
      "[CV 3/5; 75/81] START dt__max_depth=18, pca__n_components=6.....................\n",
      "[CV 3/5; 75/81] END dt__max_depth=18, pca__n_components=6;, score=0.596 total time=   9.0s\n",
      "[CV 5/5; 78/81] START dt__max_depth=18, pca__n_components=12....................\n",
      "[CV 5/5; 78/81] END dt__max_depth=18, pca__n_components=12;, score=0.570 total time=  12.9s\n",
      "[CV 5/5; 81/81] START dt__max_depth=18, pca__n_components=18....................\n",
      "[CV 5/5; 81/81] END dt__max_depth=18, pca__n_components=18;, score=0.577 total time=  12.0s\n",
      "[CV 5/5; 3/25] START dt__max_depth=2, pca__n_components=10......................\n",
      "[CV 5/5; 3/25] END dt__max_depth=2, pca__n_components=10;, score=0.688 total time=   3.4s\n",
      "[CV 5/5; 6/25] START dt__max_depth=6, pca__n_components=2.......................\n",
      "[CV 5/5; 6/25] END dt__max_depth=6, pca__n_components=2;, score=0.701 total time=   2.9s\n",
      "[CV 1/5; 8/25] START dt__max_depth=6, pca__n_components=10......................\n",
      "[CV 1/5; 8/25] END dt__max_depth=6, pca__n_components=10;, score=0.701 total time=   4.2s\n",
      "[CV 2/5; 11/25] START dt__max_depth=10, pca__n_components=2.....................\n",
      "[CV 2/5; 11/25] END dt__max_depth=10, pca__n_components=2;, score=0.669 total time=   2.9s\n",
      "[CV 4/5; 13/25] START dt__max_depth=10, pca__n_components=10....................\n",
      "[CV 4/5; 13/25] END dt__max_depth=10, pca__n_components=10;, score=0.691 total time=   4.7s\n",
      "[CV 5/5; 16/25] START dt__max_depth=14, pca__n_components=2.....................\n",
      "[CV 5/5; 16/25] END dt__max_depth=14, pca__n_components=2;, score=0.642 total time=   2.7s\n",
      "[CV 4/5; 18/25] START dt__max_depth=14, pca__n_components=10....................\n",
      "[CV 4/5; 18/25] END dt__max_depth=14, pca__n_components=10;, score=0.627 total time=   5.2s\n",
      "[CV 5/5; 21/25] START dt__max_depth=18, pca__n_components=2.....................\n",
      "[CV 5/5; 21/25] END dt__max_depth=18, pca__n_components=2;, score=0.601 total time=   3.0s\n",
      "[CV 5/5; 23/25] START dt__max_depth=18, pca__n_components=10....................\n",
      "[CV 5/5; 23/25] END dt__max_depth=18, pca__n_components=10;, score=0.556 total time=   5.5s\n",
      "[CV 1/5] END ................rf__n_estimators=6;, score=0.609 total time=   5.9s\n",
      "[CV 3/5] END ...............rf__n_estimators=18;, score=0.657 total time=  13.1s\n",
      "[CV 5/5; 3/25] START dt__max_depth=2, pca__n_components=10......................\n",
      "[CV 5/5; 3/25] END dt__max_depth=2, pca__n_components=10;, score=0.683 total time=   8.4s\n",
      "[CV 1/5; 7/25] START dt__max_depth=6, pca__n_components=6.......................\n",
      "[CV 1/5; 7/25] END dt__max_depth=6, pca__n_components=6;, score=0.715 total time=   7.7s\n",
      "[CV 2/5; 9/25] START dt__max_depth=6, pca__n_components=14......................\n",
      "[CV 2/5; 9/25] END dt__max_depth=6, pca__n_components=14;, score=0.721 total time=  10.7s\n",
      "[CV 3/5; 12/25] START dt__max_depth=10, pca__n_components=6.....................\n",
      "[CV 3/5; 12/25] END dt__max_depth=10, pca__n_components=6;, score=0.703 total time=   8.8s\n",
      "[CV 5/5; 15/25] START dt__max_depth=10, pca__n_components=18....................\n",
      "[CV 5/5; 15/25] END dt__max_depth=10, pca__n_components=18;, score=0.701 total time=  13.2s\n",
      "[CV 5/5; 19/25] START dt__max_depth=14, pca__n_components=14....................\n",
      "[CV 5/5; 19/25] END dt__max_depth=14, pca__n_components=14;, score=0.641 total time=  13.3s\n",
      "[CV 5/5; 23/25] START dt__max_depth=18, pca__n_components=10....................\n",
      "[CV 5/5; 23/25] END dt__max_depth=18, pca__n_components=10;, score=0.583 total time=  11.0s\n",
      "[CV 1/5; 2/81] START dt__max_depth=2, pca__n_components=4.......................\n",
      "[CV 1/5; 2/81] END dt__max_depth=2, pca__n_components=4;, score=0.682 total time=   6.9s\n",
      "[CV 4/5; 5/81] START dt__max_depth=2, pca__n_components=10......................\n",
      "[CV 4/5; 5/81] END dt__max_depth=2, pca__n_components=10;, score=0.695 total time=   8.3s\n",
      "[CV 1/5; 9/81] START dt__max_depth=2, pca__n_components=18......................\n",
      "[CV 1/5; 9/81] END dt__max_depth=2, pca__n_components=18;, score=0.682 total time=   9.6s\n",
      "[CV 5/5; 12/81] START dt__max_depth=4, pca__n_components=6......................\n",
      "[CV 5/5; 12/81] END dt__max_depth=4, pca__n_components=6;, score=0.708 total time=   7.2s\n",
      "[CV 1/5; 16/81] START dt__max_depth=4, pca__n_components=14.....................\n",
      "[CV 1/5; 16/81] END dt__max_depth=4, pca__n_components=14;, score=0.709 total time=   9.6s\n",
      "[CV 2/5; 19/81] START dt__max_depth=6, pca__n_components=2......................\n",
      "[CV 2/5; 19/81] END dt__max_depth=6, pca__n_components=2;, score=0.704 total time=   5.3s\n",
      "[CV 4/5; 20/81] START dt__max_depth=6, pca__n_components=4......................\n",
      "[CV 4/5; 20/81] END dt__max_depth=6, pca__n_components=4;, score=0.720 total time=   6.9s\n",
      "[CV 1/5; 24/81] START dt__max_depth=6, pca__n_components=12.....................\n",
      "[CV 1/5; 24/81] END dt__max_depth=6, pca__n_components=12;, score=0.715 total time=  10.0s\n",
      "[CV 2/5; 27/81] START dt__max_depth=6, pca__n_components=18.....................\n",
      "[CV 2/5; 27/81] END dt__max_depth=6, pca__n_components=18;, score=0.721 total time=  12.0s\n",
      "[CV 3/5; 31/81] START dt__max_depth=8, pca__n_components=8......................\n",
      "[CV 3/5; 31/81] END dt__max_depth=8, pca__n_components=8;, score=0.715 total time=   8.8s\n",
      "[CV 4/5; 34/81] START dt__max_depth=8, pca__n_components=14.....................\n",
      "[CV 4/5; 34/81] END dt__max_depth=8, pca__n_components=14;, score=0.715 total time=  11.3s\n",
      "[CV 1/5; 38/81] START dt__max_depth=10, pca__n_components=4.....................\n",
      "[CV 1/5; 38/81] END dt__max_depth=10, pca__n_components=4;, score=0.703 total time=   6.9s\n",
      "[CV 3/5; 40/81] START dt__max_depth=10, pca__n_components=8.....................\n",
      "[CV 3/5; 40/81] END dt__max_depth=10, pca__n_components=8;, score=0.706 total time=   9.4s\n",
      "[CV 4/5; 43/81] START dt__max_depth=10, pca__n_components=14....................\n",
      "[CV 4/5; 43/81] END dt__max_depth=10, pca__n_components=14;, score=0.705 total time=  11.9s\n",
      "[CV 5/5; 46/81] START dt__max_depth=12, pca__n_components=2.....................\n",
      "[CV 5/5; 46/81] END dt__max_depth=12, pca__n_components=2;, score=0.675 total time=   4.8s\n",
      "[CV 5/5; 48/81] START dt__max_depth=12, pca__n_components=6.....................\n",
      "[CV 5/5; 48/81] END dt__max_depth=12, pca__n_components=6;, score=0.682 total time=   8.5s\n",
      "[CV 1/5; 52/81] START dt__max_depth=12, pca__n_components=14....................\n",
      "[CV 1/5; 52/81] END dt__max_depth=12, pca__n_components=14;, score=0.679 total time=  12.5s\n",
      "[CV 2/5; 55/81] START dt__max_depth=14, pca__n_components=2.....................\n",
      "[CV 2/5; 55/81] END dt__max_depth=14, pca__n_components=2;, score=0.656 total time=   6.1s\n",
      "[CV 4/5; 56/81] START dt__max_depth=14, pca__n_components=4.....................\n",
      "[CV 4/5; 56/81] END dt__max_depth=14, pca__n_components=4;, score=0.657 total time=   7.5s\n",
      "[CV 5/5; 59/81] START dt__max_depth=14, pca__n_components=10....................\n",
      "[CV 5/5; 59/81] END dt__max_depth=14, pca__n_components=10;, score=0.640 total time=  10.7s\n",
      "[CV 1/5; 63/81] START dt__max_depth=14, pca__n_components=18....................\n",
      "[CV 1/5; 63/81] END dt__max_depth=14, pca__n_components=18;, score=0.645 total time=  15.9s\n",
      "[CV 2/5; 67/81] START dt__max_depth=16, pca__n_components=8.....................\n",
      "[CV 2/5; 67/81] END dt__max_depth=16, pca__n_components=8;, score=0.622 total time=  10.4s\n",
      "[CV 3/5; 70/81] START dt__max_depth=16, pca__n_components=14....................\n",
      "[CV 3/5; 70/81] END dt__max_depth=16, pca__n_components=14;, score=0.605 total time=  13.6s\n",
      "[CV 4/5; 73/81] START dt__max_depth=18, pca__n_components=2.....................\n",
      "[CV 4/5; 73/81] END dt__max_depth=18, pca__n_components=2;, score=0.603 total time=   5.5s\n",
      "[CV 5/5; 75/81] START dt__max_depth=18, pca__n_components=6.....................\n",
      "[CV 5/5; 75/81] END dt__max_depth=18, pca__n_components=6;, score=0.600 total time=   8.1s\n",
      "[CV 2/5; 78/81] START dt__max_depth=18, pca__n_components=12....................\n",
      "[CV 2/5; 78/81] END dt__max_depth=18, pca__n_components=12;, score=0.579 total time=  13.2s\n",
      "[CV 4/5; 81/81] START dt__max_depth=18, pca__n_components=18....................\n",
      "[CV 4/5; 81/81] END dt__max_depth=18, pca__n_components=18;, score=0.575 total time=  12.2s\n"
     ]
    }
   ],
   "source": [
    "pipe.set_params(pca__n_components=6)\n",
    "pipe.set_params(dt__max_depth=6)"
   ]
  },
  {
   "cell_type": "code",
   "execution_count": 48,
   "metadata": {},
   "outputs": [
    {
     "data": {
      "text/plain": [
       "0.9200851990959791"
      ]
     },
     "execution_count": 48,
     "metadata": {},
     "output_type": "execute_result"
    }
   ],
   "source": [
    "pipe.fit(X_test,y_test)\n",
    "    "
   ]
  },
  {
   "cell_type": "code",
   "execution_count": 52,
   "metadata": {},
   "outputs": [
    {
     "name": "stdout",
     "output_type": "stream",
     "text": [
      "              precision    recall  f1-score   support\n",
      "\n",
      "         0.0       0.92      1.00      0.96     56538\n",
      "         1.0       0.62      0.03      0.05      4965\n",
      "\n",
      "    accuracy                           0.92     61503\n",
      "   macro avg       0.77      0.51      0.50     61503\n",
      "weighted avg       0.90      0.92      0.88     61503\n",
      "\n"
     ]
    }
   ],
   "source": [
    "y_pred = pipe.predict(X_test)\n",
    "print(classification_report(y_test,y_pred))"
   ]
  },
  {
   "cell_type": "markdown",
   "metadata": {
    "pycharm": {
     "name": "#%% md\n"
    }
   },
   "source": [
    "2## Ensemble Methods"
   ]
  },
  {
   "cell_type": "markdown",
   "metadata": {
    "pycharm": {
     "name": "#%% md\n"
    }
   },
   "source": [
    "### Bagging Method"
   ]
  },
  {
   "cell_type": "code",
   "execution_count": 18,
   "metadata": {
    "pycharm": {
     "is_executing": true,
     "name": "#%%\n"
    }
   },
   "outputs": [
    {
     "name": "stdout",
     "output_type": "stream",
     "text": [
      "Fitting 5 folds for each of 5 candidates, totalling 25 fits\n"
     ]
    },
    {
     "data": {
      "text/plain": [
       "GridSearchCV(cv=5,\n",
       "             estimator=Pipeline(steps=[('scaler', StandardScaler()),\n",
       "                                       ('rf', RandomForestClassifier())]),\n",
       "             n_jobs=-1,\n",
       "             param_grid={'rf__n_estimators': array([ 2,  6, 10, 14, 18])},\n",
       "             scoring='roc_auc', verbose=5)"
      ]
     },
     "execution_count": 18,
     "metadata": {},
     "output_type": "execute_result"
    }
   ],
   "source": [
    "# Create the BaggingClassifier object\n",
    "rf = RandomForestClassifier()\n",
    "# Create the pipeline object\n",
    "pipe = Pipeline(steps=[('scaler',scaler),('rf',rf)])\n",
    "params = {'rf__n_estimators':np.arange(2,20,4)}\n",
    "#\n",
    "grid = GridSearchCV(pipe,params,cv=5,scoring= 'roc_auc',verbose = 5,n_jobs=-1) #n_jobs=-1 means it will use all the available cores in the computer\n",
    "grid.fit(X_train,y_train) #verbose=1 to show the progress of the GridSearchCV object"
   ]
  },
  {
   "cell_type": "code",
   "execution_count": 19,
   "metadata": {
    "pycharm": {
     "is_executing": true,
     "name": "#%%\n"
    }
   },
   "outputs": [
    {
     "data": {
      "text/plain": [
       "Pipeline(steps=[('scaler', StandardScaler()),\n",
       "                ('rf', RandomForestClassifier(n_estimators=18))])"
      ]
     },
     "execution_count": 19,
     "metadata": {},
     "output_type": "execute_result"
    }
   ],
   "source": [
    "best_est = grid.best_estimator_\n",
    "best_est"
   ]
  },
  {
   "cell_type": "code",
   "execution_count": 20,
   "metadata": {
    "pycharm": {
     "is_executing": true,
     "name": "#%%\n"
    }
   },
   "outputs": [],
   "source": [
    "# Create the BaggingClassifier object\n",
    "rf = RandomForestClassifier(n_estimators=18)\n",
    "# Create the pipeline object\n",
    "pipe = Pipeline(steps=[('scaler',scaler),('rf',rf)])"
   ]
  },
  {
   "cell_type": "code",
   "execution_count": 21,
   "metadata": {
    "pycharm": {
     "is_executing": true,
     "name": "#%%\n"
    }
   },
   "outputs": [
    {
     "data": {
      "text/plain": [
       "0.9928272973687043"
      ]
     },
     "execution_count": 21,
     "metadata": {},
     "output_type": "execute_result"
    }
   ],
   "source": [
    "pipe.fit(X_train,y_train)\n",
    "pipe.score(X_train,y_train)# rbose=1 to show the progress of the GridSearchCV object"
   ]
  },
  {
   "cell_type": "code",
   "execution_count": 22,
   "metadata": {
    "pycharm": {
     "is_executing": true,
     "name": "#%%\n"
    }
   },
   "outputs": [
    {
     "ename": "ValueError",
     "evalue": "Input contains NaN, infinity or a value too large for dtype('float32').",
     "output_type": "error",
     "traceback": [
      "\u001B[0;31m---------------------------------------------------------------------------\u001B[0m",
      "\u001B[0;31mValueError\u001B[0m                                Traceback (most recent call last)",
      "\u001B[0;32m/tmp/ipykernel_29637/421110370.py\u001B[0m in \u001B[0;36m<cell line: 1>\u001B[0;34m()\u001B[0m\n\u001B[0;32m----> 1\u001B[0;31m \u001B[0mpipe\u001B[0m\u001B[0;34m.\u001B[0m\u001B[0mscore\u001B[0m\u001B[0;34m(\u001B[0m\u001B[0mX_val\u001B[0m\u001B[0;34m,\u001B[0m\u001B[0my_val\u001B[0m\u001B[0;34m)\u001B[0m\u001B[0;34m\u001B[0m\u001B[0;34m\u001B[0m\u001B[0m\n\u001B[0m",
      "\u001B[0;32m~/anaconda3/envs/python3/lib/python3.8/site-packages/sklearn/utils/metaestimators.py\u001B[0m in \u001B[0;36m<lambda>\u001B[0;34m(*args, **kwargs)\u001B[0m\n\u001B[1;32m    111\u001B[0m \u001B[0;34m\u001B[0m\u001B[0m\n\u001B[1;32m    112\u001B[0m             \u001B[0;31m# lambda, but not partial, allows help() to work with update_wrapper\u001B[0m\u001B[0;34m\u001B[0m\u001B[0;34m\u001B[0m\u001B[0;34m\u001B[0m\u001B[0m\n\u001B[0;32m--> 113\u001B[0;31m             \u001B[0mout\u001B[0m \u001B[0;34m=\u001B[0m \u001B[0;32mlambda\u001B[0m \u001B[0;34m*\u001B[0m\u001B[0margs\u001B[0m\u001B[0;34m,\u001B[0m \u001B[0;34m**\u001B[0m\u001B[0mkwargs\u001B[0m\u001B[0;34m:\u001B[0m \u001B[0mself\u001B[0m\u001B[0;34m.\u001B[0m\u001B[0mfn\u001B[0m\u001B[0;34m(\u001B[0m\u001B[0mobj\u001B[0m\u001B[0;34m,\u001B[0m \u001B[0;34m*\u001B[0m\u001B[0margs\u001B[0m\u001B[0;34m,\u001B[0m \u001B[0;34m**\u001B[0m\u001B[0mkwargs\u001B[0m\u001B[0;34m)\u001B[0m  \u001B[0;31m# noqa\u001B[0m\u001B[0;34m\u001B[0m\u001B[0;34m\u001B[0m\u001B[0m\n\u001B[0m\u001B[1;32m    114\u001B[0m         \u001B[0;32melse\u001B[0m\u001B[0;34m:\u001B[0m\u001B[0;34m\u001B[0m\u001B[0;34m\u001B[0m\u001B[0m\n\u001B[1;32m    115\u001B[0m \u001B[0;34m\u001B[0m\u001B[0m\n",
      "\u001B[0;32m~/anaconda3/envs/python3/lib/python3.8/site-packages/sklearn/pipeline.py\u001B[0m in \u001B[0;36mscore\u001B[0;34m(self, X, y, sample_weight)\u001B[0m\n\u001B[1;32m    709\u001B[0m         \u001B[0;32mif\u001B[0m \u001B[0msample_weight\u001B[0m \u001B[0;32mis\u001B[0m \u001B[0;32mnot\u001B[0m \u001B[0;32mNone\u001B[0m\u001B[0;34m:\u001B[0m\u001B[0;34m\u001B[0m\u001B[0;34m\u001B[0m\u001B[0m\n\u001B[1;32m    710\u001B[0m             \u001B[0mscore_params\u001B[0m\u001B[0;34m[\u001B[0m\u001B[0;34m\"sample_weight\"\u001B[0m\u001B[0;34m]\u001B[0m \u001B[0;34m=\u001B[0m \u001B[0msample_weight\u001B[0m\u001B[0;34m\u001B[0m\u001B[0;34m\u001B[0m\u001B[0m\n\u001B[0;32m--> 711\u001B[0;31m         \u001B[0;32mreturn\u001B[0m \u001B[0mself\u001B[0m\u001B[0;34m.\u001B[0m\u001B[0msteps\u001B[0m\u001B[0;34m[\u001B[0m\u001B[0;34m-\u001B[0m\u001B[0;36m1\u001B[0m\u001B[0;34m]\u001B[0m\u001B[0;34m[\u001B[0m\u001B[0;36m1\u001B[0m\u001B[0;34m]\u001B[0m\u001B[0;34m.\u001B[0m\u001B[0mscore\u001B[0m\u001B[0;34m(\u001B[0m\u001B[0mXt\u001B[0m\u001B[0;34m,\u001B[0m \u001B[0my\u001B[0m\u001B[0;34m,\u001B[0m \u001B[0;34m**\u001B[0m\u001B[0mscore_params\u001B[0m\u001B[0;34m)\u001B[0m\u001B[0;34m\u001B[0m\u001B[0;34m\u001B[0m\u001B[0m\n\u001B[0m\u001B[1;32m    712\u001B[0m \u001B[0;34m\u001B[0m\u001B[0m\n\u001B[1;32m    713\u001B[0m     \u001B[0;34m@\u001B[0m\u001B[0mproperty\u001B[0m\u001B[0;34m\u001B[0m\u001B[0;34m\u001B[0m\u001B[0m\n",
      "\u001B[0;32m~/anaconda3/envs/python3/lib/python3.8/site-packages/sklearn/base.py\u001B[0m in \u001B[0;36mscore\u001B[0;34m(self, X, y, sample_weight)\u001B[0m\n\u001B[1;32m    644\u001B[0m         \u001B[0;32mfrom\u001B[0m \u001B[0;34m.\u001B[0m\u001B[0mmetrics\u001B[0m \u001B[0;32mimport\u001B[0m \u001B[0maccuracy_score\u001B[0m\u001B[0;34m\u001B[0m\u001B[0;34m\u001B[0m\u001B[0m\n\u001B[1;32m    645\u001B[0m \u001B[0;34m\u001B[0m\u001B[0m\n\u001B[0;32m--> 646\u001B[0;31m         \u001B[0;32mreturn\u001B[0m \u001B[0maccuracy_score\u001B[0m\u001B[0;34m(\u001B[0m\u001B[0my\u001B[0m\u001B[0;34m,\u001B[0m \u001B[0mself\u001B[0m\u001B[0;34m.\u001B[0m\u001B[0mpredict\u001B[0m\u001B[0;34m(\u001B[0m\u001B[0mX\u001B[0m\u001B[0;34m)\u001B[0m\u001B[0;34m,\u001B[0m \u001B[0msample_weight\u001B[0m\u001B[0;34m=\u001B[0m\u001B[0msample_weight\u001B[0m\u001B[0;34m)\u001B[0m\u001B[0;34m\u001B[0m\u001B[0;34m\u001B[0m\u001B[0m\n\u001B[0m\u001B[1;32m    647\u001B[0m \u001B[0;34m\u001B[0m\u001B[0m\n\u001B[1;32m    648\u001B[0m     \u001B[0;32mdef\u001B[0m \u001B[0m_more_tags\u001B[0m\u001B[0;34m(\u001B[0m\u001B[0mself\u001B[0m\u001B[0;34m)\u001B[0m\u001B[0;34m:\u001B[0m\u001B[0;34m\u001B[0m\u001B[0;34m\u001B[0m\u001B[0m\n",
      "\u001B[0;32m~/anaconda3/envs/python3/lib/python3.8/site-packages/sklearn/ensemble/_forest.py\u001B[0m in \u001B[0;36mpredict\u001B[0;34m(self, X)\u001B[0m\n\u001B[1;32m    796\u001B[0m             \u001B[0mThe\u001B[0m \u001B[0mpredicted\u001B[0m \u001B[0mclasses\u001B[0m\u001B[0;34m.\u001B[0m\u001B[0;34m\u001B[0m\u001B[0;34m\u001B[0m\u001B[0m\n\u001B[1;32m    797\u001B[0m         \"\"\"\n\u001B[0;32m--> 798\u001B[0;31m         \u001B[0mproba\u001B[0m \u001B[0;34m=\u001B[0m \u001B[0mself\u001B[0m\u001B[0;34m.\u001B[0m\u001B[0mpredict_proba\u001B[0m\u001B[0;34m(\u001B[0m\u001B[0mX\u001B[0m\u001B[0;34m)\u001B[0m\u001B[0;34m\u001B[0m\u001B[0;34m\u001B[0m\u001B[0m\n\u001B[0m\u001B[1;32m    799\u001B[0m \u001B[0;34m\u001B[0m\u001B[0m\n\u001B[1;32m    800\u001B[0m         \u001B[0;32mif\u001B[0m \u001B[0mself\u001B[0m\u001B[0;34m.\u001B[0m\u001B[0mn_outputs_\u001B[0m \u001B[0;34m==\u001B[0m \u001B[0;36m1\u001B[0m\u001B[0;34m:\u001B[0m\u001B[0;34m\u001B[0m\u001B[0;34m\u001B[0m\u001B[0m\n",
      "\u001B[0;32m~/anaconda3/envs/python3/lib/python3.8/site-packages/sklearn/ensemble/_forest.py\u001B[0m in \u001B[0;36mpredict_proba\u001B[0;34m(self, X)\u001B[0m\n\u001B[1;32m    838\u001B[0m         \u001B[0mcheck_is_fitted\u001B[0m\u001B[0;34m(\u001B[0m\u001B[0mself\u001B[0m\u001B[0;34m)\u001B[0m\u001B[0;34m\u001B[0m\u001B[0;34m\u001B[0m\u001B[0m\n\u001B[1;32m    839\u001B[0m         \u001B[0;31m# Check data\u001B[0m\u001B[0;34m\u001B[0m\u001B[0;34m\u001B[0m\u001B[0;34m\u001B[0m\u001B[0m\n\u001B[0;32m--> 840\u001B[0;31m         \u001B[0mX\u001B[0m \u001B[0;34m=\u001B[0m \u001B[0mself\u001B[0m\u001B[0;34m.\u001B[0m\u001B[0m_validate_X_predict\u001B[0m\u001B[0;34m(\u001B[0m\u001B[0mX\u001B[0m\u001B[0;34m)\u001B[0m\u001B[0;34m\u001B[0m\u001B[0;34m\u001B[0m\u001B[0m\n\u001B[0m\u001B[1;32m    841\u001B[0m \u001B[0;34m\u001B[0m\u001B[0m\n\u001B[1;32m    842\u001B[0m         \u001B[0;31m# Assign chunk of trees to jobs\u001B[0m\u001B[0;34m\u001B[0m\u001B[0;34m\u001B[0m\u001B[0;34m\u001B[0m\u001B[0m\n",
      "\u001B[0;32m~/anaconda3/envs/python3/lib/python3.8/site-packages/sklearn/ensemble/_forest.py\u001B[0m in \u001B[0;36m_validate_X_predict\u001B[0;34m(self, X)\u001B[0m\n\u001B[1;32m    567\u001B[0m         Validate X whenever one tries to predict, apply, predict_proba.\"\"\"\n\u001B[1;32m    568\u001B[0m         \u001B[0mcheck_is_fitted\u001B[0m\u001B[0;34m(\u001B[0m\u001B[0mself\u001B[0m\u001B[0;34m)\u001B[0m\u001B[0;34m\u001B[0m\u001B[0;34m\u001B[0m\u001B[0m\n\u001B[0;32m--> 569\u001B[0;31m         \u001B[0mX\u001B[0m \u001B[0;34m=\u001B[0m \u001B[0mself\u001B[0m\u001B[0;34m.\u001B[0m\u001B[0m_validate_data\u001B[0m\u001B[0;34m(\u001B[0m\u001B[0mX\u001B[0m\u001B[0;34m,\u001B[0m \u001B[0mdtype\u001B[0m\u001B[0;34m=\u001B[0m\u001B[0mDTYPE\u001B[0m\u001B[0;34m,\u001B[0m \u001B[0maccept_sparse\u001B[0m\u001B[0;34m=\u001B[0m\u001B[0;34m\"csr\"\u001B[0m\u001B[0;34m,\u001B[0m \u001B[0mreset\u001B[0m\u001B[0;34m=\u001B[0m\u001B[0;32mFalse\u001B[0m\u001B[0;34m)\u001B[0m\u001B[0;34m\u001B[0m\u001B[0;34m\u001B[0m\u001B[0m\n\u001B[0m\u001B[1;32m    570\u001B[0m         \u001B[0;32mif\u001B[0m \u001B[0missparse\u001B[0m\u001B[0;34m(\u001B[0m\u001B[0mX\u001B[0m\u001B[0;34m)\u001B[0m \u001B[0;32mand\u001B[0m \u001B[0;34m(\u001B[0m\u001B[0mX\u001B[0m\u001B[0;34m.\u001B[0m\u001B[0mindices\u001B[0m\u001B[0;34m.\u001B[0m\u001B[0mdtype\u001B[0m \u001B[0;34m!=\u001B[0m \u001B[0mnp\u001B[0m\u001B[0;34m.\u001B[0m\u001B[0mintc\u001B[0m \u001B[0;32mor\u001B[0m \u001B[0mX\u001B[0m\u001B[0;34m.\u001B[0m\u001B[0mindptr\u001B[0m\u001B[0;34m.\u001B[0m\u001B[0mdtype\u001B[0m \u001B[0;34m!=\u001B[0m \u001B[0mnp\u001B[0m\u001B[0;34m.\u001B[0m\u001B[0mintc\u001B[0m\u001B[0;34m)\u001B[0m\u001B[0;34m:\u001B[0m\u001B[0;34m\u001B[0m\u001B[0;34m\u001B[0m\u001B[0m\n\u001B[1;32m    571\u001B[0m             \u001B[0;32mraise\u001B[0m \u001B[0mValueError\u001B[0m\u001B[0;34m(\u001B[0m\u001B[0;34m\"No support for np.int64 index based sparse matrices\"\u001B[0m\u001B[0;34m)\u001B[0m\u001B[0;34m\u001B[0m\u001B[0;34m\u001B[0m\u001B[0m\n",
      "\u001B[0;32m~/anaconda3/envs/python3/lib/python3.8/site-packages/sklearn/base.py\u001B[0m in \u001B[0;36m_validate_data\u001B[0;34m(self, X, y, reset, validate_separately, **check_params)\u001B[0m\n\u001B[1;32m    559\u001B[0m             \u001B[0;32mraise\u001B[0m \u001B[0mValueError\u001B[0m\u001B[0;34m(\u001B[0m\u001B[0;34m\"Validation should be done on X, y or both.\"\u001B[0m\u001B[0;34m)\u001B[0m\u001B[0;34m\u001B[0m\u001B[0;34m\u001B[0m\u001B[0m\n\u001B[1;32m    560\u001B[0m         \u001B[0;32melif\u001B[0m \u001B[0;32mnot\u001B[0m \u001B[0mno_val_X\u001B[0m \u001B[0;32mand\u001B[0m \u001B[0mno_val_y\u001B[0m\u001B[0;34m:\u001B[0m\u001B[0;34m\u001B[0m\u001B[0;34m\u001B[0m\u001B[0m\n\u001B[0;32m--> 561\u001B[0;31m             \u001B[0mX\u001B[0m \u001B[0;34m=\u001B[0m \u001B[0mcheck_array\u001B[0m\u001B[0;34m(\u001B[0m\u001B[0mX\u001B[0m\u001B[0;34m,\u001B[0m \u001B[0;34m**\u001B[0m\u001B[0mcheck_params\u001B[0m\u001B[0;34m)\u001B[0m\u001B[0;34m\u001B[0m\u001B[0;34m\u001B[0m\u001B[0m\n\u001B[0m\u001B[1;32m    562\u001B[0m             \u001B[0mout\u001B[0m \u001B[0;34m=\u001B[0m \u001B[0mX\u001B[0m\u001B[0;34m\u001B[0m\u001B[0;34m\u001B[0m\u001B[0m\n\u001B[1;32m    563\u001B[0m         \u001B[0;32melif\u001B[0m \u001B[0mno_val_X\u001B[0m \u001B[0;32mand\u001B[0m \u001B[0;32mnot\u001B[0m \u001B[0mno_val_y\u001B[0m\u001B[0;34m:\u001B[0m\u001B[0;34m\u001B[0m\u001B[0;34m\u001B[0m\u001B[0m\n",
      "\u001B[0;32m~/anaconda3/envs/python3/lib/python3.8/site-packages/sklearn/utils/validation.py\u001B[0m in \u001B[0;36mcheck_array\u001B[0;34m(array, accept_sparse, accept_large_sparse, dtype, order, copy, force_all_finite, ensure_2d, allow_nd, ensure_min_samples, ensure_min_features, estimator)\u001B[0m\n\u001B[1;32m    790\u001B[0m \u001B[0;34m\u001B[0m\u001B[0m\n\u001B[1;32m    791\u001B[0m         \u001B[0;32mif\u001B[0m \u001B[0mforce_all_finite\u001B[0m\u001B[0;34m:\u001B[0m\u001B[0;34m\u001B[0m\u001B[0;34m\u001B[0m\u001B[0m\n\u001B[0;32m--> 792\u001B[0;31m             \u001B[0m_assert_all_finite\u001B[0m\u001B[0;34m(\u001B[0m\u001B[0marray\u001B[0m\u001B[0;34m,\u001B[0m \u001B[0mallow_nan\u001B[0m\u001B[0;34m=\u001B[0m\u001B[0mforce_all_finite\u001B[0m \u001B[0;34m==\u001B[0m \u001B[0;34m\"allow-nan\"\u001B[0m\u001B[0;34m)\u001B[0m\u001B[0;34m\u001B[0m\u001B[0;34m\u001B[0m\u001B[0m\n\u001B[0m\u001B[1;32m    793\u001B[0m \u001B[0;34m\u001B[0m\u001B[0m\n\u001B[1;32m    794\u001B[0m     \u001B[0;32mif\u001B[0m \u001B[0mensure_min_samples\u001B[0m \u001B[0;34m>\u001B[0m \u001B[0;36m0\u001B[0m\u001B[0;34m:\u001B[0m\u001B[0;34m\u001B[0m\u001B[0;34m\u001B[0m\u001B[0m\n",
      "\u001B[0;32m~/anaconda3/envs/python3/lib/python3.8/site-packages/sklearn/utils/validation.py\u001B[0m in \u001B[0;36m_assert_all_finite\u001B[0;34m(X, allow_nan, msg_dtype)\u001B[0m\n\u001B[1;32m    112\u001B[0m         ):\n\u001B[1;32m    113\u001B[0m             \u001B[0mtype_err\u001B[0m \u001B[0;34m=\u001B[0m \u001B[0;34m\"infinity\"\u001B[0m \u001B[0;32mif\u001B[0m \u001B[0mallow_nan\u001B[0m \u001B[0;32melse\u001B[0m \u001B[0;34m\"NaN, infinity\"\u001B[0m\u001B[0;34m\u001B[0m\u001B[0;34m\u001B[0m\u001B[0m\n\u001B[0;32m--> 114\u001B[0;31m             raise ValueError(\n\u001B[0m\u001B[1;32m    115\u001B[0m                 msg_err.format(\n\u001B[1;32m    116\u001B[0m                     \u001B[0mtype_err\u001B[0m\u001B[0;34m,\u001B[0m \u001B[0mmsg_dtype\u001B[0m \u001B[0;32mif\u001B[0m \u001B[0mmsg_dtype\u001B[0m \u001B[0;32mis\u001B[0m \u001B[0;32mnot\u001B[0m \u001B[0;32mNone\u001B[0m \u001B[0;32melse\u001B[0m \u001B[0mX\u001B[0m\u001B[0;34m.\u001B[0m\u001B[0mdtype\u001B[0m\u001B[0;34m\u001B[0m\u001B[0;34m\u001B[0m\u001B[0m\n",
      "\u001B[0;31mValueError\u001B[0m: Input contains NaN, infinity or a value too large for dtype('float32')."
     ]
    }
   ],
   "source": [
    "pipe.score(X_val,y_val)"
   ]
  },
  {
   "cell_type": "code",
   "execution_count": null,
   "metadata": {
    "pycharm": {
     "is_executing": true,
     "name": "#%%\n"
    }
   },
   "outputs": [],
   "source": [
    "y_pred = pipe.predict(X_test)"
   ]
  },
  {
   "cell_type": "code",
   "execution_count": null,
   "metadata": {
    "pycharm": {
     "is_executing": true,
     "name": "#%%\n"
    }
   },
   "outputs": [],
   "source": [
    "1print(classification_report(y_test,y_pred))"
   ]
  },
  {
   "cell_type": "code",
   "execution_count": null,
   "metadata": {
    "pycharm": {
     "is_executing": true,
     "name": "#%%\n"
    }
   },
   "outputs": [],
   "source": []
  }
 ],
 "metadata": {
  "kernelspec": {
   "display_name": "conda_python3",
   "language": "python",
   "name": "conda_python3"
  },
  "language_info": {
   "codemirror_mode": {
    "name": "ipython",
    "version": 3
   },
   "file_extension": ".py",
   "mimetype": "text/x-python",
   "name": "python",
   "nbconvert_exporter": "python",
   "pygments_lexer": "ipython3",
   "version": "3.8.12"
  }
 },
 "nbformat": 4,
 "nbformat_minor": 1
}