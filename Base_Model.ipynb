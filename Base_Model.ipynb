{
 "cells": [
  {
   "cell_type": "code",
   "execution_count": 153,
   "outputs": [],
   "source": [
    "# Create the StandardScaler() object to standardize the data\n",
    "scaler = StandardScaler()\n",
    "# Create the PCA object\n",
    "pca = PCA()\n",
    "# Create the DecisionTreeClassifier object\n",
    "dt = DecisionTreeClassifier()"
   ],
   "metadata": {
    "collapsed": false,
    "pycharm": {
     "name": "#%%\n"
    }
   }
  },
  {
   "cell_type": "code",
   "execution_count": 154,
   "outputs": [],
   "source": [
    "# Create the pipeline object\n",
    "pipe = Pipeline(steps=[('scaler',scaler),('pca',pca),('dt',dt)])"
   ],
   "metadata": {
    "collapsed": false,
    "pycharm": {
     "name": "#%%\n"
    }
   }
  },
  {
   "cell_type": "code",
   "execution_count": 155,
   "outputs": [],
   "source": [
    "# Set the number of components to be used in the PCA\n",
    "n_components = np.arange(2,20,4)\n",
    "# Set the max_depth to be used in the DecisionTreeClassifier\n",
    "max_depth = np.arange(2,20,4)\n",
    "params = {'pca__n_components':n_components,'dt__max_depth':max_depth}"
   ],
   "metadata": {
    "collapsed": false,
    "pycharm": {
     "name": "#%%\n"
    }
   }
  },
  {
   "cell_type": "code",
   "execution_count": 156,
   "outputs": [],
   "source": [
    "# Create the GridSearchCV object and set the parameters to be used in the GridSearchCV object and cross-validation to be used in the GridSearchCV object\n",
    "grid = GridSearchCV(pipe,params,cv=5,scoring= 'roc_auc',verbose = 10,n_jobs=-1) #n_jobs=-1 means it will use all the available cores in the computer"
   ],
   "metadata": {
    "collapsed": false,
    "pycharm": {
     "name": "#%%\n"
    }
   }
  },
  {
   "cell_type": "code",
   "execution_count": 157,
   "outputs": [
    {
     "name": "stdout",
     "output_type": "stream",
     "text": [
      "Fitting 5 folds for each of 25 candidates, totalling 125 fits\n"
     ]
    },
    {
     "data": {
      "text/plain": [
       "GridSearchCV(cv=5,\n",
       "             estimator=Pipeline(steps=[('scaler', StandardScaler()),\n",
       "                                       ('pca', PCA()),\n",
       "                                       ('dt', DecisionTreeClassifier())]),\n",
       "             n_jobs=-1,\n",
       "             param_grid={'dt__max_depth': array([ 2,  6, 10, 14, 18]),\n",
       "                         'pca__n_components': array([ 2,  6, 10, 14, 18])},\n",
       "             scoring='roc_auc', verbose=10)"
      ]
     },
     "execution_count": 157,
     "metadata": {},
     "output_type": "execute_result"
    }
   ],
   "source": [
    "# Fit the GridSearchCV object to the training data\n",
    "grid.fit(X_train,y_train) #verbose=1 to show the progress of the GridSearchCV object"
   ],
   "metadata": {
    "collapsed": false,
    "pycharm": {
     "name": "#%%\n"
    }
   }
  },
  {
   "cell_type": "code",
   "execution_count": 158,
   "outputs": [
    {
     "data": {
      "text/plain": [
       "Pipeline(steps=[('scaler', StandardScaler()), ('pca', PCA(n_components=6)),\n",
       "                ('dt', DecisionTreeClassifier(max_depth=6))])"
      ]
     },
     "execution_count": 158,
     "metadata": {},
     "output_type": "execute_result"
    }
   ],
   "source": [
    "# Get the best estimator from the GridSearchCV object\n",
    "best_est = grid.best_estimator_\n",
    "best_est"
   ],
   "metadata": {
    "collapsed": false,
    "pycharm": {
     "name": "#%%\n"
    }
   }
  },
  {
   "cell_type": "code",
   "execution_count": 159,
   "outputs": [
    {
     "data": {
      "image/png": "[encoded data removed]",
      "text/plain": [
       "<Figure size 864x576 with 1 Axes>"
      ]
     },
     "metadata": {
      "needs_background": "light"
     },
     "output_type": "display_data"
    }
   ],
   "source": [
    "plt.figure(figsize=(12,8))\n",
    "plt.hist(y_train)\n",
    "plt.show()"
   ],
   "metadata": {
    "collapsed": false,
    "pycharm": {
     "name": "#%%\n"
    }
   }
  },
  {
   "cell_type": "markdown",
   "source": [
    "2## Ensemble Methods"
   ],
   "metadata": {
    "collapsed": false,
    "pycharm": {
     "name": "#%% md\n"
    }
   }
  }
 ],
 "metadata": {
  "kernelspec": {
   "display_name": "Python 3",
   "language": "python",
   "name": "python3"
  },
  "language_info": {
   "codemirror_mode": {
    "name": "ipython",
    "version": 2
   },
   "file_extension": ".py",
   "mimetype": "text/x-python",
   "name": "python",
   "nbconvert_exporter": "python",
   "pygments_lexer": "ipython2",
   "version": "2.7.6"
  }
 },
 "nbformat": 4,
 "nbformat_minor": 0
}